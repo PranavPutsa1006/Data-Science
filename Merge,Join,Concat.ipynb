{
  "nbformat": 4,
  "nbformat_minor": 0,
  "metadata": {
    "colab": {
      "name": "6. Merge, Join, Concat org.ipynb",
      "provenance": [],
      "collapsed_sections": [],
      "authorship_tag": "ABX9TyOyLECrDAj8YIxgungAD2Nm",
      "include_colab_link": true
    },
    "kernelspec": {
      "name": "python3",
      "display_name": "Python 3"
    }
  },
  "cells": [
    {
      "cell_type": "markdown",
      "metadata": {
        "id": "view-in-github",
        "colab_type": "text"
      },
      "source": [
        "<a href=\"https://colab.research.google.com/github/PranavPutsa1006/Data-Science/blob/main/Merge%2CJoin%2CConcat.ipynb\" target=\"_parent\"><img src=\"https://colab.research.google.com/assets/colab-badge.svg\" alt=\"Open In Colab\"/></a>"
      ]
    },
    {
      "cell_type": "markdown",
      "metadata": {
        "id": "Zyb4ACdbsqOF"
      },
      "source": [
        "**Pandas Merging, Joining, and Concatenating**\n",
        "\n",
        "We can join, merge, and concat dataframe using different methods. \n",
        "\n",
        "In Dataframe df.merge(),df.join(), and df.concat() methods help in joining, merging and concating different dataframe."
      ]
    },
    {
      "cell_type": "markdown",
      "metadata": {
        "id": "MumetJa3s7vN"
      },
      "source": [
        "**Concatenating DataFrame **\n",
        "\n",
        "In order to concat dataframe, we use concat() function which helps in concatenating a dataframe. We can concat a dataframe in many different ways, they are:\n",
        "\n",
        "    1)Concatenating DataFrame using .concat()\n",
        "\n",
        "    2)Concatenating DataFrame by setting logic on axes\n",
        "\n",
        "    3)Concatenating DataFrame using .append()\n",
        "\n",
        "    4)Concatenating DataFrame by ignoring indexes\n",
        "\n",
        "    5)Concatenating DataFrame with group keys\n",
        "\n",
        "    6)Concatenating with mixed ndims\n"
      ]
    },
    {
      "cell_type": "code",
      "metadata": {
        "id": "72s23HtotScB",
        "colab": {
          "base_uri": "https://localhost:8080/",
          "height": 202
        },
        "outputId": "c0f28dc2-fd55-4c75-8ee4-618d217842b3"
      },
      "source": [
        "# importing pandas module\n",
        "import pandas as pd \n",
        " \n",
        "# Define a dictionary containing employee data \n",
        "data1 = {'Name':['Jai', 'Princi', 'Gaurav', 'Anuj'], \n",
        "        'Age':[27, 24, 22, 32], \n",
        "        'Address':['Nagpur', 'Kanpur', 'Allahabad', 'Kannuaj'], \n",
        "        'Qualification':['Msc', 'MA', 'MCA', 'Phd']} \n",
        "   \n",
        "# Define a dictionary containing employee data \n",
        "data2 = {'Name':['Abhi', 'Ayushi', 'Dhiraj', 'Hitesh'], \n",
        "        'Age':[17, 14, 12, 52], \n",
        "        'Address':['Nagpur', 'Kanpur', 'Allahabad', 'Kannuaj'], \n",
        "        'Qualification':['Btech', 'B.A', 'Bcom', 'B.hons']} \n",
        " \n",
        "# Convert the dictionary into DataFrame  \n",
        "df = pd.DataFrame(data1,index=[0, 1, 2, 3])\n",
        " \n",
        "# Convert the dictionary into DataFrame  \n",
        "df1 = pd.DataFrame(data2, index=[4, 5, 6, 7])\n",
        " \n",
        "print(df, \"\\n\\n\", df1) \n",
        "\n"
      ],
      "execution_count": null,
      "outputs": [
        {
          "output_type": "stream",
          "text": [
            "     Name  Age    Address Qualification\n",
            "0     Jai   27     Nagpur           Msc\n",
            "1  Princi   24     Kanpur            MA\n",
            "2  Gaurav   22  Allahabad           MCA\n",
            "3    Anuj   32    Kannuaj           Phd \n",
            "\n",
            "      Name  Age    Address Qualification\n",
            "4    Abhi   17     Nagpur         Btech\n",
            "5  Ayushi   14     Kanpur           B.A\n",
            "6  Dhiraj   12  Allahabad          Bcom\n",
            "7  Hitesh   52    Kannuaj        B.hons\n"
          ],
          "name": "stdout"
        }
      ]
    },
    {
      "cell_type": "markdown",
      "metadata": {
        "id": "e_d5UVczvf45"
      },
      "source": [
        "**Concatenating DataFrame by setting logic on axes :**\n",
        "\n",
        "In order to concat dataframe, we have to set different logic on axes. We can set axes in the following ways:\n",
        "\n",
        "    1)Taking the union of them all, join='outer'. This is the default option as it results in zero information loss.\n",
        "\n",
        "    2)Taking the intersection, join='inner'.\n",
        "\n"
      ]
    },
    {
      "cell_type": "code",
      "metadata": {
        "id": "K4KrD9EgskSE",
        "colab": {
          "base_uri": "https://localhost:8080/",
          "height": 202
        },
        "outputId": "8420e1c8-b9ac-483b-c0e8-da15be02cb08"
      },
      "source": [
        "# importing pandas module\n",
        "import pandas as pd \n",
        " \n",
        "# Define a dictionary containing employee data \n",
        "data1 = {'Name':['Jai', 'Princi', 'Gaurav', 'Anuj'], \n",
        "        'Age':[27, 24, 22, 32], \n",
        "        'Address':['Nagpur', 'Kanpur', 'Allahabad', 'Kannuaj'], \n",
        "        'Qualification':['Msc', 'MA', 'MCA', 'Phd'],\n",
        "        'Marks': [97, 91, 58, 76]} \n",
        "   \n",
        "# Define a dictionary containing employee data \n",
        "data2 = {'Name':['Gaurav', 'Anuj', 'Dhiraj', 'Hitesh'], \n",
        "        'Age':[22, 32, 12, 52], \n",
        "        'Address':['Allahabad', 'Kannuaj', 'Allahabad', 'Kannuaj'], \n",
        "        'Qualification':['MCA', 'Phd', 'Bcom', 'B.hons'],\n",
        "        'Salary':[1000, 2000, 3000, 4000]} \n",
        " \n",
        "# Convert the dictionary into DataFrame  \n",
        "df = pd.DataFrame(data1,index=[0, 1, 2, 3])\n",
        " \n",
        "# Convert the dictionary into DataFrame  \n",
        "df1 = pd.DataFrame(data2, index=[2, 3, 6, 7]) \n",
        " \n",
        "print(df, \"\\n\\n\", df1) "
      ],
      "execution_count": null,
      "outputs": [
        {
          "output_type": "stream",
          "text": [
            "     Name  Age    Address Qualification  Marks\n",
            "0     Jai   27     Nagpur           Msc     97\n",
            "1  Princi   24     Kanpur            MA     91\n",
            "2  Gaurav   22  Allahabad           MCA     58\n",
            "3    Anuj   32    Kannuaj           Phd     76 \n",
            "\n",
            "      Name  Age    Address Qualification  Salary\n",
            "2  Gaurav   22  Allahabad           MCA    1000\n",
            "3    Anuj   32    Kannuaj           Phd    2000\n",
            "6  Dhiraj   12  Allahabad          Bcom    3000\n",
            "7  Hitesh   52    Kannuaj        B.hons    4000\n"
          ],
          "name": "stdout"
        }
      ]
    },
    {
      "cell_type": "code",
      "metadata": {
        "id": "mGL2zl-5uwJR",
        "colab": {
          "base_uri": "https://localhost:8080/",
          "height": 284
        },
        "outputId": "eeacc06d-a7fe-4b83-e998-b5caf508eb31"
      },
      "source": [
        "#Now we apply .concat function in order to concat two dataframe\n",
        "# using a .concat() method\n",
        "frames = [df, df1]\n",
        " \n",
        "res1 = pd.concat(frames)\n",
        "res1"
      ],
      "execution_count": null,
      "outputs": [
        {
          "output_type": "execute_result",
          "data": {
            "text/html": [
              "<div>\n",
              "<style scoped>\n",
              "    .dataframe tbody tr th:only-of-type {\n",
              "        vertical-align: middle;\n",
              "    }\n",
              "\n",
              "    .dataframe tbody tr th {\n",
              "        vertical-align: top;\n",
              "    }\n",
              "\n",
              "    .dataframe thead th {\n",
              "        text-align: right;\n",
              "    }\n",
              "</style>\n",
              "<table border=\"1\" class=\"dataframe\">\n",
              "  <thead>\n",
              "    <tr style=\"text-align: right;\">\n",
              "      <th></th>\n",
              "      <th>Name</th>\n",
              "      <th>Age</th>\n",
              "      <th>Address</th>\n",
              "      <th>Qualification</th>\n",
              "      <th>Marks</th>\n",
              "      <th>Salary</th>\n",
              "    </tr>\n",
              "  </thead>\n",
              "  <tbody>\n",
              "    <tr>\n",
              "      <th>0</th>\n",
              "      <td>Jai</td>\n",
              "      <td>27</td>\n",
              "      <td>Nagpur</td>\n",
              "      <td>Msc</td>\n",
              "      <td>97.0</td>\n",
              "      <td>NaN</td>\n",
              "    </tr>\n",
              "    <tr>\n",
              "      <th>1</th>\n",
              "      <td>Princi</td>\n",
              "      <td>24</td>\n",
              "      <td>Kanpur</td>\n",
              "      <td>MA</td>\n",
              "      <td>91.0</td>\n",
              "      <td>NaN</td>\n",
              "    </tr>\n",
              "    <tr>\n",
              "      <th>2</th>\n",
              "      <td>Gaurav</td>\n",
              "      <td>22</td>\n",
              "      <td>Allahabad</td>\n",
              "      <td>MCA</td>\n",
              "      <td>58.0</td>\n",
              "      <td>NaN</td>\n",
              "    </tr>\n",
              "    <tr>\n",
              "      <th>3</th>\n",
              "      <td>Anuj</td>\n",
              "      <td>32</td>\n",
              "      <td>Kannuaj</td>\n",
              "      <td>Phd</td>\n",
              "      <td>76.0</td>\n",
              "      <td>NaN</td>\n",
              "    </tr>\n",
              "    <tr>\n",
              "      <th>2</th>\n",
              "      <td>Gaurav</td>\n",
              "      <td>22</td>\n",
              "      <td>Allahabad</td>\n",
              "      <td>MCA</td>\n",
              "      <td>NaN</td>\n",
              "      <td>1000.0</td>\n",
              "    </tr>\n",
              "    <tr>\n",
              "      <th>3</th>\n",
              "      <td>Anuj</td>\n",
              "      <td>32</td>\n",
              "      <td>Kannuaj</td>\n",
              "      <td>Phd</td>\n",
              "      <td>NaN</td>\n",
              "      <td>2000.0</td>\n",
              "    </tr>\n",
              "    <tr>\n",
              "      <th>6</th>\n",
              "      <td>Dhiraj</td>\n",
              "      <td>12</td>\n",
              "      <td>Allahabad</td>\n",
              "      <td>Bcom</td>\n",
              "      <td>NaN</td>\n",
              "      <td>3000.0</td>\n",
              "    </tr>\n",
              "    <tr>\n",
              "      <th>7</th>\n",
              "      <td>Hitesh</td>\n",
              "      <td>52</td>\n",
              "      <td>Kannuaj</td>\n",
              "      <td>B.hons</td>\n",
              "      <td>NaN</td>\n",
              "      <td>4000.0</td>\n",
              "    </tr>\n",
              "  </tbody>\n",
              "</table>\n",
              "</div>"
            ],
            "text/plain": [
              "     Name  Age    Address Qualification  Marks  Salary\n",
              "0     Jai   27     Nagpur           Msc   97.0     NaN\n",
              "1  Princi   24     Kanpur            MA   91.0     NaN\n",
              "2  Gaurav   22  Allahabad           MCA   58.0     NaN\n",
              "3    Anuj   32    Kannuaj           Phd   76.0     NaN\n",
              "2  Gaurav   22  Allahabad           MCA    NaN  1000.0\n",
              "3    Anuj   32    Kannuaj           Phd    NaN  2000.0\n",
              "6  Dhiraj   12  Allahabad          Bcom    NaN  3000.0\n",
              "7  Hitesh   52    Kannuaj        B.hons    NaN  4000.0"
            ]
          },
          "metadata": {
            "tags": []
          },
          "execution_count": 8
        }
      ]
    },
    {
      "cell_type": "code",
      "metadata": {
        "id": "cHv5n1Nev6tw",
        "colab": {
          "base_uri": "https://localhost:8080/",
          "height": 106
        },
        "outputId": "7b6f7b27-5069-45a2-c659-74fa609752e2"
      },
      "source": [
        "#Now we set axes join = inner for intersection of dataframe\n",
        "# applying concat with axes\n",
        "# join = 'inner'\n",
        "res1 = pd.concat([df, df1], axis=1, join='inner')\n",
        " \n",
        "res1"
      ],
      "execution_count": null,
      "outputs": [
        {
          "output_type": "execute_result",
          "data": {
            "text/html": [
              "<div>\n",
              "<style scoped>\n",
              "    .dataframe tbody tr th:only-of-type {\n",
              "        vertical-align: middle;\n",
              "    }\n",
              "\n",
              "    .dataframe tbody tr th {\n",
              "        vertical-align: top;\n",
              "    }\n",
              "\n",
              "    .dataframe thead th {\n",
              "        text-align: right;\n",
              "    }\n",
              "</style>\n",
              "<table border=\"1\" class=\"dataframe\">\n",
              "  <thead>\n",
              "    <tr style=\"text-align: right;\">\n",
              "      <th></th>\n",
              "      <th>Name</th>\n",
              "      <th>Age</th>\n",
              "      <th>Address</th>\n",
              "      <th>Qualification</th>\n",
              "      <th>Marks</th>\n",
              "      <th>Name</th>\n",
              "      <th>Age</th>\n",
              "      <th>Address</th>\n",
              "      <th>Qualification</th>\n",
              "      <th>Salary</th>\n",
              "    </tr>\n",
              "  </thead>\n",
              "  <tbody>\n",
              "    <tr>\n",
              "      <th>2</th>\n",
              "      <td>Gaurav</td>\n",
              "      <td>22</td>\n",
              "      <td>Allahabad</td>\n",
              "      <td>MCA</td>\n",
              "      <td>58</td>\n",
              "      <td>Gaurav</td>\n",
              "      <td>22</td>\n",
              "      <td>Allahabad</td>\n",
              "      <td>MCA</td>\n",
              "      <td>1000</td>\n",
              "    </tr>\n",
              "    <tr>\n",
              "      <th>3</th>\n",
              "      <td>Anuj</td>\n",
              "      <td>32</td>\n",
              "      <td>Kannuaj</td>\n",
              "      <td>Phd</td>\n",
              "      <td>76</td>\n",
              "      <td>Anuj</td>\n",
              "      <td>32</td>\n",
              "      <td>Kannuaj</td>\n",
              "      <td>Phd</td>\n",
              "      <td>2000</td>\n",
              "    </tr>\n",
              "  </tbody>\n",
              "</table>\n",
              "</div>"
            ],
            "text/plain": [
              "     Name  Age    Address  Qualification  ...  Age    Address  Qualification Salary\n",
              "2  Gaurav   22  Allahabad            MCA  ...   22  Allahabad            MCA   1000\n",
              "3    Anuj   32    Kannuaj            Phd  ...   32    Kannuaj            Phd   2000\n",
              "\n",
              "[2 rows x 10 columns]"
            ]
          },
          "metadata": {
            "tags": []
          },
          "execution_count": 12
        }
      ]
    },
    {
      "cell_type": "code",
      "metadata": {
        "id": "Wd0y7CCWw_a-",
        "colab": {
          "base_uri": "https://localhost:8080/",
          "height": 238
        },
        "outputId": "15a440be-6677-4a0b-d5a0-5388f4b36b13"
      },
      "source": [
        "#Now we set axes join = outer for union of dataframe.\n",
        "# using a .concat for\n",
        "# union of dataframe\n",
        "res2 = pd.concat([df, df1], axis=1, sort=False)\n",
        " \n",
        "res2"
      ],
      "execution_count": null,
      "outputs": [
        {
          "output_type": "execute_result",
          "data": {
            "text/html": [
              "<div>\n",
              "<style scoped>\n",
              "    .dataframe tbody tr th:only-of-type {\n",
              "        vertical-align: middle;\n",
              "    }\n",
              "\n",
              "    .dataframe tbody tr th {\n",
              "        vertical-align: top;\n",
              "    }\n",
              "\n",
              "    .dataframe thead th {\n",
              "        text-align: right;\n",
              "    }\n",
              "</style>\n",
              "<table border=\"1\" class=\"dataframe\">\n",
              "  <thead>\n",
              "    <tr style=\"text-align: right;\">\n",
              "      <th></th>\n",
              "      <th>Name</th>\n",
              "      <th>Age</th>\n",
              "      <th>Address</th>\n",
              "      <th>Qualification</th>\n",
              "      <th>Marks</th>\n",
              "      <th>Name</th>\n",
              "      <th>Age</th>\n",
              "      <th>Address</th>\n",
              "      <th>Qualification</th>\n",
              "      <th>Salary</th>\n",
              "    </tr>\n",
              "  </thead>\n",
              "  <tbody>\n",
              "    <tr>\n",
              "      <th>0</th>\n",
              "      <td>Jai</td>\n",
              "      <td>27.0</td>\n",
              "      <td>Nagpur</td>\n",
              "      <td>Msc</td>\n",
              "      <td>97.0</td>\n",
              "      <td>NaN</td>\n",
              "      <td>NaN</td>\n",
              "      <td>NaN</td>\n",
              "      <td>NaN</td>\n",
              "      <td>NaN</td>\n",
              "    </tr>\n",
              "    <tr>\n",
              "      <th>1</th>\n",
              "      <td>Princi</td>\n",
              "      <td>24.0</td>\n",
              "      <td>Kanpur</td>\n",
              "      <td>MA</td>\n",
              "      <td>91.0</td>\n",
              "      <td>NaN</td>\n",
              "      <td>NaN</td>\n",
              "      <td>NaN</td>\n",
              "      <td>NaN</td>\n",
              "      <td>NaN</td>\n",
              "    </tr>\n",
              "    <tr>\n",
              "      <th>2</th>\n",
              "      <td>Gaurav</td>\n",
              "      <td>22.0</td>\n",
              "      <td>Allahabad</td>\n",
              "      <td>MCA</td>\n",
              "      <td>58.0</td>\n",
              "      <td>Gaurav</td>\n",
              "      <td>22.0</td>\n",
              "      <td>Allahabad</td>\n",
              "      <td>MCA</td>\n",
              "      <td>1000.0</td>\n",
              "    </tr>\n",
              "    <tr>\n",
              "      <th>3</th>\n",
              "      <td>Anuj</td>\n",
              "      <td>32.0</td>\n",
              "      <td>Kannuaj</td>\n",
              "      <td>Phd</td>\n",
              "      <td>76.0</td>\n",
              "      <td>Anuj</td>\n",
              "      <td>32.0</td>\n",
              "      <td>Kannuaj</td>\n",
              "      <td>Phd</td>\n",
              "      <td>2000.0</td>\n",
              "    </tr>\n",
              "    <tr>\n",
              "      <th>6</th>\n",
              "      <td>NaN</td>\n",
              "      <td>NaN</td>\n",
              "      <td>NaN</td>\n",
              "      <td>NaN</td>\n",
              "      <td>NaN</td>\n",
              "      <td>Dhiraj</td>\n",
              "      <td>12.0</td>\n",
              "      <td>Allahabad</td>\n",
              "      <td>Bcom</td>\n",
              "      <td>3000.0</td>\n",
              "    </tr>\n",
              "    <tr>\n",
              "      <th>7</th>\n",
              "      <td>NaN</td>\n",
              "      <td>NaN</td>\n",
              "      <td>NaN</td>\n",
              "      <td>NaN</td>\n",
              "      <td>NaN</td>\n",
              "      <td>Hitesh</td>\n",
              "      <td>52.0</td>\n",
              "      <td>Kannuaj</td>\n",
              "      <td>B.hons</td>\n",
              "      <td>4000.0</td>\n",
              "    </tr>\n",
              "  </tbody>\n",
              "</table>\n",
              "</div>"
            ],
            "text/plain": [
              "     Name   Age    Address  Qualification  ...   Age    Address  Qualification  Salary\n",
              "0     Jai  27.0     Nagpur            Msc  ...   NaN        NaN            NaN     NaN\n",
              "1  Princi  24.0     Kanpur             MA  ...   NaN        NaN            NaN     NaN\n",
              "2  Gaurav  22.0  Allahabad            MCA  ...  22.0  Allahabad            MCA  1000.0\n",
              "3    Anuj  32.0    Kannuaj            Phd  ...  32.0    Kannuaj            Phd  2000.0\n",
              "6     NaN   NaN        NaN            NaN  ...  12.0  Allahabad           Bcom  3000.0\n",
              "7     NaN   NaN        NaN            NaN  ...  52.0    Kannuaj         B.hons  4000.0\n",
              "\n",
              "[6 rows x 10 columns]"
            ]
          },
          "metadata": {
            "tags": []
          },
          "execution_count": 3
        }
      ]
    },
    {
      "cell_type": "markdown",
      "metadata": {
        "id": "-FxJOhRCyBif"
      },
      "source": [
        "**Concatenating DataFrame using .append(**)\n",
        "\n",
        "In order to concat a dataframe, we use .append() function this function concatenate along axis=0, namely the index. \n",
        "\n",
        "This function exist before .concat."
      ]
    },
    {
      "cell_type": "code",
      "metadata": {
        "id": "ZUEQx6Osxz67",
        "colab": {
          "base_uri": "https://localhost:8080/",
          "height": 219
        },
        "outputId": "174a64be-4599-4d95-8a59-255eae011fa7"
      },
      "source": [
        "# importing pandas module\n",
        "import pandas as pd \n",
        " \n",
        "# Define a dictionary containing employee data \n",
        "data1 = {'Name':['Jai', 'Princi', 'Gaurav', 'Anuj'], \n",
        "        'Age':[27, 24, 22, 32], \n",
        "        'Address':['Nagpur', 'Kanpur', 'Allahabad', 'Kannuaj'], \n",
        "        'Qualification':['Msc', 'MA', 'MCA', 'Phd']} \n",
        "   \n",
        "# Define a dictionary containing employee data \n",
        "data2 = {'Name':['Abhi', 'Ayushi', 'Dhiraj', 'Hitesh'], \n",
        "        'Age':[17, 14, 12, 52], \n",
        "        'Address':['Nagpur', 'Kanpur', 'Allahabad', 'Kannuaj'], \n",
        "        'Qualification':['Btech', 'B.A', 'Bcom', 'B.hons']} \n",
        " \n",
        "# Convert the dictionary into DataFrame  \n",
        "df = pd.DataFrame(data1,index=[0, 1, 2, 3])\n",
        " \n",
        "# Convert the dictionary into DataFrame  \n",
        "df1 = pd.DataFrame(data2, index=[4, 5, 6, 7])\n",
        " \n",
        "print(df, \"\\n\\n\", df1) "
      ],
      "execution_count": null,
      "outputs": [
        {
          "output_type": "stream",
          "text": [
            "     Name  Age    Address Qualification\n",
            "0     Jai   27     Nagpur           Msc\n",
            "1  Princi   24     Kanpur            MA\n",
            "2  Gaurav   22  Allahabad           MCA\n",
            "3    Anuj   32    Kannuaj           Phd \n",
            "\n",
            "      Name  Age    Address Qualification\n",
            "4    Abhi   17     Nagpur         Btech\n",
            "5  Ayushi   14     Kanpur           B.A\n",
            "6  Dhiraj   12  Allahabad          Bcom\n",
            "7  Hitesh   52    Kannuaj        B.hons\n"
          ],
          "name": "stdout"
        }
      ]
    },
    {
      "cell_type": "code",
      "metadata": {
        "id": "ESVna6r9yRLa",
        "colab": {
          "base_uri": "https://localhost:8080/",
          "height": 300
        },
        "outputId": "e2ecd900-f055-483c-d7e7-78e665f47890"
      },
      "source": [
        "#Now we apply .append() function inorder to concat to dataframe\n",
        "# using append function\n",
        " \n",
        "res = df.append(df1)\n",
        "res"
      ],
      "execution_count": null,
      "outputs": [
        {
          "output_type": "execute_result",
          "data": {
            "text/html": [
              "<div>\n",
              "<style scoped>\n",
              "    .dataframe tbody tr th:only-of-type {\n",
              "        vertical-align: middle;\n",
              "    }\n",
              "\n",
              "    .dataframe tbody tr th {\n",
              "        vertical-align: top;\n",
              "    }\n",
              "\n",
              "    .dataframe thead th {\n",
              "        text-align: right;\n",
              "    }\n",
              "</style>\n",
              "<table border=\"1\" class=\"dataframe\">\n",
              "  <thead>\n",
              "    <tr style=\"text-align: right;\">\n",
              "      <th></th>\n",
              "      <th>Name</th>\n",
              "      <th>Age</th>\n",
              "      <th>Address</th>\n",
              "      <th>Qualification</th>\n",
              "    </tr>\n",
              "  </thead>\n",
              "  <tbody>\n",
              "    <tr>\n",
              "      <th>0</th>\n",
              "      <td>Jai</td>\n",
              "      <td>27</td>\n",
              "      <td>Nagpur</td>\n",
              "      <td>Msc</td>\n",
              "    </tr>\n",
              "    <tr>\n",
              "      <th>1</th>\n",
              "      <td>Princi</td>\n",
              "      <td>24</td>\n",
              "      <td>Kanpur</td>\n",
              "      <td>MA</td>\n",
              "    </tr>\n",
              "    <tr>\n",
              "      <th>2</th>\n",
              "      <td>Gaurav</td>\n",
              "      <td>22</td>\n",
              "      <td>Allahabad</td>\n",
              "      <td>MCA</td>\n",
              "    </tr>\n",
              "    <tr>\n",
              "      <th>3</th>\n",
              "      <td>Anuj</td>\n",
              "      <td>32</td>\n",
              "      <td>Kannuaj</td>\n",
              "      <td>Phd</td>\n",
              "    </tr>\n",
              "    <tr>\n",
              "      <th>4</th>\n",
              "      <td>Abhi</td>\n",
              "      <td>17</td>\n",
              "      <td>Nagpur</td>\n",
              "      <td>Btech</td>\n",
              "    </tr>\n",
              "    <tr>\n",
              "      <th>5</th>\n",
              "      <td>Ayushi</td>\n",
              "      <td>14</td>\n",
              "      <td>Kanpur</td>\n",
              "      <td>B.A</td>\n",
              "    </tr>\n",
              "    <tr>\n",
              "      <th>6</th>\n",
              "      <td>Dhiraj</td>\n",
              "      <td>12</td>\n",
              "      <td>Allahabad</td>\n",
              "      <td>Bcom</td>\n",
              "    </tr>\n",
              "    <tr>\n",
              "      <th>7</th>\n",
              "      <td>Hitesh</td>\n",
              "      <td>52</td>\n",
              "      <td>Kannuaj</td>\n",
              "      <td>B.hons</td>\n",
              "    </tr>\n",
              "  </tbody>\n",
              "</table>\n",
              "</div>"
            ],
            "text/plain": [
              "     Name  Age    Address Qualification\n",
              "0     Jai   27     Nagpur           Msc\n",
              "1  Princi   24     Kanpur            MA\n",
              "2  Gaurav   22  Allahabad           MCA\n",
              "3    Anuj   32    Kannuaj           Phd\n",
              "4    Abhi   17     Nagpur         Btech\n",
              "5  Ayushi   14     Kanpur           B.A\n",
              "6  Dhiraj   12  Allahabad          Bcom\n",
              "7  Hitesh   52    Kannuaj        B.hons"
            ]
          },
          "metadata": {
            "tags": []
          },
          "execution_count": 11
        }
      ]
    },
    {
      "cell_type": "markdown",
      "metadata": {
        "id": "yKfpItHAygK5"
      },
      "source": [
        "**Concatenating DataFrame by ignoring indexes :**\n",
        "In order to concat a dataframe by ignoring indexes, we ignore index which don’t have a meaningful meaning, you may wish to append them and ignore the fact that theymay have overlapping indexes.\n",
        " In order to do that we use ignore_index as an argument."
      ]
    },
    {
      "cell_type": "code",
      "metadata": {
        "id": "MTRDa9kEybTv",
        "colab": {
          "base_uri": "https://localhost:8080/",
          "height": 202
        },
        "outputId": "1ee87e6c-4a1f-4c41-bef5-58cb9ed52b07"
      },
      "source": [
        "# importing pandas module\n",
        "import pandas as pd \n",
        "  \n",
        "# Define a dictionary containing employee data \n",
        "data1 = {'Name':['Jai', 'Princi', 'Gaurav', 'Anuj'], \n",
        "        'Age':[27, 24, 22, 32], \n",
        "        'Address':['Nagpur', 'Kanpur', 'Allahabad', 'Kannuaj'], \n",
        "        'Qualification':['Msc', 'MA', 'MCA', 'Phd'],\n",
        "        'Mobile No': [97, 91, 58, 76]} \n",
        "    \n",
        "# Define a dictionary containing employee data \n",
        "data2 = {'Name':['Gaurav', 'Anuj', 'Dhiraj', 'Hitesh'], \n",
        "        'Age':[22, 32, 12, 52], \n",
        "        'Address':['Allahabad', 'Kannuaj', 'Allahabad', 'Kannuaj'], \n",
        "        'Qualification':['MCA', 'Phd', 'Bcom', 'B.hons'],\n",
        "        'Salary':[1000, 2000, 3000, 4000]} \n",
        "  \n",
        "# Convert the dictionary into DataFrame  \n",
        "df = pd.DataFrame(data1,index=[0, 1, 2, 3])\n",
        "  \n",
        "# Convert the dictionary into DataFrame  \n",
        "df1 = pd.DataFrame(data2, index=[2, 3, 6, 7]) \n",
        "  \n",
        "  \n",
        "print(df, \"\\n\\n\", df1) "
      ],
      "execution_count": null,
      "outputs": [
        {
          "output_type": "stream",
          "text": [
            "     Name  Age    Address Qualification  Mobile No\n",
            "0     Jai   27     Nagpur           Msc         97\n",
            "1  Princi   24     Kanpur            MA         91\n",
            "2  Gaurav   22  Allahabad           MCA         58\n",
            "3    Anuj   32    Kannuaj           Phd         76 \n",
            "\n",
            "      Name  Age    Address Qualification  Salary\n",
            "2  Gaurav   22  Allahabad           MCA    1000\n",
            "3    Anuj   32    Kannuaj           Phd    2000\n",
            "6  Dhiraj   12  Allahabad          Bcom    3000\n",
            "7  Hitesh   52    Kannuaj        B.hons    4000\n"
          ],
          "name": "stdout"
        }
      ]
    },
    {
      "cell_type": "code",
      "metadata": {
        "id": "KarjuswDyu3f",
        "colab": {
          "base_uri": "https://localhost:8080/",
          "height": 284
        },
        "outputId": "b44f836a-dcbd-4f96-b007-3a3737441c15"
      },
      "source": [
        "#Now we are going to apply ignore_index as an argument.\n",
        "# using ignore_index\n",
        "res = pd.concat([df, df1], ignore_index=True)\n",
        " \n",
        "res"
      ],
      "execution_count": null,
      "outputs": [
        {
          "output_type": "execute_result",
          "data": {
            "text/html": [
              "<div>\n",
              "<style scoped>\n",
              "    .dataframe tbody tr th:only-of-type {\n",
              "        vertical-align: middle;\n",
              "    }\n",
              "\n",
              "    .dataframe tbody tr th {\n",
              "        vertical-align: top;\n",
              "    }\n",
              "\n",
              "    .dataframe thead th {\n",
              "        text-align: right;\n",
              "    }\n",
              "</style>\n",
              "<table border=\"1\" class=\"dataframe\">\n",
              "  <thead>\n",
              "    <tr style=\"text-align: right;\">\n",
              "      <th></th>\n",
              "      <th>Name</th>\n",
              "      <th>Age</th>\n",
              "      <th>Address</th>\n",
              "      <th>Qualification</th>\n",
              "      <th>Mobile No</th>\n",
              "      <th>Salary</th>\n",
              "    </tr>\n",
              "  </thead>\n",
              "  <tbody>\n",
              "    <tr>\n",
              "      <th>0</th>\n",
              "      <td>Jai</td>\n",
              "      <td>27</td>\n",
              "      <td>Nagpur</td>\n",
              "      <td>Msc</td>\n",
              "      <td>97.0</td>\n",
              "      <td>NaN</td>\n",
              "    </tr>\n",
              "    <tr>\n",
              "      <th>1</th>\n",
              "      <td>Princi</td>\n",
              "      <td>24</td>\n",
              "      <td>Kanpur</td>\n",
              "      <td>MA</td>\n",
              "      <td>91.0</td>\n",
              "      <td>NaN</td>\n",
              "    </tr>\n",
              "    <tr>\n",
              "      <th>2</th>\n",
              "      <td>Gaurav</td>\n",
              "      <td>22</td>\n",
              "      <td>Allahabad</td>\n",
              "      <td>MCA</td>\n",
              "      <td>58.0</td>\n",
              "      <td>NaN</td>\n",
              "    </tr>\n",
              "    <tr>\n",
              "      <th>3</th>\n",
              "      <td>Anuj</td>\n",
              "      <td>32</td>\n",
              "      <td>Kannuaj</td>\n",
              "      <td>Phd</td>\n",
              "      <td>76.0</td>\n",
              "      <td>NaN</td>\n",
              "    </tr>\n",
              "    <tr>\n",
              "      <th>4</th>\n",
              "      <td>Gaurav</td>\n",
              "      <td>22</td>\n",
              "      <td>Allahabad</td>\n",
              "      <td>MCA</td>\n",
              "      <td>NaN</td>\n",
              "      <td>1000.0</td>\n",
              "    </tr>\n",
              "    <tr>\n",
              "      <th>5</th>\n",
              "      <td>Anuj</td>\n",
              "      <td>32</td>\n",
              "      <td>Kannuaj</td>\n",
              "      <td>Phd</td>\n",
              "      <td>NaN</td>\n",
              "      <td>2000.0</td>\n",
              "    </tr>\n",
              "    <tr>\n",
              "      <th>6</th>\n",
              "      <td>Dhiraj</td>\n",
              "      <td>12</td>\n",
              "      <td>Allahabad</td>\n",
              "      <td>Bcom</td>\n",
              "      <td>NaN</td>\n",
              "      <td>3000.0</td>\n",
              "    </tr>\n",
              "    <tr>\n",
              "      <th>7</th>\n",
              "      <td>Hitesh</td>\n",
              "      <td>52</td>\n",
              "      <td>Kannuaj</td>\n",
              "      <td>B.hons</td>\n",
              "      <td>NaN</td>\n",
              "      <td>4000.0</td>\n",
              "    </tr>\n",
              "  </tbody>\n",
              "</table>\n",
              "</div>"
            ],
            "text/plain": [
              "     Name  Age    Address Qualification  Mobile No  Salary\n",
              "0     Jai   27     Nagpur           Msc       97.0     NaN\n",
              "1  Princi   24     Kanpur            MA       91.0     NaN\n",
              "2  Gaurav   22  Allahabad           MCA       58.0     NaN\n",
              "3    Anuj   32    Kannuaj           Phd       76.0     NaN\n",
              "4  Gaurav   22  Allahabad           MCA        NaN  1000.0\n",
              "5    Anuj   32    Kannuaj           Phd        NaN  2000.0\n",
              "6  Dhiraj   12  Allahabad          Bcom        NaN  3000.0\n",
              "7  Hitesh   52    Kannuaj        B.hons        NaN  4000.0"
            ]
          },
          "metadata": {
            "tags": []
          },
          "execution_count": 14
        }
      ]
    },
    {
      "cell_type": "markdown",
      "metadata": {
        "id": "iw6PkO5Hy7bQ"
      },
      "source": [
        "**Concatenating DataFrame with group keys :**\n",
        "In order to concat dataframe with group keys, we override the column names with the use of the keys argument.\n",
        "\n",
        " Keys argument is to override the column names when creating a new DataFrame based on existing Series."
      ]
    },
    {
      "cell_type": "code",
      "metadata": {
        "id": "9XIJiYeRy3Ud",
        "colab": {
          "base_uri": "https://localhost:8080/",
          "height": 202
        },
        "outputId": "5c704a5b-2024-47e9-e0ce-6a2f384e242d"
      },
      "source": [
        "# importing pandas module\n",
        "import pandas as pd \n",
        " \n",
        "# Define a dictionary containing employee data \n",
        "data1 = {'Name':['Jai', 'Princi', 'Gaurav', 'Anuj'], \n",
        "        'Age':[27, 24, 22, 32], \n",
        "        'Address':['Nagpur', 'Kanpur', 'Allahabad', 'Kannuaj'], \n",
        "        'Qualification':['Msc', 'MA', 'MCA', 'Phd']} \n",
        "   \n",
        "# Define a dictionary containing employee data \n",
        "data2 = {'Name':['Abhi', 'Ayushi', 'Dhiraj', 'Hitesh'], \n",
        "        'Age':[17, 14, 12, 52], \n",
        "        'Address':['Nagpur', 'Kanpur', 'Allahabad', 'Kannuaj'], \n",
        "        'Qualification':['Btech', 'B.A', 'Bcom', 'B.hons']} \n",
        " \n",
        "# Convert the dictionary into DataFrame  \n",
        "df = pd.DataFrame(data1,index=[0, 1, 2, 3])\n",
        " \n",
        "# Convert the dictionary into DataFrame  \n",
        "df1 = pd.DataFrame(data2, index=[4, 5, 6, 7])\n",
        " \n",
        "print(df, \"\\n\\n\", df1)  "
      ],
      "execution_count": null,
      "outputs": [
        {
          "output_type": "stream",
          "text": [
            "     Name  Age    Address Qualification\n",
            "0     Jai   27     Nagpur           Msc\n",
            "1  Princi   24     Kanpur            MA\n",
            "2  Gaurav   22  Allahabad           MCA\n",
            "3    Anuj   32    Kannuaj           Phd \n",
            "\n",
            "      Name  Age    Address Qualification\n",
            "4    Abhi   17     Nagpur         Btech\n",
            "5  Ayushi   14     Kanpur           B.A\n",
            "6  Dhiraj   12  Allahabad          Bcom\n",
            "7  Hitesh   52    Kannuaj        B.hons\n"
          ],
          "name": "stdout"
        }
      ]
    },
    {
      "cell_type": "code",
      "metadata": {
        "id": "2OHLu0QDzGOQ",
        "colab": {
          "base_uri": "https://localhost:8080/",
          "height": 284
        },
        "outputId": "cbafafe3-af1f-404a-b387-4f261ab174e9"
      },
      "source": [
        "#Now we use keys as an argument.\n",
        "# using keys \n",
        "frames = [df, df1 ]\n",
        " \n",
        "res = pd.concat(frames, keys=['x', 'y'])\n",
        "res"
      ],
      "execution_count": null,
      "outputs": [
        {
          "output_type": "execute_result",
          "data": {
            "text/html": [
              "<div>\n",
              "<style scoped>\n",
              "    .dataframe tbody tr th:only-of-type {\n",
              "        vertical-align: middle;\n",
              "    }\n",
              "\n",
              "    .dataframe tbody tr th {\n",
              "        vertical-align: top;\n",
              "    }\n",
              "\n",
              "    .dataframe thead th {\n",
              "        text-align: right;\n",
              "    }\n",
              "</style>\n",
              "<table border=\"1\" class=\"dataframe\">\n",
              "  <thead>\n",
              "    <tr style=\"text-align: right;\">\n",
              "      <th></th>\n",
              "      <th></th>\n",
              "      <th>Name</th>\n",
              "      <th>Age</th>\n",
              "      <th>Address</th>\n",
              "      <th>Qualification</th>\n",
              "    </tr>\n",
              "  </thead>\n",
              "  <tbody>\n",
              "    <tr>\n",
              "      <th rowspan=\"4\" valign=\"top\">x</th>\n",
              "      <th>0</th>\n",
              "      <td>Jai</td>\n",
              "      <td>27</td>\n",
              "      <td>Nagpur</td>\n",
              "      <td>Msc</td>\n",
              "    </tr>\n",
              "    <tr>\n",
              "      <th>1</th>\n",
              "      <td>Princi</td>\n",
              "      <td>24</td>\n",
              "      <td>Kanpur</td>\n",
              "      <td>MA</td>\n",
              "    </tr>\n",
              "    <tr>\n",
              "      <th>2</th>\n",
              "      <td>Gaurav</td>\n",
              "      <td>22</td>\n",
              "      <td>Allahabad</td>\n",
              "      <td>MCA</td>\n",
              "    </tr>\n",
              "    <tr>\n",
              "      <th>3</th>\n",
              "      <td>Anuj</td>\n",
              "      <td>32</td>\n",
              "      <td>Kannuaj</td>\n",
              "      <td>Phd</td>\n",
              "    </tr>\n",
              "    <tr>\n",
              "      <th rowspan=\"4\" valign=\"top\">y</th>\n",
              "      <th>4</th>\n",
              "      <td>Abhi</td>\n",
              "      <td>17</td>\n",
              "      <td>Nagpur</td>\n",
              "      <td>Btech</td>\n",
              "    </tr>\n",
              "    <tr>\n",
              "      <th>5</th>\n",
              "      <td>Ayushi</td>\n",
              "      <td>14</td>\n",
              "      <td>Kanpur</td>\n",
              "      <td>B.A</td>\n",
              "    </tr>\n",
              "    <tr>\n",
              "      <th>6</th>\n",
              "      <td>Dhiraj</td>\n",
              "      <td>12</td>\n",
              "      <td>Allahabad</td>\n",
              "      <td>Bcom</td>\n",
              "    </tr>\n",
              "    <tr>\n",
              "      <th>7</th>\n",
              "      <td>Hitesh</td>\n",
              "      <td>52</td>\n",
              "      <td>Kannuaj</td>\n",
              "      <td>B.hons</td>\n",
              "    </tr>\n",
              "  </tbody>\n",
              "</table>\n",
              "</div>"
            ],
            "text/plain": [
              "       Name  Age    Address Qualification\n",
              "x 0     Jai   27     Nagpur           Msc\n",
              "  1  Princi   24     Kanpur            MA\n",
              "  2  Gaurav   22  Allahabad           MCA\n",
              "  3    Anuj   32    Kannuaj           Phd\n",
              "y 4    Abhi   17     Nagpur         Btech\n",
              "  5  Ayushi   14     Kanpur           B.A\n",
              "  6  Dhiraj   12  Allahabad          Bcom\n",
              "  7  Hitesh   52    Kannuaj        B.hons"
            ]
          },
          "metadata": {
            "tags": []
          },
          "execution_count": 16
        }
      ]
    },
    {
      "cell_type": "markdown",
      "metadata": {
        "id": "xLqIhjCczQZw"
      },
      "source": [
        "**Concatenating with mixed ndims :**\n",
        "\n",
        "User can concatenate a mix of Series and DataFrame. \n",
        "\n",
        "The Series will be transformed to DataFrame with the column name as the name of the Series."
      ]
    },
    {
      "cell_type": "code",
      "metadata": {
        "id": "QjZW8i2rzOZm",
        "colab": {
          "base_uri": "https://localhost:8080/",
          "height": 219
        },
        "outputId": "57ee0cea-10e8-42ff-9c23-a504bd7f7864"
      },
      "source": [
        "# importing pandas module\n",
        "import pandas as pd \n",
        " \n",
        "# Define a dictionary containing employee data \n",
        "data1 = {'Name':['Jai', 'Princi', 'Gaurav', 'Anuj'], \n",
        "        'Age':[27, 24, 22, 32], \n",
        "        'Address':['Nagpur', 'Kanpur', 'Allahabad', 'Kannuaj'], \n",
        "        'Qualification':['Msc', 'MA', 'MCA', 'Phd']} \n",
        "   \n",
        "# Convert the dictionary into DataFrame  \n",
        "df = pd.DataFrame(data1,index=[0, 1, 2, 3])\n",
        " \n",
        "# creating a series\n",
        "s1 = pd.Series([1000, 2000, 3000, 4000], name='Salary')\n",
        " \n",
        "print(df, \"\\n\\n\", s1) "
      ],
      "execution_count": null,
      "outputs": [
        {
          "output_type": "stream",
          "text": [
            "     Name  Age    Address Qualification\n",
            "0     Jai   27     Nagpur           Msc\n",
            "1  Princi   24     Kanpur            MA\n",
            "2  Gaurav   22  Allahabad           MCA\n",
            "3    Anuj   32    Kannuaj           Phd \n",
            "\n",
            " 0    1000\n",
            "1    2000\n",
            "2    3000\n",
            "3    4000\n",
            "Name: Salary, dtype: int64\n"
          ],
          "name": "stdout"
        }
      ]
    },
    {
      "cell_type": "code",
      "metadata": {
        "id": "rEBpJo3_ze3v",
        "colab": {
          "base_uri": "https://localhost:8080/",
          "height": 175
        },
        "outputId": "9664328b-f037-4013-ff5d-d2eeab0513e0"
      },
      "source": [
        "#Now we are going to mix Series and dataframe together\n",
        "# combining series and dataframe\n",
        "res = pd.concat([df, s1], axis=1)\n",
        " \n",
        "res"
      ],
      "execution_count": null,
      "outputs": [
        {
          "output_type": "execute_result",
          "data": {
            "text/html": [
              "<div>\n",
              "<style scoped>\n",
              "    .dataframe tbody tr th:only-of-type {\n",
              "        vertical-align: middle;\n",
              "    }\n",
              "\n",
              "    .dataframe tbody tr th {\n",
              "        vertical-align: top;\n",
              "    }\n",
              "\n",
              "    .dataframe thead th {\n",
              "        text-align: right;\n",
              "    }\n",
              "</style>\n",
              "<table border=\"1\" class=\"dataframe\">\n",
              "  <thead>\n",
              "    <tr style=\"text-align: right;\">\n",
              "      <th></th>\n",
              "      <th>Name</th>\n",
              "      <th>Age</th>\n",
              "      <th>Address</th>\n",
              "      <th>Qualification</th>\n",
              "      <th>Salary</th>\n",
              "    </tr>\n",
              "  </thead>\n",
              "  <tbody>\n",
              "    <tr>\n",
              "      <th>0</th>\n",
              "      <td>Jai</td>\n",
              "      <td>27</td>\n",
              "      <td>Nagpur</td>\n",
              "      <td>Msc</td>\n",
              "      <td>1000</td>\n",
              "    </tr>\n",
              "    <tr>\n",
              "      <th>1</th>\n",
              "      <td>Princi</td>\n",
              "      <td>24</td>\n",
              "      <td>Kanpur</td>\n",
              "      <td>MA</td>\n",
              "      <td>2000</td>\n",
              "    </tr>\n",
              "    <tr>\n",
              "      <th>2</th>\n",
              "      <td>Gaurav</td>\n",
              "      <td>22</td>\n",
              "      <td>Allahabad</td>\n",
              "      <td>MCA</td>\n",
              "      <td>3000</td>\n",
              "    </tr>\n",
              "    <tr>\n",
              "      <th>3</th>\n",
              "      <td>Anuj</td>\n",
              "      <td>32</td>\n",
              "      <td>Kannuaj</td>\n",
              "      <td>Phd</td>\n",
              "      <td>4000</td>\n",
              "    </tr>\n",
              "  </tbody>\n",
              "</table>\n",
              "</div>"
            ],
            "text/plain": [
              "     Name  Age    Address Qualification  Salary\n",
              "0     Jai   27     Nagpur           Msc    1000\n",
              "1  Princi   24     Kanpur            MA    2000\n",
              "2  Gaurav   22  Allahabad           MCA    3000\n",
              "3    Anuj   32    Kannuaj           Phd    4000"
            ]
          },
          "metadata": {
            "tags": []
          },
          "execution_count": 22
        }
      ]
    },
    {
      "cell_type": "markdown",
      "metadata": {
        "id": "a9dqETetzvoJ"
      },
      "source": [
        "**Merging DataFrame**\n",
        "\n",
        "Pandas have options for high-performance in-memory merging and joining.\n",
        "\n",
        " When we need to combine very large DataFrames, joins serve as a powerful way to perform these operations swiftly. \n",
        " \n",
        " Joins can only be done on two DataFrames at a time, denoted as left and right tables. \n",
        " \n",
        " The key is the common column that the two DataFrames will be joined on. \n",
        " \n",
        " It’s a good practice to use keys which have unique values throughout the column to avoid unintended duplication of row values. \n",
        " \n",
        " Pandas provide a single function, merge(), as the entry point for all standard database join operations between DataFrame objects.\n",
        "\n",
        "There are four basic ways to handle the join (inner, left, right, and outer), depending on which rows must retain their data.\n",
        "\n",
        "![image.png](data:image/png;base64,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)\n",
        "\n",
        "\n",
        "\n"
      ]
    },
    {
      "cell_type": "code",
      "metadata": {
        "id": "8TUynn66zc5U",
        "colab": {
          "base_uri": "https://localhost:8080/",
          "height": 219
        },
        "outputId": "1636b2cd-744f-4c3b-bf69-02a427ced522"
      },
      "source": [
        "#Example 1 : Merging a dataframe with one unique key combination\n",
        "# importing pandas module\n",
        "import pandas as pd \n",
        " \n",
        "# Define a dictionary containing employee data \n",
        "data1 = {'key': ['K0', 'K1', 'K2', 'K3'],\n",
        "         'Name':['Jai', 'Princi', 'Gaurav', 'Anuj'], \n",
        "        'Age':[27, 24, 22, 32],} \n",
        "   \n",
        "# Define a dictionary containing employee data \n",
        "data2 = {'key': ['K0', 'K1', 'K2', 'K3'],\n",
        "         'Address':['Nagpur', 'Kanpur', 'Allahabad', 'Kannuaj'], \n",
        "        'Qualification':['Btech', 'B.A', 'Bcom', 'B.hons']} \n",
        " \n",
        "# Convert the dictionary into DataFrame  \n",
        "df = pd.DataFrame(data1)\n",
        " \n",
        "# Convert the dictionary into DataFrame  \n",
        "df1 = pd.DataFrame(data2) \n",
        "  \n",
        " \n",
        "print(df, \"\\n\\n\", df1) "
      ],
      "execution_count": null,
      "outputs": [
        {
          "output_type": "stream",
          "text": [
            "  key    Name  Age\n",
            "0  K0     Jai   27\n",
            "1  K1  Princi   24\n",
            "2  K2  Gaurav   22\n",
            "3  K3    Anuj   32 \n",
            "\n",
            "   key    Address Qualification\n",
            "0  K0     Nagpur         Btech\n",
            "1  K1     Kanpur           B.A\n",
            "2  K2  Allahabad          Bcom\n",
            "3  K3    Kannuaj        B.hons\n"
          ],
          "name": "stdout"
        }
      ]
    },
    {
      "cell_type": "code",
      "metadata": {
        "id": "7kTSeM9Q0rxv",
        "colab": {
          "base_uri": "https://localhost:8080/",
          "height": 175
        },
        "outputId": "8fb7be39-916c-4385-fd09-a7a02a4505f7"
      },
      "source": [
        "#Now we are using .merge() with one unique key combination\n",
        "# using .merge() function\n",
        "res = pd.merge(df, df1, on='key')\n",
        " \n",
        "res"
      ],
      "execution_count": null,
      "outputs": [
        {
          "output_type": "execute_result",
          "data": {
            "text/html": [
              "<div>\n",
              "<style scoped>\n",
              "    .dataframe tbody tr th:only-of-type {\n",
              "        vertical-align: middle;\n",
              "    }\n",
              "\n",
              "    .dataframe tbody tr th {\n",
              "        vertical-align: top;\n",
              "    }\n",
              "\n",
              "    .dataframe thead th {\n",
              "        text-align: right;\n",
              "    }\n",
              "</style>\n",
              "<table border=\"1\" class=\"dataframe\">\n",
              "  <thead>\n",
              "    <tr style=\"text-align: right;\">\n",
              "      <th></th>\n",
              "      <th>key</th>\n",
              "      <th>Name</th>\n",
              "      <th>Age</th>\n",
              "      <th>Address</th>\n",
              "      <th>Qualification</th>\n",
              "    </tr>\n",
              "  </thead>\n",
              "  <tbody>\n",
              "    <tr>\n",
              "      <th>0</th>\n",
              "      <td>K0</td>\n",
              "      <td>Jai</td>\n",
              "      <td>27</td>\n",
              "      <td>Nagpur</td>\n",
              "      <td>Btech</td>\n",
              "    </tr>\n",
              "    <tr>\n",
              "      <th>1</th>\n",
              "      <td>K1</td>\n",
              "      <td>Princi</td>\n",
              "      <td>24</td>\n",
              "      <td>Kanpur</td>\n",
              "      <td>B.A</td>\n",
              "    </tr>\n",
              "    <tr>\n",
              "      <th>2</th>\n",
              "      <td>K2</td>\n",
              "      <td>Gaurav</td>\n",
              "      <td>22</td>\n",
              "      <td>Allahabad</td>\n",
              "      <td>Bcom</td>\n",
              "    </tr>\n",
              "    <tr>\n",
              "      <th>3</th>\n",
              "      <td>K3</td>\n",
              "      <td>Anuj</td>\n",
              "      <td>32</td>\n",
              "      <td>Kannuaj</td>\n",
              "      <td>B.hons</td>\n",
              "    </tr>\n",
              "  </tbody>\n",
              "</table>\n",
              "</div>"
            ],
            "text/plain": [
              "  key    Name  Age    Address Qualification\n",
              "0  K0     Jai   27     Nagpur         Btech\n",
              "1  K1  Princi   24     Kanpur           B.A\n",
              "2  K2  Gaurav   22  Allahabad          Bcom\n",
              "3  K3    Anuj   32    Kannuaj        B.hons"
            ]
          },
          "metadata": {
            "tags": []
          },
          "execution_count": 24
        }
      ]
    },
    {
      "cell_type": "code",
      "metadata": {
        "id": "4YJUc3Mq077E",
        "colab": {
          "base_uri": "https://localhost:8080/",
          "height": 219
        },
        "outputId": "fb7a2fae-914d-4d54-8b22-5dd4f8ab381f"
      },
      "source": [
        "#Example 2: Merging dataframe using multiple join keys.\n",
        "# importing pandas module\n",
        "import pandas as pd \n",
        " \n",
        "# Define a dictionary containing employee data \n",
        "data1 = {'key': ['K0', 'K1', 'K2', 'K3'],\n",
        "         'key1': ['K0', 'K1', 'K0', 'K1'],\n",
        "         'Name':['Jai', 'Princi', 'Gaurav', 'Anuj'], \n",
        "        'Age':[27, 24, 22, 32],} \n",
        "   \n",
        "# Define a dictionary containing employee data \n",
        "data2 = {'key': ['K0', 'K1', 'K2', 'K3'],\n",
        "         'key1': ['K0', 'K0', 'K0', 'K0'],\n",
        "         'Address':['Nagpur', 'Kanpur', 'Allahabad', 'Kannuaj'], \n",
        "        'Qualification':['Btech', 'B.A', 'Bcom', 'B.hons']} \n",
        " \n",
        "# Convert the dictionary into DataFrame  \n",
        "df = pd.DataFrame(data1)\n",
        " \n",
        "# Convert the dictionary into DataFrame  \n",
        "df1 = pd.DataFrame(data2) \n",
        "  \n",
        " \n",
        "print(df, \"\\n\\n\", df1) "
      ],
      "execution_count": null,
      "outputs": [
        {
          "output_type": "stream",
          "text": [
            "  key key1    Name  Age\n",
            "0  K0   K0     Jai   27\n",
            "1  K1   K1  Princi   24\n",
            "2  K2   K0  Gaurav   22\n",
            "3  K3   K1    Anuj   32 \n",
            "\n",
            "   key key1    Address Qualification\n",
            "0  K0   K0     Nagpur         Btech\n",
            "1  K1   K0     Kanpur           B.A\n",
            "2  K2   K0  Allahabad          Bcom\n",
            "3  K3   K0    Kannuaj        B.hons\n"
          ],
          "name": "stdout"
        }
      ]
    },
    {
      "cell_type": "code",
      "metadata": {
        "id": "ZGnWEriI0_jv",
        "colab": {
          "base_uri": "https://localhost:8080/",
          "height": 112
        },
        "outputId": "31571d2c-08e6-4677-bd00-47cf57cee833"
      },
      "source": [
        "#Now we merge dataframe using multiple keys\n",
        "# merging dataframe using multiple keys\n",
        "res1 = pd.merge(df, df1, on=['key', 'key1'])\n",
        " \n",
        "res1"
      ],
      "execution_count": null,
      "outputs": [
        {
          "output_type": "execute_result",
          "data": {
            "text/html": [
              "<div>\n",
              "<style scoped>\n",
              "    .dataframe tbody tr th:only-of-type {\n",
              "        vertical-align: middle;\n",
              "    }\n",
              "\n",
              "    .dataframe tbody tr th {\n",
              "        vertical-align: top;\n",
              "    }\n",
              "\n",
              "    .dataframe thead th {\n",
              "        text-align: right;\n",
              "    }\n",
              "</style>\n",
              "<table border=\"1\" class=\"dataframe\">\n",
              "  <thead>\n",
              "    <tr style=\"text-align: right;\">\n",
              "      <th></th>\n",
              "      <th>key</th>\n",
              "      <th>key1</th>\n",
              "      <th>Name</th>\n",
              "      <th>Age</th>\n",
              "      <th>Address</th>\n",
              "      <th>Qualification</th>\n",
              "    </tr>\n",
              "  </thead>\n",
              "  <tbody>\n",
              "    <tr>\n",
              "      <th>0</th>\n",
              "      <td>K0</td>\n",
              "      <td>K0</td>\n",
              "      <td>Jai</td>\n",
              "      <td>27</td>\n",
              "      <td>Nagpur</td>\n",
              "      <td>Btech</td>\n",
              "    </tr>\n",
              "    <tr>\n",
              "      <th>1</th>\n",
              "      <td>K2</td>\n",
              "      <td>K0</td>\n",
              "      <td>Gaurav</td>\n",
              "      <td>22</td>\n",
              "      <td>Allahabad</td>\n",
              "      <td>Bcom</td>\n",
              "    </tr>\n",
              "  </tbody>\n",
              "</table>\n",
              "</div>"
            ],
            "text/plain": [
              "  key key1    Name  Age    Address Qualification\n",
              "0  K0   K0     Jai   27     Nagpur         Btech\n",
              "1  K2   K0  Gaurav   22  Allahabad          Bcom"
            ]
          },
          "metadata": {
            "tags": []
          },
          "execution_count": 26
        }
      ]
    },
    {
      "cell_type": "markdown",
      "metadata": {
        "id": "n05U6gfR1LBl"
      },
      "source": [
        "**Merging dataframe using how in an argument:**\n",
        "\n",
        "We use how argument to merge specifies how to determine which keys are to be included in the resulting table. \n",
        "\n",
        "If a key combination does not appear in either the left or right tables, the values in the joined table will be NA.\n",
        "\n",
        " Here is a summary of the how options and their SQL equivalent names:\n",
        "\n",
        "left ->\t              LEFT OUTER JOIN (\tUse keys from left frame only)\n",
        "right ->\t           RIGHT OUTER JOIN (\tUse keys from right frame only)\n",
        "outer \t->            FULL OUTER JOIN (\tUse union of keys from both frames)\n",
        "inner \t     ->     INNER JOIN \t(Use intersection of keys from both frames)"
      ]
    },
    {
      "cell_type": "code",
      "metadata": {
        "id": "XXwbRZU91eq2",
        "colab": {
          "base_uri": "https://localhost:8080/",
          "height": 202
        },
        "outputId": "4bb2a24b-32aa-4cba-d137-de063f6c1861"
      },
      "source": [
        "# importing pandas module\n",
        "import pandas as pd \n",
        " \n",
        "# Define a dictionary containing employee data \n",
        "data1 = {'key': ['K0', 'K1', 'K2', 'K3'],\n",
        "         'key1': ['K0', 'K1', 'K0', 'K1'],\n",
        "         'Name':['Jai', 'Princi', 'Gaurav', 'Anuj'], \n",
        "        'Age':[27, 24, 22, 32],} \n",
        "   \n",
        "# Define a dictionary containing employee data \n",
        "data2 = {'key': ['K0', 'K1', 'K2', 'K3'],\n",
        "         'key1': ['K0', 'K0', 'K0', 'K0'],\n",
        "         'Address':['Nagpur', 'Kanpur', 'Allahabad', 'Kannuaj'], \n",
        "        'Qualification':['Btech', 'B.A', 'Bcom', 'B.hons']} \n",
        " \n",
        "# Convert the dictionary into DataFrame  \n",
        "df = pd.DataFrame(data1)\n",
        " \n",
        "# Convert the dictionary into DataFrame  \n",
        "df1 = pd.DataFrame(data2) \n",
        "  \n",
        " \n",
        "print(df, \"\\n\\n\", df1) "
      ],
      "execution_count": null,
      "outputs": [
        {
          "output_type": "stream",
          "text": [
            "  key key1    Name  Age\n",
            "0  K0   K0     Jai   27\n",
            "1  K1   K1  Princi   24\n",
            "2  K2   K0  Gaurav   22\n",
            "3  K3   K1    Anuj   32 \n",
            "\n",
            "   key key1    Address Qualification\n",
            "0  K0   K0     Nagpur         Btech\n",
            "1  K1   K0     Kanpur           B.A\n",
            "2  K2   K0  Allahabad          Bcom\n",
            "3  K3   K0    Kannuaj        B.hons\n"
          ],
          "name": "stdout"
        }
      ]
    },
    {
      "cell_type": "code",
      "metadata": {
        "id": "9_hqIvOs16VP",
        "colab": {
          "base_uri": "https://localhost:8080/",
          "height": 166
        },
        "outputId": "b91bbb4b-34aa-4347-b760-51034991f620"
      },
      "source": [
        "#Now we set how = 'left' in order to use keys from left frame only.\n",
        "# using keys from left frame\n",
        "res = pd.merge(df, df1, how='left', on=['key', 'key1'])\n",
        " \n",
        "res"
      ],
      "execution_count": null,
      "outputs": [
        {
          "output_type": "execute_result",
          "data": {
            "text/html": [
              "<div>\n",
              "<style scoped>\n",
              "    .dataframe tbody tr th:only-of-type {\n",
              "        vertical-align: middle;\n",
              "    }\n",
              "\n",
              "    .dataframe tbody tr th {\n",
              "        vertical-align: top;\n",
              "    }\n",
              "\n",
              "    .dataframe thead th {\n",
              "        text-align: right;\n",
              "    }\n",
              "</style>\n",
              "<table border=\"1\" class=\"dataframe\">\n",
              "  <thead>\n",
              "    <tr style=\"text-align: right;\">\n",
              "      <th></th>\n",
              "      <th>key</th>\n",
              "      <th>key1</th>\n",
              "      <th>Name</th>\n",
              "      <th>Age</th>\n",
              "      <th>Address</th>\n",
              "      <th>Qualification</th>\n",
              "    </tr>\n",
              "  </thead>\n",
              "  <tbody>\n",
              "    <tr>\n",
              "      <th>0</th>\n",
              "      <td>K0</td>\n",
              "      <td>K0</td>\n",
              "      <td>Jai</td>\n",
              "      <td>27</td>\n",
              "      <td>Nagpur</td>\n",
              "      <td>Btech</td>\n",
              "    </tr>\n",
              "    <tr>\n",
              "      <th>1</th>\n",
              "      <td>K1</td>\n",
              "      <td>K1</td>\n",
              "      <td>Princi</td>\n",
              "      <td>24</td>\n",
              "      <td>NaN</td>\n",
              "      <td>NaN</td>\n",
              "    </tr>\n",
              "    <tr>\n",
              "      <th>2</th>\n",
              "      <td>K2</td>\n",
              "      <td>K0</td>\n",
              "      <td>Gaurav</td>\n",
              "      <td>22</td>\n",
              "      <td>Allahabad</td>\n",
              "      <td>Bcom</td>\n",
              "    </tr>\n",
              "    <tr>\n",
              "      <th>3</th>\n",
              "      <td>K3</td>\n",
              "      <td>K1</td>\n",
              "      <td>Anuj</td>\n",
              "      <td>32</td>\n",
              "      <td>NaN</td>\n",
              "      <td>NaN</td>\n",
              "    </tr>\n",
              "  </tbody>\n",
              "</table>\n",
              "</div>"
            ],
            "text/plain": [
              "  key key1    Name  Age    Address Qualification\n",
              "0  K0   K0     Jai   27     Nagpur         Btech\n",
              "1  K1   K1  Princi   24        NaN           NaN\n",
              "2  K2   K0  Gaurav   22  Allahabad          Bcom\n",
              "3  K3   K1    Anuj   32        NaN           NaN"
            ]
          },
          "metadata": {
            "tags": []
          },
          "execution_count": 2
        }
      ]
    },
    {
      "cell_type": "code",
      "metadata": {
        "id": "VRQfg7Hl2Gzf",
        "colab": {
          "base_uri": "https://localhost:8080/",
          "height": 166
        },
        "outputId": "b208bf99-2b76-4d17-88a6-c8d733d900b3"
      },
      "source": [
        "#Now we set how = 'right' in order to use keys from right frame only.\n",
        "# using keys from right frame\n",
        "res1 = pd.merge(df, df1, how='right', on=['key', 'key1'])\n",
        " \n",
        "res1"
      ],
      "execution_count": null,
      "outputs": [
        {
          "output_type": "execute_result",
          "data": {
            "text/html": [
              "<div>\n",
              "<style scoped>\n",
              "    .dataframe tbody tr th:only-of-type {\n",
              "        vertical-align: middle;\n",
              "    }\n",
              "\n",
              "    .dataframe tbody tr th {\n",
              "        vertical-align: top;\n",
              "    }\n",
              "\n",
              "    .dataframe thead th {\n",
              "        text-align: right;\n",
              "    }\n",
              "</style>\n",
              "<table border=\"1\" class=\"dataframe\">\n",
              "  <thead>\n",
              "    <tr style=\"text-align: right;\">\n",
              "      <th></th>\n",
              "      <th>key</th>\n",
              "      <th>key1</th>\n",
              "      <th>Name</th>\n",
              "      <th>Age</th>\n",
              "      <th>Address</th>\n",
              "      <th>Qualification</th>\n",
              "    </tr>\n",
              "  </thead>\n",
              "  <tbody>\n",
              "    <tr>\n",
              "      <th>0</th>\n",
              "      <td>K0</td>\n",
              "      <td>K0</td>\n",
              "      <td>Jai</td>\n",
              "      <td>27.0</td>\n",
              "      <td>Nagpur</td>\n",
              "      <td>Btech</td>\n",
              "    </tr>\n",
              "    <tr>\n",
              "      <th>1</th>\n",
              "      <td>K1</td>\n",
              "      <td>K0</td>\n",
              "      <td>NaN</td>\n",
              "      <td>NaN</td>\n",
              "      <td>Kanpur</td>\n",
              "      <td>B.A</td>\n",
              "    </tr>\n",
              "    <tr>\n",
              "      <th>2</th>\n",
              "      <td>K2</td>\n",
              "      <td>K0</td>\n",
              "      <td>Gaurav</td>\n",
              "      <td>22.0</td>\n",
              "      <td>Allahabad</td>\n",
              "      <td>Bcom</td>\n",
              "    </tr>\n",
              "    <tr>\n",
              "      <th>3</th>\n",
              "      <td>K3</td>\n",
              "      <td>K0</td>\n",
              "      <td>NaN</td>\n",
              "      <td>NaN</td>\n",
              "      <td>Kannuaj</td>\n",
              "      <td>B.hons</td>\n",
              "    </tr>\n",
              "  </tbody>\n",
              "</table>\n",
              "</div>"
            ],
            "text/plain": [
              "  key key1    Name   Age    Address Qualification\n",
              "0  K0   K0     Jai  27.0     Nagpur         Btech\n",
              "1  K1   K0     NaN   NaN     Kanpur           B.A\n",
              "2  K2   K0  Gaurav  22.0  Allahabad          Bcom\n",
              "3  K3   K0     NaN   NaN    Kannuaj        B.hons"
            ]
          },
          "metadata": {
            "tags": []
          },
          "execution_count": 3
        }
      ]
    },
    {
      "cell_type": "code",
      "metadata": {
        "id": "ju895FYI2KEM",
        "colab": {
          "base_uri": "https://localhost:8080/",
          "height": 238
        },
        "outputId": "c748d00b-8b36-40ce-a53c-1de140d85594"
      },
      "source": [
        "#Now we set how = 'outer' in order to get union of keys from dataframes.\n",
        "# getting union  of keys\n",
        "res2 = pd.merge(df, df1, how='outer', on=['key', 'key1'])\n",
        " \n",
        "res2"
      ],
      "execution_count": null,
      "outputs": [
        {
          "output_type": "execute_result",
          "data": {
            "text/html": [
              "<div>\n",
              "<style scoped>\n",
              "    .dataframe tbody tr th:only-of-type {\n",
              "        vertical-align: middle;\n",
              "    }\n",
              "\n",
              "    .dataframe tbody tr th {\n",
              "        vertical-align: top;\n",
              "    }\n",
              "\n",
              "    .dataframe thead th {\n",
              "        text-align: right;\n",
              "    }\n",
              "</style>\n",
              "<table border=\"1\" class=\"dataframe\">\n",
              "  <thead>\n",
              "    <tr style=\"text-align: right;\">\n",
              "      <th></th>\n",
              "      <th>key</th>\n",
              "      <th>key1</th>\n",
              "      <th>Name</th>\n",
              "      <th>Age</th>\n",
              "      <th>Address</th>\n",
              "      <th>Qualification</th>\n",
              "    </tr>\n",
              "  </thead>\n",
              "  <tbody>\n",
              "    <tr>\n",
              "      <th>0</th>\n",
              "      <td>K0</td>\n",
              "      <td>K0</td>\n",
              "      <td>Jai</td>\n",
              "      <td>27.0</td>\n",
              "      <td>Nagpur</td>\n",
              "      <td>Btech</td>\n",
              "    </tr>\n",
              "    <tr>\n",
              "      <th>1</th>\n",
              "      <td>K1</td>\n",
              "      <td>K1</td>\n",
              "      <td>Princi</td>\n",
              "      <td>24.0</td>\n",
              "      <td>NaN</td>\n",
              "      <td>NaN</td>\n",
              "    </tr>\n",
              "    <tr>\n",
              "      <th>2</th>\n",
              "      <td>K2</td>\n",
              "      <td>K0</td>\n",
              "      <td>Gaurav</td>\n",
              "      <td>22.0</td>\n",
              "      <td>Allahabad</td>\n",
              "      <td>Bcom</td>\n",
              "    </tr>\n",
              "    <tr>\n",
              "      <th>3</th>\n",
              "      <td>K3</td>\n",
              "      <td>K1</td>\n",
              "      <td>Anuj</td>\n",
              "      <td>32.0</td>\n",
              "      <td>NaN</td>\n",
              "      <td>NaN</td>\n",
              "    </tr>\n",
              "    <tr>\n",
              "      <th>4</th>\n",
              "      <td>K1</td>\n",
              "      <td>K0</td>\n",
              "      <td>NaN</td>\n",
              "      <td>NaN</td>\n",
              "      <td>Kanpur</td>\n",
              "      <td>B.A</td>\n",
              "    </tr>\n",
              "    <tr>\n",
              "      <th>5</th>\n",
              "      <td>K3</td>\n",
              "      <td>K0</td>\n",
              "      <td>NaN</td>\n",
              "      <td>NaN</td>\n",
              "      <td>Kannuaj</td>\n",
              "      <td>B.hons</td>\n",
              "    </tr>\n",
              "  </tbody>\n",
              "</table>\n",
              "</div>"
            ],
            "text/plain": [
              "  key key1    Name   Age    Address Qualification\n",
              "0  K0   K0     Jai  27.0     Nagpur         Btech\n",
              "1  K1   K1  Princi  24.0        NaN           NaN\n",
              "2  K2   K0  Gaurav  22.0  Allahabad          Bcom\n",
              "3  K3   K1    Anuj  32.0        NaN           NaN\n",
              "4  K1   K0     NaN   NaN     Kanpur           B.A\n",
              "5  K3   K0     NaN   NaN    Kannuaj        B.hons"
            ]
          },
          "metadata": {
            "tags": []
          },
          "execution_count": 30
        }
      ]
    },
    {
      "cell_type": "code",
      "metadata": {
        "id": "oSIJjF3G2UYC",
        "colab": {
          "base_uri": "https://localhost:8080/",
          "height": 112
        },
        "outputId": "8034fc5b-d857-4f82-c9a3-5e8b5268a396"
      },
      "source": [
        "#Now we set how = 'inner' in order to get intersection of keys from dataframes.\n",
        "# getting intersection of keys\n",
        "res3 = pd.merge(df, df1, how='inner', on=['key', 'key1'])\n",
        " \n",
        "res3"
      ],
      "execution_count": null,
      "outputs": [
        {
          "output_type": "execute_result",
          "data": {
            "text/html": [
              "<div>\n",
              "<style scoped>\n",
              "    .dataframe tbody tr th:only-of-type {\n",
              "        vertical-align: middle;\n",
              "    }\n",
              "\n",
              "    .dataframe tbody tr th {\n",
              "        vertical-align: top;\n",
              "    }\n",
              "\n",
              "    .dataframe thead th {\n",
              "        text-align: right;\n",
              "    }\n",
              "</style>\n",
              "<table border=\"1\" class=\"dataframe\">\n",
              "  <thead>\n",
              "    <tr style=\"text-align: right;\">\n",
              "      <th></th>\n",
              "      <th>key</th>\n",
              "      <th>key1</th>\n",
              "      <th>Name</th>\n",
              "      <th>Age</th>\n",
              "      <th>Address</th>\n",
              "      <th>Qualification</th>\n",
              "    </tr>\n",
              "  </thead>\n",
              "  <tbody>\n",
              "    <tr>\n",
              "      <th>0</th>\n",
              "      <td>K0</td>\n",
              "      <td>K0</td>\n",
              "      <td>Jai</td>\n",
              "      <td>27</td>\n",
              "      <td>Nagpur</td>\n",
              "      <td>Btech</td>\n",
              "    </tr>\n",
              "    <tr>\n",
              "      <th>1</th>\n",
              "      <td>K2</td>\n",
              "      <td>K0</td>\n",
              "      <td>Gaurav</td>\n",
              "      <td>22</td>\n",
              "      <td>Allahabad</td>\n",
              "      <td>Bcom</td>\n",
              "    </tr>\n",
              "  </tbody>\n",
              "</table>\n",
              "</div>"
            ],
            "text/plain": [
              "  key key1    Name  Age    Address Qualification\n",
              "0  K0   K0     Jai   27     Nagpur         Btech\n",
              "1  K2   K0  Gaurav   22  Allahabad          Bcom"
            ]
          },
          "metadata": {
            "tags": []
          },
          "execution_count": 31
        }
      ]
    },
    {
      "cell_type": "markdown",
      "metadata": {
        "id": "vmOBM22m2aUU"
      },
      "source": [
        "**Joining DataFrame**\n",
        "\n",
        "In order to join dataframe, we use .join() function this function is used for combining the columns of two potentially differently-indexed DataFrames into a single result DataFrame."
      ]
    },
    {
      "cell_type": "code",
      "metadata": {
        "id": "PRIXHiQz2jzI",
        "colab": {
          "base_uri": "https://localhost:8080/",
          "height": 219
        },
        "outputId": "b0bd032c-4759-439c-fa7c-4d82c070d099"
      },
      "source": [
        "# importing pandas module\n",
        "import pandas as pd \n",
        "  \n",
        "# Define a dictionary containing employee data \n",
        "data1 = {'Name':['Jai', 'Princi', 'Gaurav', 'Anuj'], \n",
        "        'Age':[27, 24, 22, 32]} \n",
        "    \n",
        "# Define a dictionary containing employee data \n",
        "data2 = {'Address':['Allahabad', 'Kannuaj', 'Allahabad', 'Kannuaj'], \n",
        "        'Qualification':['MCA', 'Phd', 'Bcom', 'B.hons']} \n",
        "  \n",
        "# Convert the dictionary into DataFrame  \n",
        "df = pd.DataFrame(data1,index=['K0', 'K1', 'K2', 'K3'])\n",
        "  \n",
        "# Convert the dictionary into DataFrame  \n",
        "df1 = pd.DataFrame(data2, index=['K0', 'K2', 'K3', 'K4'])\n",
        " \n",
        " \n",
        "print(df, \"\\n\\n\", df1)  "
      ],
      "execution_count": null,
      "outputs": [
        {
          "output_type": "stream",
          "text": [
            "      Name  Age\n",
            "K0     Jai   27\n",
            "K1  Princi   24\n",
            "K2  Gaurav   22\n",
            "K3    Anuj   32 \n",
            "\n",
            "       Address Qualification\n",
            "K0  Allahabad           MCA\n",
            "K2    Kannuaj           Phd\n",
            "K3  Allahabad          Bcom\n",
            "K4    Kannuaj        B.hons\n"
          ],
          "name": "stdout"
        }
      ]
    },
    {
      "cell_type": "code",
      "metadata": {
        "id": "2heKqYIC2nJk",
        "colab": {
          "base_uri": "https://localhost:8080/",
          "height": 175
        },
        "outputId": "c4959309-9251-4ade-dc25-a3def6dee363"
      },
      "source": [
        "#Now we are use .join() method in order to join dataframes\n",
        "# joining dataframe\n",
        "res = df.join(df1)\n",
        " \n",
        "res"
      ],
      "execution_count": null,
      "outputs": [
        {
          "output_type": "execute_result",
          "data": {
            "text/html": [
              "<div>\n",
              "<style scoped>\n",
              "    .dataframe tbody tr th:only-of-type {\n",
              "        vertical-align: middle;\n",
              "    }\n",
              "\n",
              "    .dataframe tbody tr th {\n",
              "        vertical-align: top;\n",
              "    }\n",
              "\n",
              "    .dataframe thead th {\n",
              "        text-align: right;\n",
              "    }\n",
              "</style>\n",
              "<table border=\"1\" class=\"dataframe\">\n",
              "  <thead>\n",
              "    <tr style=\"text-align: right;\">\n",
              "      <th></th>\n",
              "      <th>Name</th>\n",
              "      <th>Age</th>\n",
              "      <th>Address</th>\n",
              "      <th>Qualification</th>\n",
              "    </tr>\n",
              "  </thead>\n",
              "  <tbody>\n",
              "    <tr>\n",
              "      <th>K0</th>\n",
              "      <td>Jai</td>\n",
              "      <td>27</td>\n",
              "      <td>Allahabad</td>\n",
              "      <td>MCA</td>\n",
              "    </tr>\n",
              "    <tr>\n",
              "      <th>K1</th>\n",
              "      <td>Princi</td>\n",
              "      <td>24</td>\n",
              "      <td>NaN</td>\n",
              "      <td>NaN</td>\n",
              "    </tr>\n",
              "    <tr>\n",
              "      <th>K2</th>\n",
              "      <td>Gaurav</td>\n",
              "      <td>22</td>\n",
              "      <td>Kannuaj</td>\n",
              "      <td>Phd</td>\n",
              "    </tr>\n",
              "    <tr>\n",
              "      <th>K3</th>\n",
              "      <td>Anuj</td>\n",
              "      <td>32</td>\n",
              "      <td>Allahabad</td>\n",
              "      <td>Bcom</td>\n",
              "    </tr>\n",
              "  </tbody>\n",
              "</table>\n",
              "</div>"
            ],
            "text/plain": [
              "      Name  Age    Address Qualification\n",
              "K0     Jai   27  Allahabad           MCA\n",
              "K1  Princi   24        NaN           NaN\n",
              "K2  Gaurav   22    Kannuaj           Phd\n",
              "K3    Anuj   32  Allahabad          Bcom"
            ]
          },
          "metadata": {
            "tags": []
          },
          "execution_count": 34
        }
      ]
    },
    {
      "cell_type": "code",
      "metadata": {
        "id": "fBWNsM7k2s8w",
        "colab": {
          "base_uri": "https://localhost:8080/",
          "height": 206
        },
        "outputId": "96de402e-2880-445e-be7f-c3060d52ec59"
      },
      "source": [
        "#Now we use how = 'outer' in order to get union\n",
        "# getting union\n",
        "res1 = df.join(df1, how='outer')\n",
        " \n",
        "res1"
      ],
      "execution_count": null,
      "outputs": [
        {
          "output_type": "execute_result",
          "data": {
            "text/html": [
              "<div>\n",
              "<style scoped>\n",
              "    .dataframe tbody tr th:only-of-type {\n",
              "        vertical-align: middle;\n",
              "    }\n",
              "\n",
              "    .dataframe tbody tr th {\n",
              "        vertical-align: top;\n",
              "    }\n",
              "\n",
              "    .dataframe thead th {\n",
              "        text-align: right;\n",
              "    }\n",
              "</style>\n",
              "<table border=\"1\" class=\"dataframe\">\n",
              "  <thead>\n",
              "    <tr style=\"text-align: right;\">\n",
              "      <th></th>\n",
              "      <th>Name</th>\n",
              "      <th>Age</th>\n",
              "      <th>Address</th>\n",
              "      <th>Qualification</th>\n",
              "    </tr>\n",
              "  </thead>\n",
              "  <tbody>\n",
              "    <tr>\n",
              "      <th>K0</th>\n",
              "      <td>Jai</td>\n",
              "      <td>27.0</td>\n",
              "      <td>Allahabad</td>\n",
              "      <td>MCA</td>\n",
              "    </tr>\n",
              "    <tr>\n",
              "      <th>K1</th>\n",
              "      <td>Princi</td>\n",
              "      <td>24.0</td>\n",
              "      <td>NaN</td>\n",
              "      <td>NaN</td>\n",
              "    </tr>\n",
              "    <tr>\n",
              "      <th>K2</th>\n",
              "      <td>Gaurav</td>\n",
              "      <td>22.0</td>\n",
              "      <td>Kannuaj</td>\n",
              "      <td>Phd</td>\n",
              "    </tr>\n",
              "    <tr>\n",
              "      <th>K3</th>\n",
              "      <td>Anuj</td>\n",
              "      <td>32.0</td>\n",
              "      <td>Allahabad</td>\n",
              "      <td>Bcom</td>\n",
              "    </tr>\n",
              "    <tr>\n",
              "      <th>K4</th>\n",
              "      <td>NaN</td>\n",
              "      <td>NaN</td>\n",
              "      <td>Kannuaj</td>\n",
              "      <td>B.hons</td>\n",
              "    </tr>\n",
              "  </tbody>\n",
              "</table>\n",
              "</div>"
            ],
            "text/plain": [
              "      Name   Age    Address Qualification\n",
              "K0     Jai  27.0  Allahabad           MCA\n",
              "K1  Princi  24.0        NaN           NaN\n",
              "K2  Gaurav  22.0    Kannuaj           Phd\n",
              "K3    Anuj  32.0  Allahabad          Bcom\n",
              "K4     NaN   NaN    Kannuaj        B.hons"
            ]
          },
          "metadata": {
            "tags": []
          },
          "execution_count": 35
        }
      ]
    },
    {
      "cell_type": "markdown",
      "metadata": {
        "id": "4Jv7FgJs22iS"
      },
      "source": [
        "**Joining dataframe using on in an argument :**\n",
        "\n",
        "In order to join dataframes we use on in an argument.\n",
        "\n",
        "join() takes an optional on argument which may be a column or multiple column names, which specifies that the passed DataFrame is to be aligned on that column in the DataFrame. "
      ]
    },
    {
      "cell_type": "code",
      "metadata": {
        "id": "loIMMTD82ynF",
        "colab": {
          "base_uri": "https://localhost:8080/",
          "height": 219
        },
        "outputId": "cb8df7f4-b466-44f2-83e7-ab673b10cc7d"
      },
      "source": [
        "# importing pandas module\n",
        "import pandas as pd \n",
        "  \n",
        "# Define a dictionary containing employee data \n",
        "data1 = {'Name':['Jai', 'Princi', 'Gaurav', 'Anuj'], \n",
        "        'Age':[27, 24, 22, 32],\n",
        "        'Key':['K0', 'K1', 'K2', 'K3']} \n",
        "    \n",
        "# Define a dictionary containing employee data \n",
        "data2 = {'Address':['Allahabad', 'Kannuaj', 'Allahabad', 'Kannuaj'], \n",
        "        'Qualification':['MCA', 'Phd', 'Bcom', 'B.hons']} \n",
        "  \n",
        "# Convert the dictionary into DataFrame  \n",
        "df = pd.DataFrame(data1)\n",
        "  \n",
        "# Convert the dictionary into DataFrame  \n",
        "df1 = pd.DataFrame(data2, index=['K0', 'K2', 'K3', 'K4'])\n",
        " \n",
        " \n",
        "print(df, \"\\n\\n\", df1) "
      ],
      "execution_count": null,
      "outputs": [
        {
          "output_type": "stream",
          "text": [
            "     Name  Age Key\n",
            "0     Jai   27  K0\n",
            "1  Princi   24  K1\n",
            "2  Gaurav   22  K2\n",
            "3    Anuj   32  K3 \n",
            "\n",
            "       Address Qualification\n",
            "K0  Allahabad           MCA\n",
            "K2    Kannuaj           Phd\n",
            "K3  Allahabad          Bcom\n",
            "K4    Kannuaj        B.hons\n"
          ],
          "name": "stdout"
        }
      ]
    },
    {
      "cell_type": "code",
      "metadata": {
        "id": "jpwYFTC43BiE",
        "colab": {
          "base_uri": "https://localhost:8080/",
          "height": 175
        },
        "outputId": "656232cc-72c9-4769-d8a1-a6488a6a3816"
      },
      "source": [
        "#Now we are using .join with “on” argument\n",
        "# using on argument in join\n",
        "res2 = df.join(df1, on='Key')\n",
        " \n",
        "res2"
      ],
      "execution_count": null,
      "outputs": [
        {
          "output_type": "execute_result",
          "data": {
            "text/html": [
              "<div>\n",
              "<style scoped>\n",
              "    .dataframe tbody tr th:only-of-type {\n",
              "        vertical-align: middle;\n",
              "    }\n",
              "\n",
              "    .dataframe tbody tr th {\n",
              "        vertical-align: top;\n",
              "    }\n",
              "\n",
              "    .dataframe thead th {\n",
              "        text-align: right;\n",
              "    }\n",
              "</style>\n",
              "<table border=\"1\" class=\"dataframe\">\n",
              "  <thead>\n",
              "    <tr style=\"text-align: right;\">\n",
              "      <th></th>\n",
              "      <th>Name</th>\n",
              "      <th>Age</th>\n",
              "      <th>Key</th>\n",
              "      <th>Address</th>\n",
              "      <th>Qualification</th>\n",
              "    </tr>\n",
              "  </thead>\n",
              "  <tbody>\n",
              "    <tr>\n",
              "      <th>0</th>\n",
              "      <td>Jai</td>\n",
              "      <td>27</td>\n",
              "      <td>K0</td>\n",
              "      <td>Allahabad</td>\n",
              "      <td>MCA</td>\n",
              "    </tr>\n",
              "    <tr>\n",
              "      <th>1</th>\n",
              "      <td>Princi</td>\n",
              "      <td>24</td>\n",
              "      <td>K1</td>\n",
              "      <td>NaN</td>\n",
              "      <td>NaN</td>\n",
              "    </tr>\n",
              "    <tr>\n",
              "      <th>2</th>\n",
              "      <td>Gaurav</td>\n",
              "      <td>22</td>\n",
              "      <td>K2</td>\n",
              "      <td>Kannuaj</td>\n",
              "      <td>Phd</td>\n",
              "    </tr>\n",
              "    <tr>\n",
              "      <th>3</th>\n",
              "      <td>Anuj</td>\n",
              "      <td>32</td>\n",
              "      <td>K3</td>\n",
              "      <td>Allahabad</td>\n",
              "      <td>Bcom</td>\n",
              "    </tr>\n",
              "  </tbody>\n",
              "</table>\n",
              "</div>"
            ],
            "text/plain": [
              "     Name  Age Key    Address Qualification\n",
              "0     Jai   27  K0  Allahabad           MCA\n",
              "1  Princi   24  K1        NaN           NaN\n",
              "2  Gaurav   22  K2    Kannuaj           Phd\n",
              "3    Anuj   32  K3  Allahabad          Bcom"
            ]
          },
          "metadata": {
            "tags": []
          },
          "execution_count": 37
        }
      ]
    },
    {
      "cell_type": "markdown",
      "metadata": {
        "id": "bASldfHN3Juk"
      },
      "source": [
        "**Joining singly-indexed DataFrame with multi-indexed DataFrame :**\n",
        "\n",
        "In order to join singly indexed dataframe with multi-indexed dataframe, the level will match on the name of the index of the singly-indexed frame against a level name of the multi-indexed frame."
      ]
    },
    {
      "cell_type": "code",
      "metadata": {
        "id": "AfC8bSZu3NSD",
        "colab": {
          "base_uri": "https://localhost:8080/",
          "height": 237
        },
        "outputId": "8a29c3ec-c6a8-49a9-b1b5-0b066bdf1a6e"
      },
      "source": [
        "# importing pandas module\n",
        "import pandas as pd \n",
        "  \n",
        "# Define a dictionary containing employee data \n",
        "data1 = {'Name':['Jai', 'Princi', 'Gaurav'], \n",
        "        'Age':[27, 24, 22]} \n",
        "    \n",
        "# Define a dictionary containing employee data \n",
        "data2 = {'Address':['Allahabad', 'Kannuaj', 'Allahabad', 'Kanpur'], \n",
        "        'Qualification':['MCA', 'Phd', 'Bcom', 'B.hons']} \n",
        "  \n",
        "# Convert the dictionary into DataFrame  \n",
        "df = pd.DataFrame(data1, index=pd.Index(['K0', 'K1', 'K2'], name='key'))\n",
        " \n",
        "index = pd.MultiIndex.from_tuples([('K0', 'Y0'), ('K1', 'Y1'),\n",
        "                                   ('K2', 'Y2'), ('K2', 'Y3')],\n",
        "                                   names=['key', 'Y'])\n",
        "  \n",
        "# Convert the dictionary into DataFrame  \n",
        "df1 = pd.DataFrame(data2, index= index)\n",
        " \n",
        " \n",
        "print(df, \"\\n\\n\", df1)"
      ],
      "execution_count": null,
      "outputs": [
        {
          "output_type": "stream",
          "text": [
            "       Name  Age\n",
            "key             \n",
            "K0      Jai   27\n",
            "K1   Princi   24\n",
            "K2   Gaurav   22 \n",
            "\n",
            "           Address Qualification\n",
            "key Y                          \n",
            "K0  Y0  Allahabad           MCA\n",
            "K1  Y1    Kannuaj           Phd\n",
            "K2  Y2  Allahabad          Bcom\n",
            "    Y3     Kanpur        B.hons\n"
          ],
          "name": "stdout"
        }
      ]
    },
    {
      "cell_type": "code",
      "metadata": {
        "id": "jwco7CZj3T2V",
        "colab": {
          "base_uri": "https://localhost:8080/",
          "height": 206
        },
        "outputId": "aad08388-955b-4e11-8cdb-08ef6bb75abb"
      },
      "source": [
        "#Now we join singly indexed dataframe with multi-indexed dataframe\n",
        "# joining singly indexed with multi indexed\n",
        "result = df.join(df1, how='inner')\n",
        " \n",
        "result"
      ],
      "execution_count": null,
      "outputs": [
        {
          "output_type": "execute_result",
          "data": {
            "text/html": [
              "<div>\n",
              "<style scoped>\n",
              "    .dataframe tbody tr th:only-of-type {\n",
              "        vertical-align: middle;\n",
              "    }\n",
              "\n",
              "    .dataframe tbody tr th {\n",
              "        vertical-align: top;\n",
              "    }\n",
              "\n",
              "    .dataframe thead th {\n",
              "        text-align: right;\n",
              "    }\n",
              "</style>\n",
              "<table border=\"1\" class=\"dataframe\">\n",
              "  <thead>\n",
              "    <tr style=\"text-align: right;\">\n",
              "      <th></th>\n",
              "      <th></th>\n",
              "      <th>Name</th>\n",
              "      <th>Age</th>\n",
              "      <th>Address</th>\n",
              "      <th>Qualification</th>\n",
              "    </tr>\n",
              "    <tr>\n",
              "      <th>key</th>\n",
              "      <th>Y</th>\n",
              "      <th></th>\n",
              "      <th></th>\n",
              "      <th></th>\n",
              "      <th></th>\n",
              "    </tr>\n",
              "  </thead>\n",
              "  <tbody>\n",
              "    <tr>\n",
              "      <th>K0</th>\n",
              "      <th>Y0</th>\n",
              "      <td>Jai</td>\n",
              "      <td>27</td>\n",
              "      <td>Allahabad</td>\n",
              "      <td>MCA</td>\n",
              "    </tr>\n",
              "    <tr>\n",
              "      <th>K1</th>\n",
              "      <th>Y1</th>\n",
              "      <td>Princi</td>\n",
              "      <td>24</td>\n",
              "      <td>Kannuaj</td>\n",
              "      <td>Phd</td>\n",
              "    </tr>\n",
              "    <tr>\n",
              "      <th rowspan=\"2\" valign=\"top\">K2</th>\n",
              "      <th>Y2</th>\n",
              "      <td>Gaurav</td>\n",
              "      <td>22</td>\n",
              "      <td>Allahabad</td>\n",
              "      <td>Bcom</td>\n",
              "    </tr>\n",
              "    <tr>\n",
              "      <th>Y3</th>\n",
              "      <td>Gaurav</td>\n",
              "      <td>22</td>\n",
              "      <td>Kanpur</td>\n",
              "      <td>B.hons</td>\n",
              "    </tr>\n",
              "  </tbody>\n",
              "</table>\n",
              "</div>"
            ],
            "text/plain": [
              "          Name  Age    Address Qualification\n",
              "key Y                                       \n",
              "K0  Y0     Jai   27  Allahabad           MCA\n",
              "K1  Y1  Princi   24    Kannuaj           Phd\n",
              "K2  Y2  Gaurav   22  Allahabad          Bcom\n",
              "    Y3  Gaurav   22     Kanpur        B.hons"
            ]
          },
          "metadata": {
            "tags": []
          },
          "execution_count": 39
        }
      ]
    }
  ]
}