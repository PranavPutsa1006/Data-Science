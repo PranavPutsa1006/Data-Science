{
  "nbformat": 4,
  "nbformat_minor": 0,
  "metadata": {
    "colab": {
      "name": "7. Data Visualization org.ipynb",
      "provenance": [],
      "collapsed_sections": [],
      "authorship_tag": "ABX9TyMiWOYw8kXbwZNSZAS9kfma",
      "include_colab_link": true
    },
    "kernelspec": {
      "name": "python3",
      "display_name": "Python 3"
    }
  },
  "cells": [
    {
      "cell_type": "markdown",
      "metadata": {
        "id": "view-in-github",
        "colab_type": "text"
      },
      "source": [
        "<a href=\"https://colab.research.google.com/github/PranavPutsa1006/Data-Science/blob/main/Data%20Visualization.ipynb\" target=\"_parent\"><img src=\"https://colab.research.google.com/assets/colab-badge.svg\" alt=\"Open In Colab\"/></a>"
      ]
    },
    {
      "cell_type": "markdown",
      "metadata": {
        "id": "tBQpwB1Lv4EQ"
      },
      "source": [
        "**How to Plot a DataFrame using Pandas?**\n",
        "\n",
        "Plot a Scatter Diagram using Pandas\n",
        "\n",
        "Scatter plots are used to depict a relationship between two variables."
      ]
    },
    {
      "cell_type": "code",
      "metadata": {
        "id": "_utqYqdnCeSw",
        "colab": {
          "base_uri": "https://localhost:8080/",
          "height": 202
        },
        "outputId": "db8436df-d7d5-4edc-f3f5-ab5d09849a51"
      },
      "source": [
        "from pandas import DataFrame\n",
        "   \n",
        "Data = {'Rate': [6.1,5.8,5.7,5.7,5.8,5.6,5.5,5.3,5.2,5.2],\n",
        "        'Price': [1500,1520,1525,1523,1515,1540,1545,1560,1555,1565]\n",
        "       }\n",
        "  \n",
        "df = DataFrame(Data,columns=['Rate','Price'])\n",
        "print (df)"
      ],
      "execution_count": null,
      "outputs": [
        {
          "output_type": "stream",
          "text": [
            "   Rate  Price\n",
            "0   6.1   1500\n",
            "1   5.8   1520\n",
            "2   5.7   1525\n",
            "3   5.7   1523\n",
            "4   5.8   1515\n",
            "5   5.6   1540\n",
            "6   5.5   1545\n",
            "7   5.3   1560\n",
            "8   5.2   1555\n",
            "9   5.2   1565\n"
          ],
          "name": "stdout"
        }
      ]
    },
    {
      "cell_type": "code",
      "metadata": {
        "id": "Etziiifx1EYJ",
        "colab": {
          "base_uri": "https://localhost:8080/",
          "height": 296
        },
        "outputId": "8d0a1486-aff7-4aa9-edab-d63def0a651c"
      },
      "source": [
        "df.plot(x ='Rate', y='Price', kind = 'scatter')"
      ],
      "execution_count": null,
      "outputs": [
        {
          "output_type": "execute_result",
          "data": {
            "text/plain": [
              "<matplotlib.axes._subplots.AxesSubplot at 0x7fc720f4da20>"
            ]
          },
          "metadata": {
            "tags": []
          },
          "execution_count": 2
        },
        {
          "output_type": "display_data",
          "data": {
            "image/png": "[encoded data removed]",
            "text/plain": [
              "<Figure size 432x288 with 1 Axes>"
            ]
          },
          "metadata": {
            "tags": [],
            "needs_background": "light"
          }
        }
      ]
    },
    {
      "cell_type": "code",
      "metadata": {
        "id": "BWgg6IU31PlK",
        "colab": {
          "base_uri": "https://localhost:8080/",
          "height": 279
        },
        "outputId": "08aac8b6-075e-45b6-a25f-36f51af123dc"
      },
      "source": [
        "from pandas import DataFrame\n",
        "import matplotlib.pyplot as plt\n",
        "   \n",
        "Data = {'Rate': [6.1,5.8,5.7,5.7,5.8,5.6,5.5,5.3,5.2,5.2],\n",
        "        'Price': [1500,1520,1525,1523,1515,1540,1545,1560,1555,1565]\n",
        "       }\n",
        "  \n",
        "df = DataFrame(Data,columns=['Rate','Price'])\n",
        "df.plot(x ='Rate', y='Price', kind = 'scatter')\n",
        "plt.show()"
      ],
      "execution_count": null,
      "outputs": [
        {
          "output_type": "display_data",
          "data": {
            "image/png": "[encoded data removed]",
            "text/plain": [
              "<Figure size 432x288 with 1 Axes>"
            ]
          },
          "metadata": {
            "tags": [],
            "needs_background": "light"
          }
        }
      ]
    },
    {
      "cell_type": "markdown",
      "metadata": {
        "id": "MfsIYQN719i4"
      },
      "source": [
        "**Plot a Line Chart using Pandas**\n",
        "\n",
        "from pandas import DataFrame\n",
        "   \n",
        "Data = {'Year': [1920,1930,1940,1950,1960,1970,1980,1990,2000,2010],\n",
        "        'Rate': [9.8,12,8,7.2,6.9,7,6.5,6.2,5.5,6.3]\n",
        "       }\n",
        "  \n",
        "df = DataFrame(Data,columns=['Year','Unemployment_Rate'])\n",
        "print (df)"
      ]
    },
    {
      "cell_type": "code",
      "metadata": {
        "id": "Y3ArAJHT2LZ1",
        "colab": {
          "base_uri": "https://localhost:8080/",
          "height": 202
        },
        "outputId": "608b31e6-c860-4c13-80c5-822438f753a2"
      },
      "source": [
        "from pandas import DataFrame\n",
        "   \n",
        "Data = {'Year': [1920,1930,1940,1950,1960,1970,1980,1990,2000,2010],\n",
        "        'Rate': [9.8,12,8,7.2,6.9,7,6.5,6.2,5.5,6.3]\n",
        "       }\n",
        "  \n",
        "df = DataFrame(Data,columns=['Year','Rate'])\n",
        "print (df)"
      ],
      "execution_count": null,
      "outputs": [
        {
          "output_type": "stream",
          "text": [
            "   Year  Rate\n",
            "0  1920   9.8\n",
            "1  1930  12.0\n",
            "2  1940   8.0\n",
            "3  1950   7.2\n",
            "4  1960   6.9\n",
            "5  1970   7.0\n",
            "6  1980   6.5\n",
            "7  1990   6.2\n",
            "8  2000   5.5\n",
            "9  2010   6.3\n"
          ],
          "name": "stdout"
        }
      ]
    },
    {
      "cell_type": "code",
      "metadata": {
        "id": "XWupBX6x21Xh",
        "colab": {
          "base_uri": "https://localhost:8080/",
          "height": 296
        },
        "outputId": "42d6a263-99f2-4466-cc6d-3becc1871372"
      },
      "source": [
        "df.plot(x ='Year', y='Rate', kind = 'line')"
      ],
      "execution_count": null,
      "outputs": [
        {
          "output_type": "execute_result",
          "data": {
            "text/plain": [
              "<matplotlib.axes._subplots.AxesSubplot at 0x7fc720eae7b8>"
            ]
          },
          "metadata": {
            "tags": []
          },
          "execution_count": 5
        },
        {
          "output_type": "display_data",
          "data": {
            "image/png": "[encoded data removed]",
            "text/plain": [
              "<Figure size 432x288 with 1 Axes>"
            ]
          },
          "metadata": {
            "tags": [],
            "needs_background": "light"
          }
        }
      ]
    },
    {
      "cell_type": "code",
      "metadata": {
        "id": "qbyZE6In3Eqf"
      },
      "source": [
        "from pandas import DataFrame\n",
        "import matplotlib.pyplot as plt\n",
        "   \n",
        "Data = {'Year': [1920,1930,1940,1950,1960,1970,1980,1990,2000,2010],\n",
        "        'Rate': [9.8,12,8,7.2,6.9,7,6.5,6.2,5.5,6.3]\n",
        "       }\n",
        "  \n",
        "df = DataFrame(Data,columns=['Year','Rate'])\n",
        "df.plot(x ='Year', y='Rate', kind = 'line')\n",
        "plt.show()"
      ],
      "execution_count": null,
      "outputs": []
    },
    {
      "cell_type": "markdown",
      "metadata": {
        "id": "8QlfeNzL3or6"
      },
      "source": [
        "**Plot a Bar Chart using Pandas**\n",
        "\n"
      ]
    },
    {
      "cell_type": "code",
      "metadata": {
        "id": "KYVN3hgd4JJj",
        "colab": {
          "base_uri": "https://localhost:8080/",
          "height": 118
        },
        "outputId": "25275152-5267-459d-e190-0e08c16751ca"
      },
      "source": [
        "from pandas import DataFrame\n",
        "   \n",
        "Data = {'Country': ['USA','Canada','Germany','UK','France'],\n",
        "        'GDP_Per_Capita': [45000,42000,52000,49000,47000]\n",
        "       }\n",
        "  \n",
        "df = DataFrame(Data,columns=['Country','GDP_Per_Capita'])\n",
        "print (df)"
      ],
      "execution_count": null,
      "outputs": [
        {
          "output_type": "stream",
          "text": [
            "   Country  GDP_Per_Capita\n",
            "0      USA           45000\n",
            "1   Canada           42000\n",
            "2  Germany           52000\n",
            "3       UK           49000\n",
            "4   France           47000\n"
          ],
          "name": "stdout"
        }
      ]
    },
    {
      "cell_type": "code",
      "metadata": {
        "id": "9sbkqRkk4bn5",
        "colab": {
          "base_uri": "https://localhost:8080/",
          "height": 332
        },
        "outputId": "9a18b222-ba81-4895-b2c9-8957cbf8a619"
      },
      "source": [
        "df.plot(x ='Country', y='GDP_Per_Capita', kind = 'bar')"
      ],
      "execution_count": null,
      "outputs": [
        {
          "output_type": "execute_result",
          "data": {
            "text/plain": [
              "<matplotlib.axes._subplots.AxesSubplot at 0x7fc7209ab828>"
            ]
          },
          "metadata": {
            "tags": []
          },
          "execution_count": 8
        },
        {
          "output_type": "display_data",
          "data": {
            "image/png": "[encoded data removed]",
            "text/plain": [
              "<Figure size 432x288 with 1 Axes>"
            ]
          },
          "metadata": {
            "tags": [],
            "needs_background": "light"
          }
        }
      ]
    },
    {
      "cell_type": "code",
      "metadata": {
        "id": "wqg4iC224mIE"
      },
      "source": [
        "from pandas import DataFrame\n",
        "import matplotlib.pyplot as plt\n",
        "   \n",
        "Data = {'Country': ['USA','Canada','Germany','UK','France'],\n",
        "        'GDP_Per_Capita': [45000,42000,52000,49000,47000]\n",
        "       }\n",
        "  \n",
        "df = DataFrame(Data,columns=['Country','GDP_Per_Capita'])\n",
        "df.plot(x ='Country', y='GDP_Per_Capita', kind = 'bar')\n",
        "plt.show()"
      ],
      "execution_count": null,
      "outputs": []
    },
    {
      "cell_type": "code",
      "metadata": {
        "id": "HzydOSkT5Pg1",
        "colab": {
          "base_uri": "https://localhost:8080/",
          "height": 84
        },
        "outputId": "6dc26fb4-4a8c-41e8-8cc2-aadc39d101f7"
      },
      "source": [
        "from pandas import DataFrame\n",
        "\n",
        "Data = {'Tasks': [300,500,700]}\n",
        "df = DataFrame(Data,columns=['Tasks'],index = ['Tasks Pending','Tasks Ongoing','Tasks Completed'])\n",
        "\n",
        "print (df)"
      ],
      "execution_count": null,
      "outputs": [
        {
          "output_type": "stream",
          "text": [
            "                 Tasks\n",
            "Tasks Pending      300\n",
            "Tasks Ongoing      500\n",
            "Tasks Completed    700\n"
          ],
          "name": "stdout"
        }
      ]
    },
    {
      "cell_type": "code",
      "metadata": {
        "id": "ohZ0xDVN5WOv",
        "colab": {
          "base_uri": "https://localhost:8080/",
          "height": 320
        },
        "outputId": "f0544407-9550-4dc2-9cfa-08e4b9265dff"
      },
      "source": [
        "df.plot.pie(y='Tasks',figsize=(5, 5),autopct='%1.1f%%', startangle=90)"
      ],
      "execution_count": null,
      "outputs": [
        {
          "output_type": "execute_result",
          "data": {
            "text/plain": [
              "<matplotlib.axes._subplots.AxesSubplot at 0x7fc720786cf8>"
            ]
          },
          "metadata": {
            "tags": []
          },
          "execution_count": 10
        },
        {
          "output_type": "display_data",
          "data": {
            "image/png": "[encoded data removed]",
            "text/plain": [
              "<Figure size 360x360 with 1 Axes>"
            ]
          },
          "metadata": {
            "tags": []
          }
        }
      ]
    },
    {
      "cell_type": "code",
      "metadata": {
        "id": "5pCFcqDh5ZXw"
      },
      "source": [
        "from pandas import DataFrame\n",
        "import matplotlib.pyplot as plt\n",
        "\n",
        "Data = {'Tasks': [300,500,700]}\n",
        "df = DataFrame(Data,columns=['Tasks'],index = ['Tasks Pending','Tasks Ongoing','Tasks Completed'])\n",
        "\n",
        "df.plot.pie(y='Tasks',figsize=(5, 5),autopct='%1.1f%%', startangle=90)\n",
        "plt.show()"
      ],
      "execution_count": null,
      "outputs": []
    },
    {
      "cell_type": "markdown",
      "metadata": {
        "id": "DxHjb3OLari2"
      },
      "source": [
        "**BOXPLOT:**\n",
        "Box Plot is the visual representation of the depicting groups of numerical data through their quartiles. Boxplot is also used for detect the outlier in data set. It captures the summary of the data efficiently with a simple box and whiskers and allows us to compare easily across groups. Boxplot summarizes a sample data using 25th, 50th and 75th percentiles. These percentiles are also known as the lower quartile, median and upper quartile.\n",
        "\n",
        "A box plot consist of 5 things.\n",
        "\n",
        "    Minimum\n",
        "    First Quartile or 25%\n",
        "    Median (Second Quartile) or 50%\n",
        "    Third Quartile or 75%\n",
        "    Maximum\n"
      ]
    },
    {
      "cell_type": "code",
      "metadata": {
        "id": "AQOAWSMxYNZO",
        "colab": {
          "base_uri": "https://localhost:8080/",
          "height": 284
        },
        "outputId": "2c1af31d-874d-45a9-9041-7fab1fa5fd7b"
      },
      "source": [
        "# import the required library \n",
        "import numpy as np \n",
        "import pandas as pd \n",
        "import matplotlib.pyplot as plt \n",
        "% matplotlib inline \n",
        "\n",
        "\n",
        "# load the dataset \n",
        "df = pd.read_csv(\"tips.csv\") \n",
        "\n",
        "# display 5 rows of dataset \n",
        "df.describe()\n"
      ],
      "execution_count": null,
      "outputs": [
        {
          "output_type": "execute_result",
          "data": {
            "text/html": [
              "<div>\n",
              "<style scoped>\n",
              "    .dataframe tbody tr th:only-of-type {\n",
              "        vertical-align: middle;\n",
              "    }\n",
              "\n",
              "    .dataframe tbody tr th {\n",
              "        vertical-align: top;\n",
              "    }\n",
              "\n",
              "    .dataframe thead th {\n",
              "        text-align: right;\n",
              "    }\n",
              "</style>\n",
              "<table border=\"1\" class=\"dataframe\">\n",
              "  <thead>\n",
              "    <tr style=\"text-align: right;\">\n",
              "      <th></th>\n",
              "      <th>total_bill</th>\n",
              "      <th>tip</th>\n",
              "      <th>size</th>\n",
              "    </tr>\n",
              "  </thead>\n",
              "  <tbody>\n",
              "    <tr>\n",
              "      <th>count</th>\n",
              "      <td>244.000000</td>\n",
              "      <td>244.000000</td>\n",
              "      <td>244.000000</td>\n",
              "    </tr>\n",
              "    <tr>\n",
              "      <th>mean</th>\n",
              "      <td>19.785943</td>\n",
              "      <td>2.998279</td>\n",
              "      <td>2.569672</td>\n",
              "    </tr>\n",
              "    <tr>\n",
              "      <th>std</th>\n",
              "      <td>8.902412</td>\n",
              "      <td>1.383638</td>\n",
              "      <td>0.951100</td>\n",
              "    </tr>\n",
              "    <tr>\n",
              "      <th>min</th>\n",
              "      <td>3.070000</td>\n",
              "      <td>1.000000</td>\n",
              "      <td>1.000000</td>\n",
              "    </tr>\n",
              "    <tr>\n",
              "      <th>25%</th>\n",
              "      <td>13.347500</td>\n",
              "      <td>2.000000</td>\n",
              "      <td>2.000000</td>\n",
              "    </tr>\n",
              "    <tr>\n",
              "      <th>50%</th>\n",
              "      <td>17.795000</td>\n",
              "      <td>2.900000</td>\n",
              "      <td>2.000000</td>\n",
              "    </tr>\n",
              "    <tr>\n",
              "      <th>75%</th>\n",
              "      <td>24.127500</td>\n",
              "      <td>3.562500</td>\n",
              "      <td>3.000000</td>\n",
              "    </tr>\n",
              "    <tr>\n",
              "      <th>max</th>\n",
              "      <td>50.810000</td>\n",
              "      <td>10.000000</td>\n",
              "      <td>6.000000</td>\n",
              "    </tr>\n",
              "  </tbody>\n",
              "</table>\n",
              "</div>"
            ],
            "text/plain": [
              "       total_bill         tip        size\n",
              "count  244.000000  244.000000  244.000000\n",
              "mean    19.785943    2.998279    2.569672\n",
              "std      8.902412    1.383638    0.951100\n",
              "min      3.070000    1.000000    1.000000\n",
              "25%     13.347500    2.000000    2.000000\n",
              "50%     17.795000    2.900000    2.000000\n",
              "75%     24.127500    3.562500    3.000000\n",
              "max     50.810000   10.000000    6.000000"
            ]
          },
          "metadata": {
            "tags": []
          },
          "execution_count": 2
        }
      ]
    },
    {
      "cell_type": "code",
      "metadata": {
        "id": "P12nuWMTYhlb",
        "colab": {
          "base_uri": "https://localhost:8080/",
          "height": 319
        },
        "outputId": "8955d47c-ba88-4641-af68-c33cb92db732"
      },
      "source": [
        "#Boxplot of days with respect total_bill.\n",
        "df.boxplot(by ='day', column =['total_bill'], grid = False) \n"
      ],
      "execution_count": null,
      "outputs": [
        {
          "output_type": "execute_result",
          "data": {
            "text/plain": [
              "<matplotlib.axes._subplots.AxesSubplot at 0x7f5b76747a20>"
            ]
          },
          "metadata": {
            "tags": []
          },
          "execution_count": 3
        },
        {
          "output_type": "display_data",
          "data": {
            "image/png": "[encoded data removed]",
            "text/plain": [
              "<Figure size 432x288 with 1 Axes>"
            ]
          },
          "metadata": {
            "tags": [],
            "needs_background": "light"
          }
        }
      ]
    },
    {
      "cell_type": "code",
      "metadata": {
        "id": "I6twP4hnY2uZ",
        "colab": {
          "base_uri": "https://localhost:8080/",
          "height": 319
        },
        "outputId": "19afba19-bfab-4990-cd3b-065e776505bb"
      },
      "source": [
        "#Boxplot of size with respect tip\n",
        "df.boxplot(by ='size', column =['tip'], grid = True)"
      ],
      "execution_count": null,
      "outputs": [
        {
          "output_type": "execute_result",
          "data": {
            "text/plain": [
              "<matplotlib.axes._subplots.AxesSubplot at 0x7f5b7626d828>"
            ]
          },
          "metadata": {
            "tags": []
          },
          "execution_count": 5
        },
        {
          "output_type": "display_data",
          "data": {
            "image/png": "[encoded data removed]",
            "text/plain": [
              "<Figure size 432x288 with 1 Axes>"
            ]
          },
          "metadata": {
            "tags": [],
            "needs_background": "light"
          }
        }
      ]
    },
    {
      "cell_type": "code",
      "metadata": {
        "id": "LFsGlpvmZSNV"
      },
      "source": [
        "#Let’s see how to create the box plot through seaborn library.\n",
        "import pandas as pd\n",
        "import seaborn as sns\n",
        "# load the dataset \n",
        "tips = sns.load_dataset('tips') \n",
        "  \n",
        "tips.head() \n"
      ],
      "execution_count": null,
      "outputs": []
    },
    {
      "cell_type": "code",
      "metadata": {
        "id": "a61V5OzXZ5WO"
      },
      "source": [
        "\n",
        "# Draw a vertical boxplot grouped  \n",
        "# by a categorical variable: \n",
        "sns.set_style(\"whitegrid\") \n",
        "  \n",
        "sns.boxplot(x = 'day', y = 'total_bill', data = tips) \n"
      ],
      "execution_count": null,
      "outputs": []
    },
    {
      "cell_type": "markdown",
      "metadata": {
        "id": "nxd8b6gOaCvK"
      },
      "source": [
        "Let’s take the first box plot i.e, blue box plot of the figure and understand these statistical things:\n",
        "\n",
        "    Bottom black horizontal line of blue box plot is minimum value\n",
        "    First black horizontal line of rectangle shape of blue box plot is First quartile or 25%\n",
        "    Second black horizontal line of rectangle shape of blue box plot is Second quartile or 50% or median.\n",
        "    Third black horizontal line of rectangle shape of blue box plot is third quartile or 75%\n",
        "    Top black horizontal line of rectangle shape of blue box plot is maximum value.\n",
        "    Small diamond shape of blue box plot is outlier data or erroneous data.\n"
      ]
    },
    {
      "cell_type": "markdown",
      "metadata": {
        "id": "TPsDyxOtbHLt"
      },
      "source": [
        "Violin Plot is a method to visualize the distribution of numerical data of different variables. \n",
        "\n",
        "It is similar to Box Plot but with a rotated plot on each side, giving more information about the density estimate on the y-axis.\n",
        "The density is mirrored and flipped over and the resulting shape is filled in, creating an image resembling a violin. \n",
        "\n",
        "The advantage of a violin plot is that it can show nuances in the distribution that aren’t perceptible in a boxplot. \n",
        "On the other hand, the boxplot more clearly shows the outliers in the data.\n",
        "\n",
        "Violin Plots hold more information than the box plots, they are less popular. \n",
        "\n",
        "Because of their unpopularity, their meaning can be harder to grasp for many readers not familiar with the violin plot representation."
      ]
    },
    {
      "cell_type": "code",
      "metadata": {
        "id": "8mX33SGzbpKG"
      },
      "source": [
        "#loading lbraries\n",
        "\n",
        "import numpy as np \n",
        "import pandas as pd \n",
        "import seaborn as sns \n",
        "from matplotlib import pyplot \n",
        "import seaborn \n"
      ],
      "execution_count": null,
      "outputs": []
    },
    {
      "cell_type": "code",
      "metadata": {
        "id": "WIoRb71cbrgx"
      },
      "source": [
        "#loading data\n",
        "\n",
        "data = pd.read_csv(\"iris.csv\") \n",
        "  \n",
        "print (data.head(10)) \n"
      ],
      "execution_count": null,
      "outputs": []
    },
    {
      "cell_type": "code",
      "metadata": {
        "id": "bqwhPHDzcTND"
      },
      "source": [
        "data.describe()"
      ],
      "execution_count": null,
      "outputs": []
    },
    {
      "cell_type": "code",
      "metadata": {
        "id": "vnXaLpFWcbPq"
      },
      "source": [
        "data.info()"
      ],
      "execution_count": null,
      "outputs": []
    },
    {
      "cell_type": "code",
      "metadata": {
        "id": "ZDEPlucyck_z"
      },
      "source": [
        "#Describing ‘SepalLengthCm’ parameter of Iris dataset. \n",
        "data[\"SepalLengthCm\"].describe()"
      ],
      "execution_count": null,
      "outputs": []
    },
    {
      "cell_type": "code",
      "metadata": {
        "id": "AeIeoVDWcsEP"
      },
      "source": [
        "# Violin Plot for ‘SepalLengthCm’ Parameter.\n",
        "\n",
        "import numpy as np \n",
        "import pandas as pd \n",
        "import seaborn as sns \n",
        "from matplotlib import pyplot \n",
        "import seaborn \n",
        "\n",
        "fig, ax = pyplot.subplots(figsize =(9, 7)) \n",
        "sns.violinplot( ax = ax, y = data[\"SepalLengthCm\"] ) \n",
        "\n",
        "\n"
      ],
      "execution_count": null,
      "outputs": []
    },
    {
      "cell_type": "markdown",
      "metadata": {
        "id": "sIdY_eu-dcES"
      },
      "source": [
        "As u can see we have a higher density between 5 and 6. That is very significant because as in the SepalLengthCm description, a mean value is at 5.43.\n",
        "\n",
        " Violin Plot for ‘SepalWidth’ Parameter."
      ]
    },
    {
      "cell_type": "code",
      "metadata": {
        "id": "5lGEn9sodkkB"
      },
      "source": [
        "\n",
        "fig, ax = pyplot.subplots(figsize =(9, 7)) \n",
        "sns.violinplot(ax = ax,  y = data[\"SepalWidthCm\"] ) \n"
      ],
      "execution_count": null,
      "outputs": []
    },
    {
      "cell_type": "markdown",
      "metadata": {
        "id": "mHFyiy5ddnkm"
      },
      "source": [
        "Here also, Higher density is at the mean = 3.05\n",
        "\n",
        " Violin Plot comparing ‘SepalLengthCm’ and ‘SepalWidthCm’. "
      ]
    },
    {
      "cell_type": "code",
      "metadata": {
        "id": "zuDTDkbvdSFI"
      },
      "source": [
        "\n",
        "fig, ax = pyplot.subplots(figsize =(9, 7)) \n",
        "sns.violinplot(ax = ax, data = data.iloc[:, 1:3]) \n"
      ],
      "execution_count": null,
      "outputs": []
    },
    {
      "cell_type": "code",
      "metadata": {
        "id": "Nqbyovv_d4V7"
      },
      "source": [
        "#Violin Plot comparing ‘SepalLengthCm’ species wise.\n",
        "\n",
        "fig, ax = pyplot.subplots(figsize =(9, 7)) \n",
        "sns.violinplot(ax = ax, x = data[\"Species\"],  \n",
        "                  y = data[\"SepalLengthCm\"] ) \n"
      ],
      "execution_count": null,
      "outputs": []
    },
    {
      "cell_type": "code",
      "metadata": {
        "id": "00XgFeHneBG5"
      },
      "source": [
        "#Violin Plot comparing ‘SepalWidthCm’ species wise.\n",
        "\n",
        "fig, ax = pyplot.subplots(figsize =(9, 7)) \n",
        "sns.violinplot(ax = ax, x = data[\"Species\"],  \n",
        "                  y = data[\"SepalWidthCm\"] ) "
      ],
      "execution_count": null,
      "outputs": []
    },
    {
      "cell_type": "markdown",
      "metadata": {
        "id": "WvMhzlFeex-H"
      },
      "source": [
        "\n",
        "Seaborn | Distribution Plots\n",
        "\n",
        "\n",
        "Seaborn is a Python data visualization library based on Matplotlib. It provides a high-level interface for drawing attractive and informative statistical graphics. This article deals with the distribution plots in seaborn which is used for examining univariate and bivariate distributions. In this article we will be discussing 4 types of distribution plots namely:\n",
        "\n",
        "    joinplot\n",
        "    distplot\n",
        "    pairplot\n",
        "    rugplot\n",
        "\n",
        "\n",
        "Besides providing different kinds of visualization plots, seaborn also contains some built-in datasets. We will be using the tips dataset in this article. The “tips” dataset contains information about people who probably had food at a restaurant and whether or not they left a tip, their age, gender and so on. Lets have a look at it."
      ]
    },
    {
      "cell_type": "code",
      "metadata": {
        "id": "qlS4YRtWe-cQ",
        "colab": {
          "base_uri": "https://localhost:8080/",
          "height": 206
        },
        "outputId": "3145ed66-1e23-47a5-fd60-df5360b06900"
      },
      "source": [
        "\n",
        "# import thr necessary libraries \n",
        "import seaborn as sns \n",
        "import matplotlib.pyplot as plt \n",
        "  \n",
        "# to ignore the warnings  \n",
        "from warnings import filterwarnings \n",
        "  \n",
        "# load the dataset \n",
        "df = sns.load_dataset('tips') \n",
        "  \n",
        "# the first five entries of the dataset \n",
        "df.head() \n"
      ],
      "execution_count": null,
      "outputs": [
        {
          "output_type": "execute_result",
          "data": {
            "text/html": [
              "<div>\n",
              "<style scoped>\n",
              "    .dataframe tbody tr th:only-of-type {\n",
              "        vertical-align: middle;\n",
              "    }\n",
              "\n",
              "    .dataframe tbody tr th {\n",
              "        vertical-align: top;\n",
              "    }\n",
              "\n",
              "    .dataframe thead th {\n",
              "        text-align: right;\n",
              "    }\n",
              "</style>\n",
              "<table border=\"1\" class=\"dataframe\">\n",
              "  <thead>\n",
              "    <tr style=\"text-align: right;\">\n",
              "      <th></th>\n",
              "      <th>total_bill</th>\n",
              "      <th>tip</th>\n",
              "      <th>sex</th>\n",
              "      <th>smoker</th>\n",
              "      <th>day</th>\n",
              "      <th>time</th>\n",
              "      <th>size</th>\n",
              "    </tr>\n",
              "  </thead>\n",
              "  <tbody>\n",
              "    <tr>\n",
              "      <th>0</th>\n",
              "      <td>16.99</td>\n",
              "      <td>1.01</td>\n",
              "      <td>Female</td>\n",
              "      <td>No</td>\n",
              "      <td>Sun</td>\n",
              "      <td>Dinner</td>\n",
              "      <td>2</td>\n",
              "    </tr>\n",
              "    <tr>\n",
              "      <th>1</th>\n",
              "      <td>10.34</td>\n",
              "      <td>1.66</td>\n",
              "      <td>Male</td>\n",
              "      <td>No</td>\n",
              "      <td>Sun</td>\n",
              "      <td>Dinner</td>\n",
              "      <td>3</td>\n",
              "    </tr>\n",
              "    <tr>\n",
              "      <th>2</th>\n",
              "      <td>21.01</td>\n",
              "      <td>3.50</td>\n",
              "      <td>Male</td>\n",
              "      <td>No</td>\n",
              "      <td>Sun</td>\n",
              "      <td>Dinner</td>\n",
              "      <td>3</td>\n",
              "    </tr>\n",
              "    <tr>\n",
              "      <th>3</th>\n",
              "      <td>23.68</td>\n",
              "      <td>3.31</td>\n",
              "      <td>Male</td>\n",
              "      <td>No</td>\n",
              "      <td>Sun</td>\n",
              "      <td>Dinner</td>\n",
              "      <td>2</td>\n",
              "    </tr>\n",
              "    <tr>\n",
              "      <th>4</th>\n",
              "      <td>24.59</td>\n",
              "      <td>3.61</td>\n",
              "      <td>Female</td>\n",
              "      <td>No</td>\n",
              "      <td>Sun</td>\n",
              "      <td>Dinner</td>\n",
              "      <td>4</td>\n",
              "    </tr>\n",
              "  </tbody>\n",
              "</table>\n",
              "</div>"
            ],
            "text/plain": [
              "   total_bill   tip     sex smoker  day    time  size\n",
              "0       16.99  1.01  Female     No  Sun  Dinner     2\n",
              "1       10.34  1.66    Male     No  Sun  Dinner     3\n",
              "2       21.01  3.50    Male     No  Sun  Dinner     3\n",
              "3       23.68  3.31    Male     No  Sun  Dinner     2\n",
              "4       24.59  3.61  Female     No  Sun  Dinner     4"
            ]
          },
          "metadata": {
            "tags": []
          },
          "execution_count": 36
        }
      ]
    },
    {
      "cell_type": "markdown",
      "metadata": {
        "id": "rbeXRystfj0v"
      },
      "source": [
        "Distplot\n",
        "\n",
        "It is used basically for univariant set of observations and visualizes it through a histogram i.e. only one observation and hence we choose one particular column of the dataset."
      ]
    },
    {
      "cell_type": "code",
      "metadata": {
        "id": "yuVvxYivflys",
        "colab": {
          "base_uri": "https://localhost:8080/",
          "height": 298
        },
        "outputId": "d76bb376-9382-4830-b48d-480620c4f90e"
      },
      "source": [
        "# set the background style of the plot \n",
        "sns.set_style('whitegrid') \n",
        "sns.distplot(df['total_bill'], kde = False, color ='black', bins = 30) \n"
      ],
      "execution_count": null,
      "outputs": [
        {
          "output_type": "execute_result",
          "data": {
            "text/plain": [
              "<matplotlib.axes._subplots.AxesSubplot at 0x7f792bbb0278>"
            ]
          },
          "metadata": {
            "tags": []
          },
          "execution_count": 21
        },
        {
          "output_type": "display_data",
          "data": {
            "image/png": "[encoded data removed]",
            "text/plain": [
              "<Figure size 432x288 with 1 Axes>"
            ]
          },
          "metadata": {
            "tags": []
          }
        }
      ]
    },
    {
      "cell_type": "markdown",
      "metadata": {
        "id": "9guJvMYGfzab"
      },
      "source": [
        "Explanation:\n",
        "\n",
        "    KDE stands for Kernel Density Estimation and that is another kind of the plot in seaborn.\n",
        "    bins is used to set the number of bins you want in your plot and it actually depends on your dataset.\n",
        "    color is used to specify the color of the plot\n",
        "\n",
        "Now looking at this we can say that most of the total bill given lies between 10 and 20."
      ]
    },
    {
      "cell_type": "code",
      "metadata": {
        "id": "NQcdD_96f1fZ"
      },
      "source": [
        ""
      ],
      "execution_count": null,
      "outputs": []
    }
  ]
}