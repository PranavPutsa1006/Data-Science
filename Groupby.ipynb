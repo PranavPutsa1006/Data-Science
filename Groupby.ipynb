{
  "nbformat": 4,
  "nbformat_minor": 0,
  "metadata": {
    "colab": {
      "name": "4. Groupby.ipynb",
      "provenance": [],
      "collapsed_sections": [],
      "authorship_tag": "ABX9TyNw/pakn7Sjg8zGlGy/YcEe",
      "include_colab_link": true
    },
    "kernelspec": {
      "name": "python3",
      "display_name": "Python 3"
    }
  },
  "cells": [
    {
      "cell_type": "markdown",
      "metadata": {
        "id": "view-in-github",
        "colab_type": "text"
      },
      "source": [
        "<a href=\"https://colab.research.google.com/github/PranavPutsa1006/Data-Science/blob/main/Groupby.ipynb\" target=\"_parent\"><img src=\"https://colab.research.google.com/assets/colab-badge.svg\" alt=\"Open In Colab\"/></a>"
      ]
    },
    {
      "cell_type": "code",
      "metadata": {
        "id": "C-0e9QACVNWV",
        "colab": {
          "base_uri": "https://localhost:8080/",
          "height": 426
        },
        "outputId": "8838958b-6ebf-40a2-f3a4-81cd5d1fa5e5"
      },
      "source": [
        "import pandas as pd\n",
        "df=pd.read_csv(\"threecities.csv\")\n",
        "df"
      ],
      "execution_count": null,
      "outputs": [
        {
          "output_type": "execute_result",
          "data": {
            "text/html": [
              "<div>\n",
              "<style scoped>\n",
              "    .dataframe tbody tr th:only-of-type {\n",
              "        vertical-align: middle;\n",
              "    }\n",
              "\n",
              "    .dataframe tbody tr th {\n",
              "        vertical-align: top;\n",
              "    }\n",
              "\n",
              "    .dataframe thead th {\n",
              "        text-align: right;\n",
              "    }\n",
              "</style>\n",
              "<table border=\"1\" class=\"dataframe\">\n",
              "  <thead>\n",
              "    <tr style=\"text-align: right;\">\n",
              "      <th></th>\n",
              "      <th>day</th>\n",
              "      <th>city</th>\n",
              "      <th>temperauture</th>\n",
              "      <th>windspeed</th>\n",
              "      <th>weather</th>\n",
              "    </tr>\n",
              "  </thead>\n",
              "  <tbody>\n",
              "    <tr>\n",
              "      <th>0</th>\n",
              "      <td>01-01-2020</td>\n",
              "      <td>Delhi</td>\n",
              "      <td>32</td>\n",
              "      <td>5</td>\n",
              "      <td>Sunny</td>\n",
              "    </tr>\n",
              "    <tr>\n",
              "      <th>1</th>\n",
              "      <td>01-02-2020</td>\n",
              "      <td>Delhi</td>\n",
              "      <td>36</td>\n",
              "      <td>3</td>\n",
              "      <td>Sunny</td>\n",
              "    </tr>\n",
              "    <tr>\n",
              "      <th>2</th>\n",
              "      <td>01-03-2020</td>\n",
              "      <td>Delhi</td>\n",
              "      <td>28</td>\n",
              "      <td>8</td>\n",
              "      <td>Cloudy</td>\n",
              "    </tr>\n",
              "    <tr>\n",
              "      <th>3</th>\n",
              "      <td>01-04-2020</td>\n",
              "      <td>Delhi</td>\n",
              "      <td>31</td>\n",
              "      <td>9</td>\n",
              "      <td>fog</td>\n",
              "    </tr>\n",
              "    <tr>\n",
              "      <th>4</th>\n",
              "      <td>01-01-2020</td>\n",
              "      <td>Mumbai</td>\n",
              "      <td>45</td>\n",
              "      <td>8</td>\n",
              "      <td>Sunny</td>\n",
              "    </tr>\n",
              "    <tr>\n",
              "      <th>5</th>\n",
              "      <td>01-02-2020</td>\n",
              "      <td>Mumbai</td>\n",
              "      <td>47</td>\n",
              "      <td>11</td>\n",
              "      <td>Sunny</td>\n",
              "    </tr>\n",
              "    <tr>\n",
              "      <th>6</th>\n",
              "      <td>01-03-2020</td>\n",
              "      <td>Mumbai</td>\n",
              "      <td>44</td>\n",
              "      <td>14</td>\n",
              "      <td>Cloudy</td>\n",
              "    </tr>\n",
              "    <tr>\n",
              "      <th>7</th>\n",
              "      <td>01-04-2020</td>\n",
              "      <td>Mumbai</td>\n",
              "      <td>39</td>\n",
              "      <td>12</td>\n",
              "      <td>fog</td>\n",
              "    </tr>\n",
              "    <tr>\n",
              "      <th>8</th>\n",
              "      <td>01-01-2020</td>\n",
              "      <td>Kolkata</td>\n",
              "      <td>33</td>\n",
              "      <td>15</td>\n",
              "      <td>Sunny</td>\n",
              "    </tr>\n",
              "    <tr>\n",
              "      <th>9</th>\n",
              "      <td>01-02-2020</td>\n",
              "      <td>Kolkata</td>\n",
              "      <td>37</td>\n",
              "      <td>12</td>\n",
              "      <td>Sunny</td>\n",
              "    </tr>\n",
              "    <tr>\n",
              "      <th>10</th>\n",
              "      <td>01-03-2020</td>\n",
              "      <td>Kolkata</td>\n",
              "      <td>22</td>\n",
              "      <td>13</td>\n",
              "      <td>Snow</td>\n",
              "    </tr>\n",
              "    <tr>\n",
              "      <th>11</th>\n",
              "      <td>01-04-2020</td>\n",
              "      <td>Kolkata</td>\n",
              "      <td>26</td>\n",
              "      <td>18</td>\n",
              "      <td>fog</td>\n",
              "    </tr>\n",
              "  </tbody>\n",
              "</table>\n",
              "</div>"
            ],
            "text/plain": [
              "           day     city  temperauture  windspeed weather\n",
              "0   01-01-2020    Delhi            32          5   Sunny\n",
              "1   01-02-2020    Delhi            36          3   Sunny\n",
              "2   01-03-2020    Delhi            28          8  Cloudy\n",
              "3   01-04-2020    Delhi            31          9     fog\n",
              "4   01-01-2020   Mumbai            45          8   Sunny\n",
              "5   01-02-2020   Mumbai            47         11   Sunny\n",
              "6   01-03-2020   Mumbai            44         14  Cloudy\n",
              "7   01-04-2020   Mumbai            39         12     fog\n",
              "8   01-01-2020  Kolkata            33         15   Sunny\n",
              "9   01-02-2020  Kolkata            37         12   Sunny\n",
              "10  01-03-2020  Kolkata            22         13    Snow\n",
              "11  01-04-2020  Kolkata            26         18     fog"
            ]
          },
          "metadata": {
            "tags": []
          },
          "execution_count": 29
        }
      ]
    },
    {
      "cell_type": "code",
      "metadata": {
        "id": "w4NzTArTbyU0",
        "colab": {
          "base_uri": "https://localhost:8080/",
          "height": 35
        },
        "outputId": "478d3912-9339-4c86-bd19-67619bc59f81"
      },
      "source": [
        "g = df.groupby('city')\n",
        "print(g)"
      ],
      "execution_count": null,
      "outputs": [
        {
          "output_type": "stream",
          "text": [
            "<pandas.core.groupby.generic.DataFrameGroupBy object at 0x7f72285102e8>\n"
          ],
          "name": "stdout"
        }
      ]
    },
    {
      "cell_type": "code",
      "metadata": {
        "id": "MT7-HS8oeFMK",
        "colab": {
          "base_uri": "https://localhost:8080/",
          "height": 348
        },
        "outputId": "0982b47b-3580-44ee-a04c-a784ab74849c"
      },
      "source": [
        "for city,city_df in g:\n",
        "  print(city)\n",
        "  print(city_df)\n"
      ],
      "execution_count": null,
      "outputs": [
        {
          "output_type": "stream",
          "text": [
            "Delhi\n",
            "          day   city  temperauture  windspeed weather\n",
            "0  01-01-2020  Delhi            32          5   Sunny\n",
            "1  01-02-2020  Delhi            36          3   Sunny\n",
            "2  01-03-2020  Delhi            28          8  Cloudy\n",
            "3  01-04-2020  Delhi            31          9     fog\n",
            "Kolkata\n",
            "           day     city  temperauture  windspeed weather\n",
            "8   01-01-2020  Kolkata            33         15   Sunny\n",
            "9   01-02-2020  Kolkata            37         12   Sunny\n",
            "10  01-03-2020  Kolkata            22         13    Snow\n",
            "11  01-04-2020  Kolkata            26         18     fog\n",
            "Mumbai\n",
            "          day    city  temperauture  windspeed weather\n",
            "4  01-01-2020  Mumbai            45          8   Sunny\n",
            "5  01-02-2020  Mumbai            47         11   Sunny\n",
            "6  01-03-2020  Mumbai            44         14  Cloudy\n",
            "7  01-04-2020  Mumbai            39         12     fog\n"
          ],
          "name": "stdout"
        }
      ]
    },
    {
      "cell_type": "code",
      "metadata": {
        "id": "OLmm34V9eonn",
        "colab": {
          "base_uri": "https://localhost:8080/",
          "height": 175
        },
        "outputId": "79d64648-7c55-4b61-e959-e4b891c24f63"
      },
      "source": [
        "g.get_group('Mumbai')"
      ],
      "execution_count": null,
      "outputs": [
        {
          "output_type": "execute_result",
          "data": {
            "text/html": [
              "<div>\n",
              "<style scoped>\n",
              "    .dataframe tbody tr th:only-of-type {\n",
              "        vertical-align: middle;\n",
              "    }\n",
              "\n",
              "    .dataframe tbody tr th {\n",
              "        vertical-align: top;\n",
              "    }\n",
              "\n",
              "    .dataframe thead th {\n",
              "        text-align: right;\n",
              "    }\n",
              "</style>\n",
              "<table border=\"1\" class=\"dataframe\">\n",
              "  <thead>\n",
              "    <tr style=\"text-align: right;\">\n",
              "      <th></th>\n",
              "      <th>day</th>\n",
              "      <th>city</th>\n",
              "      <th>temperauture</th>\n",
              "      <th>windspeed</th>\n",
              "      <th>weather</th>\n",
              "    </tr>\n",
              "  </thead>\n",
              "  <tbody>\n",
              "    <tr>\n",
              "      <th>4</th>\n",
              "      <td>01-01-2020</td>\n",
              "      <td>Mumbai</td>\n",
              "      <td>45</td>\n",
              "      <td>8</td>\n",
              "      <td>Sunny</td>\n",
              "    </tr>\n",
              "    <tr>\n",
              "      <th>5</th>\n",
              "      <td>01-02-2020</td>\n",
              "      <td>Mumbai</td>\n",
              "      <td>47</td>\n",
              "      <td>11</td>\n",
              "      <td>Sunny</td>\n",
              "    </tr>\n",
              "    <tr>\n",
              "      <th>6</th>\n",
              "      <td>01-03-2020</td>\n",
              "      <td>Mumbai</td>\n",
              "      <td>44</td>\n",
              "      <td>14</td>\n",
              "      <td>Cloudy</td>\n",
              "    </tr>\n",
              "    <tr>\n",
              "      <th>7</th>\n",
              "      <td>01-04-2020</td>\n",
              "      <td>Mumbai</td>\n",
              "      <td>39</td>\n",
              "      <td>12</td>\n",
              "      <td>fog</td>\n",
              "    </tr>\n",
              "  </tbody>\n",
              "</table>\n",
              "</div>"
            ],
            "text/plain": [
              "          day    city  temperauture  windspeed weather\n",
              "4  01-01-2020  Mumbai            45          8   Sunny\n",
              "5  01-02-2020  Mumbai            47         11   Sunny\n",
              "6  01-03-2020  Mumbai            44         14  Cloudy\n",
              "7  01-04-2020  Mumbai            39         12     fog"
            ]
          },
          "metadata": {
            "tags": []
          },
          "execution_count": 34
        }
      ]
    },
    {
      "cell_type": "code",
      "metadata": {
        "id": "KIJYyJkpfA-s",
        "colab": {
          "base_uri": "https://localhost:8080/",
          "height": 175
        },
        "outputId": "35dd3ee1-f59c-49a8-997e-d70aee6a2bf5"
      },
      "source": [
        "g.max()"
      ],
      "execution_count": null,
      "outputs": [
        {
          "output_type": "execute_result",
          "data": {
            "text/html": [
              "<div>\n",
              "<style scoped>\n",
              "    .dataframe tbody tr th:only-of-type {\n",
              "        vertical-align: middle;\n",
              "    }\n",
              "\n",
              "    .dataframe tbody tr th {\n",
              "        vertical-align: top;\n",
              "    }\n",
              "\n",
              "    .dataframe thead th {\n",
              "        text-align: right;\n",
              "    }\n",
              "</style>\n",
              "<table border=\"1\" class=\"dataframe\">\n",
              "  <thead>\n",
              "    <tr style=\"text-align: right;\">\n",
              "      <th></th>\n",
              "      <th>day</th>\n",
              "      <th>temperauture</th>\n",
              "      <th>windspeed</th>\n",
              "      <th>weather</th>\n",
              "    </tr>\n",
              "    <tr>\n",
              "      <th>city</th>\n",
              "      <th></th>\n",
              "      <th></th>\n",
              "      <th></th>\n",
              "      <th></th>\n",
              "    </tr>\n",
              "  </thead>\n",
              "  <tbody>\n",
              "    <tr>\n",
              "      <th>Delhi</th>\n",
              "      <td>01-04-2020</td>\n",
              "      <td>36</td>\n",
              "      <td>9</td>\n",
              "      <td>fog</td>\n",
              "    </tr>\n",
              "    <tr>\n",
              "      <th>Kolkata</th>\n",
              "      <td>01-04-2020</td>\n",
              "      <td>37</td>\n",
              "      <td>18</td>\n",
              "      <td>fog</td>\n",
              "    </tr>\n",
              "    <tr>\n",
              "      <th>Mumbai</th>\n",
              "      <td>01-04-2020</td>\n",
              "      <td>47</td>\n",
              "      <td>14</td>\n",
              "      <td>fog</td>\n",
              "    </tr>\n",
              "  </tbody>\n",
              "</table>\n",
              "</div>"
            ],
            "text/plain": [
              "                day  temperauture  windspeed weather\n",
              "city                                                \n",
              "Delhi    01-04-2020            36          9     fog\n",
              "Kolkata  01-04-2020            37         18     fog\n",
              "Mumbai   01-04-2020            47         14     fog"
            ]
          },
          "metadata": {
            "tags": []
          },
          "execution_count": 35
        }
      ]
    },
    {
      "cell_type": "code",
      "metadata": {
        "id": "pMAKXQO6fkU-",
        "colab": {
          "base_uri": "https://localhost:8080/",
          "height": 175
        },
        "outputId": "a57f3226-25cd-4bdd-958d-0e9e7eb367a9"
      },
      "source": [
        "g.mean()"
      ],
      "execution_count": null,
      "outputs": [
        {
          "output_type": "execute_result",
          "data": {
            "text/html": [
              "<div>\n",
              "<style scoped>\n",
              "    .dataframe tbody tr th:only-of-type {\n",
              "        vertical-align: middle;\n",
              "    }\n",
              "\n",
              "    .dataframe tbody tr th {\n",
              "        vertical-align: top;\n",
              "    }\n",
              "\n",
              "    .dataframe thead th {\n",
              "        text-align: right;\n",
              "    }\n",
              "</style>\n",
              "<table border=\"1\" class=\"dataframe\">\n",
              "  <thead>\n",
              "    <tr style=\"text-align: right;\">\n",
              "      <th></th>\n",
              "      <th>temperauture</th>\n",
              "      <th>windspeed</th>\n",
              "    </tr>\n",
              "    <tr>\n",
              "      <th>city</th>\n",
              "      <th></th>\n",
              "      <th></th>\n",
              "    </tr>\n",
              "  </thead>\n",
              "  <tbody>\n",
              "    <tr>\n",
              "      <th>Delhi</th>\n",
              "      <td>31.75</td>\n",
              "      <td>6.25</td>\n",
              "    </tr>\n",
              "    <tr>\n",
              "      <th>Kolkata</th>\n",
              "      <td>29.50</td>\n",
              "      <td>14.50</td>\n",
              "    </tr>\n",
              "    <tr>\n",
              "      <th>Mumbai</th>\n",
              "      <td>43.75</td>\n",
              "      <td>11.25</td>\n",
              "    </tr>\n",
              "  </tbody>\n",
              "</table>\n",
              "</div>"
            ],
            "text/plain": [
              "         temperauture  windspeed\n",
              "city                            \n",
              "Delhi           31.75       6.25\n",
              "Kolkata         29.50      14.50\n",
              "Mumbai          43.75      11.25"
            ]
          },
          "metadata": {
            "tags": []
          },
          "execution_count": 36
        }
      ]
    },
    {
      "cell_type": "code",
      "metadata": {
        "id": "DnRDO8FdfsLC",
        "colab": {
          "base_uri": "https://localhost:8080/",
          "height": 206
        },
        "outputId": "26462c7c-3a4f-4cd6-9876-9c7bb20ee78f"
      },
      "source": [
        "g.describe()"
      ],
      "execution_count": null,
      "outputs": [
        {
          "output_type": "execute_result",
          "data": {
            "text/html": [
              "<div>\n",
              "<style scoped>\n",
              "    .dataframe tbody tr th:only-of-type {\n",
              "        vertical-align: middle;\n",
              "    }\n",
              "\n",
              "    .dataframe tbody tr th {\n",
              "        vertical-align: top;\n",
              "    }\n",
              "\n",
              "    .dataframe thead tr th {\n",
              "        text-align: left;\n",
              "    }\n",
              "\n",
              "    .dataframe thead tr:last-of-type th {\n",
              "        text-align: right;\n",
              "    }\n",
              "</style>\n",
              "<table border=\"1\" class=\"dataframe\">\n",
              "  <thead>\n",
              "    <tr>\n",
              "      <th></th>\n",
              "      <th colspan=\"8\" halign=\"left\">temperauture</th>\n",
              "      <th colspan=\"8\" halign=\"left\">windspeed</th>\n",
              "    </tr>\n",
              "    <tr>\n",
              "      <th></th>\n",
              "      <th>count</th>\n",
              "      <th>mean</th>\n",
              "      <th>std</th>\n",
              "      <th>min</th>\n",
              "      <th>25%</th>\n",
              "      <th>50%</th>\n",
              "      <th>75%</th>\n",
              "      <th>max</th>\n",
              "      <th>count</th>\n",
              "      <th>mean</th>\n",
              "      <th>std</th>\n",
              "      <th>min</th>\n",
              "      <th>25%</th>\n",
              "      <th>50%</th>\n",
              "      <th>75%</th>\n",
              "      <th>max</th>\n",
              "    </tr>\n",
              "    <tr>\n",
              "      <th>city</th>\n",
              "      <th></th>\n",
              "      <th></th>\n",
              "      <th></th>\n",
              "      <th></th>\n",
              "      <th></th>\n",
              "      <th></th>\n",
              "      <th></th>\n",
              "      <th></th>\n",
              "      <th></th>\n",
              "      <th></th>\n",
              "      <th></th>\n",
              "      <th></th>\n",
              "      <th></th>\n",
              "      <th></th>\n",
              "      <th></th>\n",
              "      <th></th>\n",
              "    </tr>\n",
              "  </thead>\n",
              "  <tbody>\n",
              "    <tr>\n",
              "      <th>Delhi</th>\n",
              "      <td>4.0</td>\n",
              "      <td>31.75</td>\n",
              "      <td>3.304038</td>\n",
              "      <td>28.0</td>\n",
              "      <td>30.25</td>\n",
              "      <td>31.5</td>\n",
              "      <td>33.0</td>\n",
              "      <td>36.0</td>\n",
              "      <td>4.0</td>\n",
              "      <td>6.25</td>\n",
              "      <td>2.753785</td>\n",
              "      <td>3.0</td>\n",
              "      <td>4.50</td>\n",
              "      <td>6.5</td>\n",
              "      <td>8.25</td>\n",
              "      <td>9.0</td>\n",
              "    </tr>\n",
              "    <tr>\n",
              "      <th>Kolkata</th>\n",
              "      <td>4.0</td>\n",
              "      <td>29.50</td>\n",
              "      <td>6.757712</td>\n",
              "      <td>22.0</td>\n",
              "      <td>25.00</td>\n",
              "      <td>29.5</td>\n",
              "      <td>34.0</td>\n",
              "      <td>37.0</td>\n",
              "      <td>4.0</td>\n",
              "      <td>14.50</td>\n",
              "      <td>2.645751</td>\n",
              "      <td>12.0</td>\n",
              "      <td>12.75</td>\n",
              "      <td>14.0</td>\n",
              "      <td>15.75</td>\n",
              "      <td>18.0</td>\n",
              "    </tr>\n",
              "    <tr>\n",
              "      <th>Mumbai</th>\n",
              "      <td>4.0</td>\n",
              "      <td>43.75</td>\n",
              "      <td>3.403430</td>\n",
              "      <td>39.0</td>\n",
              "      <td>42.75</td>\n",
              "      <td>44.5</td>\n",
              "      <td>45.5</td>\n",
              "      <td>47.0</td>\n",
              "      <td>4.0</td>\n",
              "      <td>11.25</td>\n",
              "      <td>2.500000</td>\n",
              "      <td>8.0</td>\n",
              "      <td>10.25</td>\n",
              "      <td>11.5</td>\n",
              "      <td>12.50</td>\n",
              "      <td>14.0</td>\n",
              "    </tr>\n",
              "  </tbody>\n",
              "</table>\n",
              "</div>"
            ],
            "text/plain": [
              "        temperauture                         ... windspeed                   \n",
              "               count   mean       std   min  ...       25%   50%    75%   max\n",
              "city                                         ...                             \n",
              "Delhi            4.0  31.75  3.304038  28.0  ...      4.50   6.5   8.25   9.0\n",
              "Kolkata          4.0  29.50  6.757712  22.0  ...     12.75  14.0  15.75  18.0\n",
              "Mumbai           4.0  43.75  3.403430  39.0  ...     10.25  11.5  12.50  14.0\n",
              "\n",
              "[3 rows x 16 columns]"
            ]
          },
          "metadata": {
            "tags": []
          },
          "execution_count": 37
        }
      ]
    },
    {
      "cell_type": "code",
      "metadata": {
        "id": "apzDgJSAf8XM",
        "colab": {
          "base_uri": "https://localhost:8080/",
          "height": 853
        },
        "outputId": "6a2070ed-ae99-48f7-cdf6-3aa632c3539a"
      },
      "source": [
        "#%matplotlib inline\n",
        "g.plot()"
      ],
      "execution_count": null,
      "outputs": [
        {
          "output_type": "execute_result",
          "data": {
            "text/plain": [
              "city\n",
              "Delhi      AxesSubplot(0.125,0.125;0.775x0.755)\n",
              "Kolkata    AxesSubplot(0.125,0.125;0.775x0.755)\n",
              "Mumbai     AxesSubplot(0.125,0.125;0.775x0.755)\n",
              "dtype: object"
            ]
          },
          "metadata": {
            "tags": []
          },
          "execution_count": 40
        },
        {
          "output_type": "display_data",
          "data": {
            "image/png": "[encoded data removed]",
            "text/plain": [
              "<Figure size 432x288 with 1 Axes>"
            ]
          },
          "metadata": {
            "tags": [],
            "needs_background": "light"
          }
        },
        {
          "output_type": "display_data",
          "data": {
            "image/png": "[encoded data removed]",
            "text/plain": [
              "<Figure size 432x288 with 1 Axes>"
            ]
          },
          "metadata": {
            "tags": [],
            "needs_background": "light"
          }
        },
        {
          "output_type": "display_data",
          "data": {
            "image/png": "[encoded data removed]",
            "text/plain": [
              "<Figure size 432x288 with 1 Axes>"
            ]
          },
          "metadata": {
            "tags": [],
            "needs_background": "light"
          }
        }
      ]
    },
    {
      "cell_type": "code",
      "metadata": {
        "id": "NBBjDfFnghc-",
        "colab": {
          "base_uri": "https://localhost:8080/",
          "height": 175
        },
        "outputId": "d046fc1c-01a3-40a2-a197-111c386c6980"
      },
      "source": [
        "g.min()"
      ],
      "execution_count": null,
      "outputs": [
        {
          "output_type": "execute_result",
          "data": {
            "text/html": [
              "<div>\n",
              "<style scoped>\n",
              "    .dataframe tbody tr th:only-of-type {\n",
              "        vertical-align: middle;\n",
              "    }\n",
              "\n",
              "    .dataframe tbody tr th {\n",
              "        vertical-align: top;\n",
              "    }\n",
              "\n",
              "    .dataframe thead th {\n",
              "        text-align: right;\n",
              "    }\n",
              "</style>\n",
              "<table border=\"1\" class=\"dataframe\">\n",
              "  <thead>\n",
              "    <tr style=\"text-align: right;\">\n",
              "      <th></th>\n",
              "      <th>day</th>\n",
              "      <th>temperauture</th>\n",
              "      <th>windspeed</th>\n",
              "      <th>weather</th>\n",
              "    </tr>\n",
              "    <tr>\n",
              "      <th>city</th>\n",
              "      <th></th>\n",
              "      <th></th>\n",
              "      <th></th>\n",
              "      <th></th>\n",
              "    </tr>\n",
              "  </thead>\n",
              "  <tbody>\n",
              "    <tr>\n",
              "      <th>Delhi</th>\n",
              "      <td>01-01-2020</td>\n",
              "      <td>28</td>\n",
              "      <td>3</td>\n",
              "      <td>Cloudy</td>\n",
              "    </tr>\n",
              "    <tr>\n",
              "      <th>Kolkata</th>\n",
              "      <td>01-01-2020</td>\n",
              "      <td>22</td>\n",
              "      <td>12</td>\n",
              "      <td>Snow</td>\n",
              "    </tr>\n",
              "    <tr>\n",
              "      <th>Mumbai</th>\n",
              "      <td>01-01-2020</td>\n",
              "      <td>39</td>\n",
              "      <td>8</td>\n",
              "      <td>Cloudy</td>\n",
              "    </tr>\n",
              "  </tbody>\n",
              "</table>\n",
              "</div>"
            ],
            "text/plain": [
              "                day  temperauture  windspeed weather\n",
              "city                                                \n",
              "Delhi    01-01-2020            28          3  Cloudy\n",
              "Kolkata  01-01-2020            22         12    Snow\n",
              "Mumbai   01-01-2020            39          8  Cloudy"
            ]
          },
          "metadata": {
            "tags": []
          },
          "execution_count": 41
        }
      ]
    },
    {
      "cell_type": "code",
      "metadata": {
        "id": "wHASaovehkE8",
        "colab": {
          "base_uri": "https://localhost:8080/",
          "height": 238
        },
        "outputId": "9867749b-542d-48c4-a6ff-6f7c87e599b1"
      },
      "source": [
        "g.tail(2)\n"
      ],
      "execution_count": null,
      "outputs": [
        {
          "output_type": "execute_result",
          "data": {
            "text/html": [
              "<div>\n",
              "<style scoped>\n",
              "    .dataframe tbody tr th:only-of-type {\n",
              "        vertical-align: middle;\n",
              "    }\n",
              "\n",
              "    .dataframe tbody tr th {\n",
              "        vertical-align: top;\n",
              "    }\n",
              "\n",
              "    .dataframe thead th {\n",
              "        text-align: right;\n",
              "    }\n",
              "</style>\n",
              "<table border=\"1\" class=\"dataframe\">\n",
              "  <thead>\n",
              "    <tr style=\"text-align: right;\">\n",
              "      <th></th>\n",
              "      <th>day</th>\n",
              "      <th>city</th>\n",
              "      <th>temperauture</th>\n",
              "      <th>windspeed</th>\n",
              "      <th>weather</th>\n",
              "    </tr>\n",
              "  </thead>\n",
              "  <tbody>\n",
              "    <tr>\n",
              "      <th>2</th>\n",
              "      <td>01-03-2020</td>\n",
              "      <td>Delhi</td>\n",
              "      <td>28</td>\n",
              "      <td>8</td>\n",
              "      <td>Cloudy</td>\n",
              "    </tr>\n",
              "    <tr>\n",
              "      <th>3</th>\n",
              "      <td>01-04-2020</td>\n",
              "      <td>Delhi</td>\n",
              "      <td>31</td>\n",
              "      <td>9</td>\n",
              "      <td>fog</td>\n",
              "    </tr>\n",
              "    <tr>\n",
              "      <th>6</th>\n",
              "      <td>01-03-2020</td>\n",
              "      <td>Mumbai</td>\n",
              "      <td>44</td>\n",
              "      <td>14</td>\n",
              "      <td>Cloudy</td>\n",
              "    </tr>\n",
              "    <tr>\n",
              "      <th>7</th>\n",
              "      <td>01-04-2020</td>\n",
              "      <td>Mumbai</td>\n",
              "      <td>39</td>\n",
              "      <td>12</td>\n",
              "      <td>fog</td>\n",
              "    </tr>\n",
              "    <tr>\n",
              "      <th>10</th>\n",
              "      <td>01-03-2020</td>\n",
              "      <td>Kolkata</td>\n",
              "      <td>22</td>\n",
              "      <td>13</td>\n",
              "      <td>Snow</td>\n",
              "    </tr>\n",
              "    <tr>\n",
              "      <th>11</th>\n",
              "      <td>01-04-2020</td>\n",
              "      <td>Kolkata</td>\n",
              "      <td>26</td>\n",
              "      <td>18</td>\n",
              "      <td>fog</td>\n",
              "    </tr>\n",
              "  </tbody>\n",
              "</table>\n",
              "</div>"
            ],
            "text/plain": [
              "           day     city  temperauture  windspeed weather\n",
              "2   01-03-2020    Delhi            28          8  Cloudy\n",
              "3   01-04-2020    Delhi            31          9     fog\n",
              "6   01-03-2020   Mumbai            44         14  Cloudy\n",
              "7   01-04-2020   Mumbai            39         12     fog\n",
              "10  01-03-2020  Kolkata            22         13    Snow\n",
              "11  01-04-2020  Kolkata            26         18     fog"
            ]
          },
          "metadata": {
            "tags": []
          },
          "execution_count": 44
        }
      ]
    }
  ]
}