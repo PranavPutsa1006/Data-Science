{
  "nbformat": 4,
  "nbformat_minor": 0,
  "metadata": {
    "colab": {
      "name": "Logistic Regression.ipynb",
      "provenance": [],
      "authorship_tag": "ABX9TyPMyBFxcBNuXmO/jYxQXL81",
      "include_colab_link": true
    },
    "kernelspec": {
      "name": "python3",
      "display_name": "Python 3"
    }
  },
  "cells": [
    {
      "cell_type": "markdown",
      "metadata": {
        "id": "view-in-github",
        "colab_type": "text"
      },
      "source": [
        "<a href=\"https://colab.research.google.com/github/PranavPutsa1006/Data-Science/blob/main/LogisticRegression.ipynb\" target=\"_parent\"><img src=\"https://colab.research.google.com/assets/colab-badge.svg\" alt=\"Open In Colab\"/></a>"
      ]
    },
    {
      "cell_type": "code",
      "metadata": {
        "id": "QRFeZUshcpbW"
      },
      "source": [
        "from sklearn.datasets import make_classification\n",
        "import matplotlib.pyplot as plt\n",
        "from sklearn.linear_model import LogisticRegression\n",
        "from sklearn.model_selection import train_test_split\n",
        "from sklearn.metrics import confusion_matrix\n",
        "import pandas as pd"
      ],
      "execution_count": null,
      "outputs": []
    },
    {
      "cell_type": "code",
      "metadata": {
        "id": "lmMQ5uOzDw52"
      },
      "source": [
        "x,y = make_classification(\n",
        "    n_samples=100,\n",
        "    n_features=1,\n",
        "    n_informative=1,\n",
        "    n_redundant=0,\n",
        "    n_repeated=0,\n",
        "    n_classes=2,\n",
        "    n_clusters_per_class=1,\n",
        "    flip_y=0.03\n",
        "    )"
      ],
      "execution_count": null,
      "outputs": []
    },
    {
      "cell_type": "code",
      "metadata": {
        "colab": {
          "base_uri": "https://localhost:8080/",
          "height": 281
        },
        "id": "aIo_4wO3EoQY",
        "outputId": "653c4594-e814-4793-c625-e76b90faff84"
      },
      "source": [
        "plt.scatter(x,y,c=y,cmap='rainbow')\n",
        "plt.title('Scatter plot of logistic regression')\n",
        "plt.show()"
      ],
      "execution_count": null,
      "outputs": [
        {
          "output_type": "display_data",
          "data": {
            "image/png": "[encoded data removed]",
            "text/plain": [
              "<Figure size 432x288 with 1 Axes>"
            ]
          },
          "metadata": {
            "tags": [],
            "needs_background": "light"
          }
        }
      ]
    },
    {
      "cell_type": "code",
      "metadata": {
        "id": "Wa3z-FmfFBU7"
      },
      "source": [
        "x_train, x_test, y_train, y_test = train_test_split(x,y,random_state=1)"
      ],
      "execution_count": null,
      "outputs": []
    },
    {
      "cell_type": "code",
      "metadata": {
        "colab": {
          "base_uri": "https://localhost:8080/"
        },
        "id": "7psQN54J6xxg",
        "outputId": "525a421f-ab19-4663-bb61-c3f3749e1777"
      },
      "source": [
        "x_train, y_train"
      ],
      "execution_count": null,
      "outputs": [
        {
          "output_type": "execute_result",
          "data": {
            "text/plain": [
              "(array([[ 0.96848747],\n",
              "        [ 0.91802302],\n",
              "        [-1.39454015],\n",
              "        [-1.17950138],\n",
              "        [-1.08573773],\n",
              "        [-1.26654183],\n",
              "        [-1.49973806],\n",
              "        [ 1.04188368],\n",
              "        [-1.21182727],\n",
              "        [-0.98541881],\n",
              "        [ 1.00759635],\n",
              "        [-1.00793916],\n",
              "        [-1.15046123],\n",
              "        [-0.92513467],\n",
              "        [-1.38463465],\n",
              "        [-1.18495311],\n",
              "        [ 1.01998563],\n",
              "        [ 0.99663653],\n",
              "        [-1.23327051],\n",
              "        [-0.91268242],\n",
              "        [ 1.01757384],\n",
              "        [ 0.9909018 ],\n",
              "        [ 0.99773579],\n",
              "        [-1.36530004],\n",
              "        [ 0.90518063],\n",
              "        [ 0.9986535 ],\n",
              "        [-0.81594171],\n",
              "        [ 1.00668625],\n",
              "        [-1.04557872],\n",
              "        [ 0.998626  ],\n",
              "        [ 1.05299845],\n",
              "        [-0.82438098],\n",
              "        [-0.77426292],\n",
              "        [-0.67391153],\n",
              "        [-0.77451985],\n",
              "        [ 1.0159551 ],\n",
              "        [-0.86488464],\n",
              "        [-1.07933796],\n",
              "        [ 0.9688423 ],\n",
              "        [ 1.04482134],\n",
              "        [-1.3901954 ],\n",
              "        [-1.1531794 ],\n",
              "        [-1.4477109 ],\n",
              "        [-1.02114707],\n",
              "        [-0.45933964],\n",
              "        [-0.61202758],\n",
              "        [-1.2119771 ],\n",
              "        [ 1.00098389],\n",
              "        [ 0.99406407],\n",
              "        [ 1.05324157],\n",
              "        [ 1.03658932],\n",
              "        [ 0.93353537],\n",
              "        [ 1.03149446],\n",
              "        [-1.02726733],\n",
              "        [-1.33399171],\n",
              "        [ 1.00620203],\n",
              "        [ 0.98665941],\n",
              "        [ 1.0052897 ],\n",
              "        [ 1.14874121],\n",
              "        [ 1.02973663],\n",
              "        [ 0.91731076],\n",
              "        [ 0.92377272],\n",
              "        [ 0.97744144],\n",
              "        [ 0.97425649],\n",
              "        [-0.83339191],\n",
              "        [-0.88934538],\n",
              "        [-1.08880661],\n",
              "        [-0.79954114],\n",
              "        [ 1.01887012],\n",
              "        [ 1.05148861],\n",
              "        [-1.23414694],\n",
              "        [-0.91995065],\n",
              "        [-0.84087036],\n",
              "        [ 1.00809829],\n",
              "        [ 1.05260739]]),\n",
              " array([1, 1, 0, 0, 0, 0, 0, 1, 0, 0, 1, 0, 0, 0, 0, 0, 1, 1, 0, 0, 1, 1,\n",
              "        1, 0, 1, 1, 0, 1, 0, 1, 1, 0, 0, 0, 0, 1, 0, 0, 1, 1, 0, 0, 0, 0,\n",
              "        0, 0, 0, 1, 1, 1, 1, 1, 1, 0, 0, 1, 1, 1, 1, 1, 1, 1, 1, 1, 0, 0,\n",
              "        0, 0, 1, 1, 0, 0, 0, 1, 1]))"
            ]
          },
          "metadata": {
            "tags": []
          },
          "execution_count": 6
        }
      ]
    },
    {
      "cell_type": "code",
      "metadata": {
        "id": "de8qVR6XFRxR"
      },
      "source": [
        "log_reg=LogisticRegression()"
      ],
      "execution_count": null,
      "outputs": []
    },
    {
      "cell_type": "code",
      "metadata": {
        "colab": {
          "base_uri": "https://localhost:8080/"
        },
        "id": "pr9ZcDrAFW7y",
        "outputId": "14f306c9-dddb-4eeb-8c40-cc5e44120b4d"
      },
      "source": [
        "log_reg.fit(x_train, y_train)"
      ],
      "execution_count": null,
      "outputs": [
        {
          "output_type": "execute_result",
          "data": {
            "text/plain": [
              "LogisticRegression(C=1.0, class_weight=None, dual=False, fit_intercept=True,\n",
              "                   intercept_scaling=1, l1_ratio=None, max_iter=100,\n",
              "                   multi_class='auto', n_jobs=None, penalty='l2',\n",
              "                   random_state=None, solver='lbfgs', tol=0.0001, verbose=0,\n",
              "                   warm_start=False)"
            ]
          },
          "metadata": {
            "tags": []
          },
          "execution_count": 8
        }
      ]
    },
    {
      "cell_type": "code",
      "metadata": {
        "id": "8tqSp-EJFeT_"
      },
      "source": [
        "y_pred=log_reg.predict(x_test)"
      ],
      "execution_count": null,
      "outputs": []
    },
    {
      "cell_type": "code",
      "metadata": {
        "colab": {
          "base_uri": "https://localhost:8080/"
        },
        "id": "cvSuX2CJFsV1",
        "outputId": "de331906-9714-45e9-8778-03a399170f59"
      },
      "source": [
        "confusion_matrix(y_test,y_pred)"
      ],
      "execution_count": null,
      "outputs": [
        {
          "output_type": "execute_result",
          "data": {
            "text/plain": [
              "array([[ 9,  0],\n",
              "       [ 0, 16]])"
            ]
          },
          "metadata": {
            "tags": []
          },
          "execution_count": 8
        }
      ]
    }
  ]
}