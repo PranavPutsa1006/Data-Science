{
  "nbformat": 4,
  "nbformat_minor": 0,
  "metadata": {
    "colab": {
      "name": "ARIMA.ipynb",
      "provenance": [],
      "collapsed_sections": [],
      "authorship_tag": "ABX9TyPLoAuyKP1RuMA4MTxAeSIj",
      "include_colab_link": true
    },
    "kernelspec": {
      "name": "python3",
      "display_name": "Python 3"
    }
  },
  "cells": [
    {
      "cell_type": "markdown",
      "metadata": {
        "id": "view-in-github",
        "colab_type": "text"
      },
      "source": [
        "<a href=\"https://colab.research.google.com/github/PranavPutsa1006/Data-Science/blob/main/ARIMA.ipynb\" target=\"_parent\"><img src=\"https://colab.research.google.com/assets/colab-badge.svg\" alt=\"Open In Colab\"/></a>"
      ]
    },
    {
      "cell_type": "markdown",
      "metadata": {
        "id": "htW-2FxcwuBg"
      },
      "source": [
        "ARIMA: Auto Regressive Integrated Moving Averages."
      ]
    },
    {
      "cell_type": "code",
      "metadata": {
        "id": "KfWPGyNZqYwb"
      },
      "source": [
        "import numpy as np\n",
        "import pandas as pd\n",
        "import matplotlib.pyplot as plt\n",
        "%matplotlib inline"
      ],
      "execution_count": null,
      "outputs": []
    },
    {
      "cell_type": "code",
      "metadata": {
        "id": "arOfgJoPquUL"
      },
      "source": [
        "df=pd.read_csv(\"perrin-freres-monthly-champagne.csv\")"
      ],
      "execution_count": null,
      "outputs": []
    },
    {
      "cell_type": "code",
      "metadata": {
        "id": "pXbJE3_krxA9",
        "colab": {
          "base_uri": "https://localhost:8080/",
          "height": 195
        },
        "outputId": "e1ee66f2-0b74-4c7c-ad09-1d0b81fba719"
      },
      "source": [
        "df.head()"
      ],
      "execution_count": null,
      "outputs": [
        {
          "output_type": "execute_result",
          "data": {
            "text/html": [
              "<div>\n",
              "<style scoped>\n",
              "    .dataframe tbody tr th:only-of-type {\n",
              "        vertical-align: middle;\n",
              "    }\n",
              "\n",
              "    .dataframe tbody tr th {\n",
              "        vertical-align: top;\n",
              "    }\n",
              "\n",
              "    .dataframe thead th {\n",
              "        text-align: right;\n",
              "    }\n",
              "</style>\n",
              "<table border=\"1\" class=\"dataframe\">\n",
              "  <thead>\n",
              "    <tr style=\"text-align: right;\">\n",
              "      <th></th>\n",
              "      <th>Month</th>\n",
              "      <th>Perrin Freres monthly champagne sales millions ?64-?72</th>\n",
              "    </tr>\n",
              "  </thead>\n",
              "  <tbody>\n",
              "    <tr>\n",
              "      <th>0</th>\n",
              "      <td>1964-01</td>\n",
              "      <td>2815.0</td>\n",
              "    </tr>\n",
              "    <tr>\n",
              "      <th>1</th>\n",
              "      <td>1964-02</td>\n",
              "      <td>2672.0</td>\n",
              "    </tr>\n",
              "    <tr>\n",
              "      <th>2</th>\n",
              "      <td>1964-03</td>\n",
              "      <td>2755.0</td>\n",
              "    </tr>\n",
              "    <tr>\n",
              "      <th>3</th>\n",
              "      <td>1964-04</td>\n",
              "      <td>2721.0</td>\n",
              "    </tr>\n",
              "    <tr>\n",
              "      <th>4</th>\n",
              "      <td>1964-05</td>\n",
              "      <td>2946.0</td>\n",
              "    </tr>\n",
              "  </tbody>\n",
              "</table>\n",
              "</div>"
            ],
            "text/plain": [
              "     Month  Perrin Freres monthly champagne sales millions ?64-?72\n",
              "0  1964-01                                             2815.0     \n",
              "1  1964-02                                             2672.0     \n",
              "2  1964-03                                             2755.0     \n",
              "3  1964-04                                             2721.0     \n",
              "4  1964-05                                             2946.0     "
            ]
          },
          "metadata": {
            "tags": []
          },
          "execution_count": 3
        }
      ]
    },
    {
      "cell_type": "code",
      "metadata": {
        "id": "GDQZx4Otr5Qu",
        "colab": {
          "base_uri": "https://localhost:8080/",
          "height": 195
        },
        "outputId": "6730d01c-8e9b-4e1f-ae53-e08f2eaaa80b"
      },
      "source": [
        "df.tail()\n"
      ],
      "execution_count": null,
      "outputs": [
        {
          "output_type": "execute_result",
          "data": {
            "text/html": [
              "<div>\n",
              "<style scoped>\n",
              "    .dataframe tbody tr th:only-of-type {\n",
              "        vertical-align: middle;\n",
              "    }\n",
              "\n",
              "    .dataframe tbody tr th {\n",
              "        vertical-align: top;\n",
              "    }\n",
              "\n",
              "    .dataframe thead th {\n",
              "        text-align: right;\n",
              "    }\n",
              "</style>\n",
              "<table border=\"1\" class=\"dataframe\">\n",
              "  <thead>\n",
              "    <tr style=\"text-align: right;\">\n",
              "      <th></th>\n",
              "      <th>Month</th>\n",
              "      <th>Perrin Freres monthly champagne sales millions ?64-?72</th>\n",
              "    </tr>\n",
              "  </thead>\n",
              "  <tbody>\n",
              "    <tr>\n",
              "      <th>102</th>\n",
              "      <td>1972-07</td>\n",
              "      <td>4298.0</td>\n",
              "    </tr>\n",
              "    <tr>\n",
              "      <th>103</th>\n",
              "      <td>1972-08</td>\n",
              "      <td>1413.0</td>\n",
              "    </tr>\n",
              "    <tr>\n",
              "      <th>104</th>\n",
              "      <td>1972-09</td>\n",
              "      <td>5877.0</td>\n",
              "    </tr>\n",
              "    <tr>\n",
              "      <th>105</th>\n",
              "      <td>NaN</td>\n",
              "      <td>NaN</td>\n",
              "    </tr>\n",
              "    <tr>\n",
              "      <th>106</th>\n",
              "      <td>Perrin Freres monthly champagne sales millions...</td>\n",
              "      <td>NaN</td>\n",
              "    </tr>\n",
              "  </tbody>\n",
              "</table>\n",
              "</div>"
            ],
            "text/plain": [
              "                                                 Month  Perrin Freres monthly champagne sales millions ?64-?72\n",
              "102                                            1972-07                                             4298.0     \n",
              "103                                            1972-08                                             1413.0     \n",
              "104                                            1972-09                                             5877.0     \n",
              "105                                                NaN                                                NaN     \n",
              "106  Perrin Freres monthly champagne sales millions...                                                NaN     "
            ]
          },
          "metadata": {
            "tags": []
          },
          "execution_count": 4
        }
      ]
    },
    {
      "cell_type": "markdown",
      "metadata": {
        "id": "fCa-_rvbws9x"
      },
      "source": [
        ""
      ]
    },
    {
      "cell_type": "code",
      "metadata": {
        "id": "KJEk6obhsoox",
        "colab": {
          "base_uri": "https://localhost:8080/",
          "height": 195
        },
        "outputId": "8272d8fa-bf68-421d-e76b-ded3559bd466"
      },
      "source": [
        "##cleaning up the data\n",
        "df.columns=[\"month\",\"sales\"]\n",
        "df.head()"
      ],
      "execution_count": null,
      "outputs": [
        {
          "output_type": "execute_result",
          "data": {
            "text/html": [
              "<div>\n",
              "<style scoped>\n",
              "    .dataframe tbody tr th:only-of-type {\n",
              "        vertical-align: middle;\n",
              "    }\n",
              "\n",
              "    .dataframe tbody tr th {\n",
              "        vertical-align: top;\n",
              "    }\n",
              "\n",
              "    .dataframe thead th {\n",
              "        text-align: right;\n",
              "    }\n",
              "</style>\n",
              "<table border=\"1\" class=\"dataframe\">\n",
              "  <thead>\n",
              "    <tr style=\"text-align: right;\">\n",
              "      <th></th>\n",
              "      <th>month</th>\n",
              "      <th>sales</th>\n",
              "    </tr>\n",
              "  </thead>\n",
              "  <tbody>\n",
              "    <tr>\n",
              "      <th>0</th>\n",
              "      <td>1964-01</td>\n",
              "      <td>2815.0</td>\n",
              "    </tr>\n",
              "    <tr>\n",
              "      <th>1</th>\n",
              "      <td>1964-02</td>\n",
              "      <td>2672.0</td>\n",
              "    </tr>\n",
              "    <tr>\n",
              "      <th>2</th>\n",
              "      <td>1964-03</td>\n",
              "      <td>2755.0</td>\n",
              "    </tr>\n",
              "    <tr>\n",
              "      <th>3</th>\n",
              "      <td>1964-04</td>\n",
              "      <td>2721.0</td>\n",
              "    </tr>\n",
              "    <tr>\n",
              "      <th>4</th>\n",
              "      <td>1964-05</td>\n",
              "      <td>2946.0</td>\n",
              "    </tr>\n",
              "  </tbody>\n",
              "</table>\n",
              "</div>"
            ],
            "text/plain": [
              "     month   sales\n",
              "0  1964-01  2815.0\n",
              "1  1964-02  2672.0\n",
              "2  1964-03  2755.0\n",
              "3  1964-04  2721.0\n",
              "4  1964-05  2946.0"
            ]
          },
          "metadata": {
            "tags": []
          },
          "execution_count": 5
        }
      ]
    },
    {
      "cell_type": "code",
      "metadata": {
        "id": "dJe5OFkrtB52"
      },
      "source": [
        "##drop last two rows\n",
        "df.drop(106,axis=0,inplace=True)"
      ],
      "execution_count": null,
      "outputs": []
    },
    {
      "cell_type": "code",
      "metadata": {
        "id": "BIb-WM3puEdC",
        "colab": {
          "base_uri": "https://localhost:8080/",
          "height": 195
        },
        "outputId": "2bd173d2-05bf-4f94-f2c4-4c1d06e3bf58"
      },
      "source": [
        "df.tail()"
      ],
      "execution_count": null,
      "outputs": [
        {
          "output_type": "execute_result",
          "data": {
            "text/html": [
              "<div>\n",
              "<style scoped>\n",
              "    .dataframe tbody tr th:only-of-type {\n",
              "        vertical-align: middle;\n",
              "    }\n",
              "\n",
              "    .dataframe tbody tr th {\n",
              "        vertical-align: top;\n",
              "    }\n",
              "\n",
              "    .dataframe thead th {\n",
              "        text-align: right;\n",
              "    }\n",
              "</style>\n",
              "<table border=\"1\" class=\"dataframe\">\n",
              "  <thead>\n",
              "    <tr style=\"text-align: right;\">\n",
              "      <th></th>\n",
              "      <th>month</th>\n",
              "      <th>sales</th>\n",
              "    </tr>\n",
              "  </thead>\n",
              "  <tbody>\n",
              "    <tr>\n",
              "      <th>101</th>\n",
              "      <td>1972-06</td>\n",
              "      <td>5312.0</td>\n",
              "    </tr>\n",
              "    <tr>\n",
              "      <th>102</th>\n",
              "      <td>1972-07</td>\n",
              "      <td>4298.0</td>\n",
              "    </tr>\n",
              "    <tr>\n",
              "      <th>103</th>\n",
              "      <td>1972-08</td>\n",
              "      <td>1413.0</td>\n",
              "    </tr>\n",
              "    <tr>\n",
              "      <th>104</th>\n",
              "      <td>1972-09</td>\n",
              "      <td>5877.0</td>\n",
              "    </tr>\n",
              "    <tr>\n",
              "      <th>105</th>\n",
              "      <td>NaN</td>\n",
              "      <td>NaN</td>\n",
              "    </tr>\n",
              "  </tbody>\n",
              "</table>\n",
              "</div>"
            ],
            "text/plain": [
              "       month   sales\n",
              "101  1972-06  5312.0\n",
              "102  1972-07  4298.0\n",
              "103  1972-08  1413.0\n",
              "104  1972-09  5877.0\n",
              "105      NaN     NaN"
            ]
          },
          "metadata": {
            "tags": []
          },
          "execution_count": 7
        }
      ]
    },
    {
      "cell_type": "code",
      "metadata": {
        "id": "qiUojhHTuRe_"
      },
      "source": [
        "\n",
        "df.drop(105,axis=0,inplace=True)\n"
      ],
      "execution_count": null,
      "outputs": []
    },
    {
      "cell_type": "code",
      "metadata": {
        "id": "iKCjadYYuVxZ",
        "colab": {
          "base_uri": "https://localhost:8080/",
          "height": 195
        },
        "outputId": "cff047f4-56c2-47d9-fe8b-63e5e4e1773b"
      },
      "source": [
        "df.tail()"
      ],
      "execution_count": null,
      "outputs": [
        {
          "output_type": "execute_result",
          "data": {
            "text/html": [
              "<div>\n",
              "<style scoped>\n",
              "    .dataframe tbody tr th:only-of-type {\n",
              "        vertical-align: middle;\n",
              "    }\n",
              "\n",
              "    .dataframe tbody tr th {\n",
              "        vertical-align: top;\n",
              "    }\n",
              "\n",
              "    .dataframe thead th {\n",
              "        text-align: right;\n",
              "    }\n",
              "</style>\n",
              "<table border=\"1\" class=\"dataframe\">\n",
              "  <thead>\n",
              "    <tr style=\"text-align: right;\">\n",
              "      <th></th>\n",
              "      <th>month</th>\n",
              "      <th>sales</th>\n",
              "    </tr>\n",
              "  </thead>\n",
              "  <tbody>\n",
              "    <tr>\n",
              "      <th>100</th>\n",
              "      <td>1972-05</td>\n",
              "      <td>4618.0</td>\n",
              "    </tr>\n",
              "    <tr>\n",
              "      <th>101</th>\n",
              "      <td>1972-06</td>\n",
              "      <td>5312.0</td>\n",
              "    </tr>\n",
              "    <tr>\n",
              "      <th>102</th>\n",
              "      <td>1972-07</td>\n",
              "      <td>4298.0</td>\n",
              "    </tr>\n",
              "    <tr>\n",
              "      <th>103</th>\n",
              "      <td>1972-08</td>\n",
              "      <td>1413.0</td>\n",
              "    </tr>\n",
              "    <tr>\n",
              "      <th>104</th>\n",
              "      <td>1972-09</td>\n",
              "      <td>5877.0</td>\n",
              "    </tr>\n",
              "  </tbody>\n",
              "</table>\n",
              "</div>"
            ],
            "text/plain": [
              "       month   sales\n",
              "100  1972-05  4618.0\n",
              "101  1972-06  5312.0\n",
              "102  1972-07  4298.0\n",
              "103  1972-08  1413.0\n",
              "104  1972-09  5877.0"
            ]
          },
          "metadata": {
            "tags": []
          },
          "execution_count": 9
        }
      ]
    },
    {
      "cell_type": "code",
      "metadata": {
        "id": "jJWvcVW_ujJd"
      },
      "source": [
        "##convert month into Datetime\n",
        "df['month']=pd.to_datetime(df['month'])"
      ],
      "execution_count": null,
      "outputs": []
    },
    {
      "cell_type": "code",
      "metadata": {
        "id": "bGqrcr1fu7G7",
        "colab": {
          "base_uri": "https://localhost:8080/",
          "height": 195
        },
        "outputId": "86156727-ab7a-4d26-c43f-3d16c9fb53f3"
      },
      "source": [
        "df.head()"
      ],
      "execution_count": null,
      "outputs": [
        {
          "output_type": "execute_result",
          "data": {
            "text/html": [
              "<div>\n",
              "<style scoped>\n",
              "    .dataframe tbody tr th:only-of-type {\n",
              "        vertical-align: middle;\n",
              "    }\n",
              "\n",
              "    .dataframe tbody tr th {\n",
              "        vertical-align: top;\n",
              "    }\n",
              "\n",
              "    .dataframe thead th {\n",
              "        text-align: right;\n",
              "    }\n",
              "</style>\n",
              "<table border=\"1\" class=\"dataframe\">\n",
              "  <thead>\n",
              "    <tr style=\"text-align: right;\">\n",
              "      <th></th>\n",
              "      <th>month</th>\n",
              "      <th>sales</th>\n",
              "    </tr>\n",
              "  </thead>\n",
              "  <tbody>\n",
              "    <tr>\n",
              "      <th>0</th>\n",
              "      <td>1964-01-01</td>\n",
              "      <td>2815.0</td>\n",
              "    </tr>\n",
              "    <tr>\n",
              "      <th>1</th>\n",
              "      <td>1964-02-01</td>\n",
              "      <td>2672.0</td>\n",
              "    </tr>\n",
              "    <tr>\n",
              "      <th>2</th>\n",
              "      <td>1964-03-01</td>\n",
              "      <td>2755.0</td>\n",
              "    </tr>\n",
              "    <tr>\n",
              "      <th>3</th>\n",
              "      <td>1964-04-01</td>\n",
              "      <td>2721.0</td>\n",
              "    </tr>\n",
              "    <tr>\n",
              "      <th>4</th>\n",
              "      <td>1964-05-01</td>\n",
              "      <td>2946.0</td>\n",
              "    </tr>\n",
              "  </tbody>\n",
              "</table>\n",
              "</div>"
            ],
            "text/plain": [
              "       month   sales\n",
              "0 1964-01-01  2815.0\n",
              "1 1964-02-01  2672.0\n",
              "2 1964-03-01  2755.0\n",
              "3 1964-04-01  2721.0\n",
              "4 1964-05-01  2946.0"
            ]
          },
          "metadata": {
            "tags": []
          },
          "execution_count": 11
        }
      ]
    },
    {
      "cell_type": "code",
      "metadata": {
        "id": "sqbYNxe-vIY6",
        "colab": {
          "base_uri": "https://localhost:8080/",
          "height": 225
        },
        "outputId": "c628672d-cf95-4576-e45f-0732adf3e9d9"
      },
      "source": [
        "df.set_index('month',inplace=True)\n",
        "df.head()"
      ],
      "execution_count": null,
      "outputs": [
        {
          "output_type": "execute_result",
          "data": {
            "text/html": [
              "<div>\n",
              "<style scoped>\n",
              "    .dataframe tbody tr th:only-of-type {\n",
              "        vertical-align: middle;\n",
              "    }\n",
              "\n",
              "    .dataframe tbody tr th {\n",
              "        vertical-align: top;\n",
              "    }\n",
              "\n",
              "    .dataframe thead th {\n",
              "        text-align: right;\n",
              "    }\n",
              "</style>\n",
              "<table border=\"1\" class=\"dataframe\">\n",
              "  <thead>\n",
              "    <tr style=\"text-align: right;\">\n",
              "      <th></th>\n",
              "      <th>sales</th>\n",
              "    </tr>\n",
              "    <tr>\n",
              "      <th>month</th>\n",
              "      <th></th>\n",
              "    </tr>\n",
              "  </thead>\n",
              "  <tbody>\n",
              "    <tr>\n",
              "      <th>1964-01-01</th>\n",
              "      <td>2815.0</td>\n",
              "    </tr>\n",
              "    <tr>\n",
              "      <th>1964-02-01</th>\n",
              "      <td>2672.0</td>\n",
              "    </tr>\n",
              "    <tr>\n",
              "      <th>1964-03-01</th>\n",
              "      <td>2755.0</td>\n",
              "    </tr>\n",
              "    <tr>\n",
              "      <th>1964-04-01</th>\n",
              "      <td>2721.0</td>\n",
              "    </tr>\n",
              "    <tr>\n",
              "      <th>1964-05-01</th>\n",
              "      <td>2946.0</td>\n",
              "    </tr>\n",
              "  </tbody>\n",
              "</table>\n",
              "</div>"
            ],
            "text/plain": [
              "             sales\n",
              "month             \n",
              "1964-01-01  2815.0\n",
              "1964-02-01  2672.0\n",
              "1964-03-01  2755.0\n",
              "1964-04-01  2721.0\n",
              "1964-05-01  2946.0"
            ]
          },
          "metadata": {
            "tags": []
          },
          "execution_count": 12
        }
      ]
    },
    {
      "cell_type": "code",
      "metadata": {
        "id": "Ocv37BT9w589",
        "colab": {
          "base_uri": "https://localhost:8080/",
          "height": 284
        },
        "outputId": "005aede4-60e0-4336-d0b3-298feb88a67b"
      },
      "source": [
        "df.describe()"
      ],
      "execution_count": null,
      "outputs": [
        {
          "output_type": "execute_result",
          "data": {
            "text/html": [
              "<div>\n",
              "<style scoped>\n",
              "    .dataframe tbody tr th:only-of-type {\n",
              "        vertical-align: middle;\n",
              "    }\n",
              "\n",
              "    .dataframe tbody tr th {\n",
              "        vertical-align: top;\n",
              "    }\n",
              "\n",
              "    .dataframe thead th {\n",
              "        text-align: right;\n",
              "    }\n",
              "</style>\n",
              "<table border=\"1\" class=\"dataframe\">\n",
              "  <thead>\n",
              "    <tr style=\"text-align: right;\">\n",
              "      <th></th>\n",
              "      <th>sales</th>\n",
              "    </tr>\n",
              "  </thead>\n",
              "  <tbody>\n",
              "    <tr>\n",
              "      <th>count</th>\n",
              "      <td>105.000000</td>\n",
              "    </tr>\n",
              "    <tr>\n",
              "      <th>mean</th>\n",
              "      <td>4761.152381</td>\n",
              "    </tr>\n",
              "    <tr>\n",
              "      <th>std</th>\n",
              "      <td>2553.502601</td>\n",
              "    </tr>\n",
              "    <tr>\n",
              "      <th>min</th>\n",
              "      <td>1413.000000</td>\n",
              "    </tr>\n",
              "    <tr>\n",
              "      <th>25%</th>\n",
              "      <td>3113.000000</td>\n",
              "    </tr>\n",
              "    <tr>\n",
              "      <th>50%</th>\n",
              "      <td>4217.000000</td>\n",
              "    </tr>\n",
              "    <tr>\n",
              "      <th>75%</th>\n",
              "      <td>5221.000000</td>\n",
              "    </tr>\n",
              "    <tr>\n",
              "      <th>max</th>\n",
              "      <td>13916.000000</td>\n",
              "    </tr>\n",
              "  </tbody>\n",
              "</table>\n",
              "</div>"
            ],
            "text/plain": [
              "              sales\n",
              "count    105.000000\n",
              "mean    4761.152381\n",
              "std     2553.502601\n",
              "min     1413.000000\n",
              "25%     3113.000000\n",
              "50%     4217.000000\n",
              "75%     5221.000000\n",
              "max    13916.000000"
            ]
          },
          "metadata": {
            "tags": []
          },
          "execution_count": 13
        }
      ]
    },
    {
      "cell_type": "markdown",
      "metadata": {
        "id": "kxEIYoHzkpMd"
      },
      "source": [
        "Visualization"
      ]
    },
    {
      "cell_type": "code",
      "metadata": {
        "id": "ImzH-MR_xLvd",
        "colab": {
          "base_uri": "https://localhost:8080/",
          "height": 296
        },
        "outputId": "2f1c7570-42ef-4bbf-e0a2-b3e631ac063d"
      },
      "source": [
        "df.plot()"
      ],
      "execution_count": null,
      "outputs": [
        {
          "output_type": "execute_result",
          "data": {
            "text/plain": [
              "<matplotlib.axes._subplots.AxesSubplot at 0x7f074ccb2898>"
            ]
          },
          "metadata": {
            "tags": []
          },
          "execution_count": 15
        },
        {
          "output_type": "display_data",
          "data": {
            "image/png": "[encoded data removed]",
            "text/plain": [
              "<Figure size 432x288 with 1 Axes>"
            ]
          },
          "metadata": {
            "tags": [],
            "needs_background": "light"
          }
        }
      ]
    },
    {
      "cell_type": "code",
      "metadata": {
        "id": "dlcChy27xUKP",
        "colab": {
          "base_uri": "https://localhost:8080/"
        },
        "outputId": "d0723b5f-8506-499a-f278-7cda4d83bf1f"
      },
      "source": [
        "##testing for stationarity\n",
        "from statsmodels.tsa.stattools import adfuller"
      ],
      "execution_count": null,
      "outputs": [
        {
          "output_type": "stream",
          "text": [
            "/usr/local/lib/python3.6/dist-packages/statsmodels/tools/_testing.py:19: FutureWarning: pandas.util.testing is deprecated. Use the functions in the public API at pandas.testing instead.\n",
            "  import pandas.util.testing as tm\n"
          ],
          "name": "stderr"
        }
      ]
    },
    {
      "cell_type": "code",
      "metadata": {
        "id": "jwrA8s4SxkYC"
      },
      "source": [
        "test_result=adfuller(df['sales'])"
      ],
      "execution_count": null,
      "outputs": []
    },
    {
      "cell_type": "code",
      "metadata": {
        "id": "h3L8ZRrUydGu"
      },
      "source": [
        "#H0: It is not stationary\n",
        "#H1: It is stationary\n",
        "\n",
        "def adfuller_test(sales):\n",
        "  result=adfuller(sales)\n",
        "  labels = ['ADF Test Statistic','p-value','#lags used','Number of Observations Used']\n",
        "  for value,label in zip(result,labels):\n",
        "    print(label+' : '+str(value) )\n",
        "  if result[1] <= 0.05:\n",
        "    print(\"strong evidence\")\n",
        "  else:\n",
        "    print(\"weak evidence\")"
      ],
      "execution_count": null,
      "outputs": []
    },
    {
      "cell_type": "code",
      "metadata": {
        "id": "dA_opXi_DCXE",
        "colab": {
          "base_uri": "https://localhost:8080/"
        },
        "outputId": "a9185d33-30a0-417a-e9bb-cc11c09e75ad"
      },
      "source": [
        "adfuller_test(df['sales'])"
      ],
      "execution_count": null,
      "outputs": [
        {
          "output_type": "stream",
          "text": [
            "ADF Test Statistic : -1.8335930563276193\n",
            "p-value : 0.36391577166024686\n",
            "#lags used : 11\n",
            "Number of Observations Used : 93\n",
            "weak evidence\n"
          ],
          "name": "stdout"
        }
      ]
    },
    {
      "cell_type": "markdown",
      "metadata": {
        "id": "F74hnh2CoTKn"
      },
      "source": [
        "Differencing"
      ]
    },
    {
      "cell_type": "code",
      "metadata": {
        "colab": {
          "base_uri": "https://localhost:8080/"
        },
        "id": "H1wnRbpThsUJ",
        "outputId": "e9842b82-1031-46a8-9074-a52df011d0c3"
      },
      "source": [
        "df['sales']"
      ],
      "execution_count": null,
      "outputs": [
        {
          "output_type": "execute_result",
          "data": {
            "text/plain": [
              "month\n",
              "1964-01-01    2815.0\n",
              "1964-02-01    2672.0\n",
              "1964-03-01    2755.0\n",
              "1964-04-01    2721.0\n",
              "1964-05-01    2946.0\n",
              "               ...  \n",
              "1972-05-01    4618.0\n",
              "1972-06-01    5312.0\n",
              "1972-07-01    4298.0\n",
              "1972-08-01    1413.0\n",
              "1972-09-01    5877.0\n",
              "Name: sales, Length: 105, dtype: float64"
            ]
          },
          "metadata": {
            "tags": []
          },
          "execution_count": 35
        }
      ]
    },
    {
      "cell_type": "code",
      "metadata": {
        "id": "ahDb0-V2FQ-T"
      },
      "source": [
        "df['sales first difference'] = df['sales'] - df['sales'].shift(1)"
      ],
      "execution_count": null,
      "outputs": []
    },
    {
      "cell_type": "code",
      "metadata": {
        "id": "4Ma0Bu3oiauc",
        "colab": {
          "base_uri": "https://localhost:8080/",
          "height": 431
        },
        "outputId": "77e8dff7-0b65-4e71-f64d-bc082fc75072"
      },
      "source": [
        "df"
      ],
      "execution_count": null,
      "outputs": [
        {
          "output_type": "execute_result",
          "data": {
            "text/html": [
              "<div>\n",
              "<style scoped>\n",
              "    .dataframe tbody tr th:only-of-type {\n",
              "        vertical-align: middle;\n",
              "    }\n",
              "\n",
              "    .dataframe tbody tr th {\n",
              "        vertical-align: top;\n",
              "    }\n",
              "\n",
              "    .dataframe thead th {\n",
              "        text-align: right;\n",
              "    }\n",
              "</style>\n",
              "<table border=\"1\" class=\"dataframe\">\n",
              "  <thead>\n",
              "    <tr style=\"text-align: right;\">\n",
              "      <th></th>\n",
              "      <th>sales</th>\n",
              "      <th>sales first difference</th>\n",
              "    </tr>\n",
              "    <tr>\n",
              "      <th>month</th>\n",
              "      <th></th>\n",
              "      <th></th>\n",
              "    </tr>\n",
              "  </thead>\n",
              "  <tbody>\n",
              "    <tr>\n",
              "      <th>1964-01-01</th>\n",
              "      <td>2815.0</td>\n",
              "      <td>NaN</td>\n",
              "    </tr>\n",
              "    <tr>\n",
              "      <th>1964-02-01</th>\n",
              "      <td>2672.0</td>\n",
              "      <td>-143.0</td>\n",
              "    </tr>\n",
              "    <tr>\n",
              "      <th>1964-03-01</th>\n",
              "      <td>2755.0</td>\n",
              "      <td>83.0</td>\n",
              "    </tr>\n",
              "    <tr>\n",
              "      <th>1964-04-01</th>\n",
              "      <td>2721.0</td>\n",
              "      <td>-34.0</td>\n",
              "    </tr>\n",
              "    <tr>\n",
              "      <th>1964-05-01</th>\n",
              "      <td>2946.0</td>\n",
              "      <td>225.0</td>\n",
              "    </tr>\n",
              "    <tr>\n",
              "      <th>...</th>\n",
              "      <td>...</td>\n",
              "      <td>...</td>\n",
              "    </tr>\n",
              "    <tr>\n",
              "      <th>1972-05-01</th>\n",
              "      <td>4618.0</td>\n",
              "      <td>-170.0</td>\n",
              "    </tr>\n",
              "    <tr>\n",
              "      <th>1972-06-01</th>\n",
              "      <td>5312.0</td>\n",
              "      <td>694.0</td>\n",
              "    </tr>\n",
              "    <tr>\n",
              "      <th>1972-07-01</th>\n",
              "      <td>4298.0</td>\n",
              "      <td>-1014.0</td>\n",
              "    </tr>\n",
              "    <tr>\n",
              "      <th>1972-08-01</th>\n",
              "      <td>1413.0</td>\n",
              "      <td>-2885.0</td>\n",
              "    </tr>\n",
              "    <tr>\n",
              "      <th>1972-09-01</th>\n",
              "      <td>5877.0</td>\n",
              "      <td>4464.0</td>\n",
              "    </tr>\n",
              "  </tbody>\n",
              "</table>\n",
              "<p>105 rows × 2 columns</p>\n",
              "</div>"
            ],
            "text/plain": [
              "             sales  sales first difference\n",
              "month                                     \n",
              "1964-01-01  2815.0                     NaN\n",
              "1964-02-01  2672.0                  -143.0\n",
              "1964-03-01  2755.0                    83.0\n",
              "1964-04-01  2721.0                   -34.0\n",
              "1964-05-01  2946.0                   225.0\n",
              "...            ...                     ...\n",
              "1972-05-01  4618.0                  -170.0\n",
              "1972-06-01  5312.0                   694.0\n",
              "1972-07-01  4298.0                 -1014.0\n",
              "1972-08-01  1413.0                 -2885.0\n",
              "1972-09-01  5877.0                  4464.0\n",
              "\n",
              "[105 rows x 2 columns]"
            ]
          },
          "metadata": {
            "tags": []
          },
          "execution_count": 36
        }
      ]
    },
    {
      "cell_type": "code",
      "metadata": {
        "colab": {
          "base_uri": "https://localhost:8080/"
        },
        "id": "9MPugv7rzFs_",
        "outputId": "78584382-d19c-4ccc-a2ca-3b4c970e9460"
      },
      "source": [
        "df['sales'].shift(1)"
      ],
      "execution_count": null,
      "outputs": [
        {
          "output_type": "execute_result",
          "data": {
            "text/plain": [
              "month\n",
              "1964-01-01       NaN\n",
              "1964-02-01    2815.0\n",
              "1964-03-01    2672.0\n",
              "1964-04-01    2755.0\n",
              "1964-05-01    2721.0\n",
              "               ...  \n",
              "1972-05-01    4788.0\n",
              "1972-06-01    4618.0\n",
              "1972-07-01    5312.0\n",
              "1972-08-01    4298.0\n",
              "1972-09-01    1413.0\n",
              "Name: sales, Length: 105, dtype: float64"
            ]
          },
          "metadata": {
            "tags": []
          },
          "execution_count": 33
        }
      ]
    },
    {
      "cell_type": "code",
      "metadata": {
        "id": "6-axBoQjFfyQ"
      },
      "source": [
        "df['seasonal first difference'] = df['sales'] - df['sales'].shift(12)"
      ],
      "execution_count": null,
      "outputs": []
    },
    {
      "cell_type": "code",
      "metadata": {
        "id": "7wXsU96hFnGb",
        "colab": {
          "base_uri": "https://localhost:8080/",
          "height": 520
        },
        "outputId": "4ddce581-d60e-4f7b-b9ba-f2f379f158de"
      },
      "source": [
        "df.head(14)"
      ],
      "execution_count": null,
      "outputs": [
        {
          "output_type": "execute_result",
          "data": {
            "text/html": [
              "<div>\n",
              "<style scoped>\n",
              "    .dataframe tbody tr th:only-of-type {\n",
              "        vertical-align: middle;\n",
              "    }\n",
              "\n",
              "    .dataframe tbody tr th {\n",
              "        vertical-align: top;\n",
              "    }\n",
              "\n",
              "    .dataframe thead th {\n",
              "        text-align: right;\n",
              "    }\n",
              "</style>\n",
              "<table border=\"1\" class=\"dataframe\">\n",
              "  <thead>\n",
              "    <tr style=\"text-align: right;\">\n",
              "      <th></th>\n",
              "      <th>sales</th>\n",
              "      <th>seasonal first difference</th>\n",
              "    </tr>\n",
              "    <tr>\n",
              "      <th>month</th>\n",
              "      <th></th>\n",
              "      <th></th>\n",
              "    </tr>\n",
              "  </thead>\n",
              "  <tbody>\n",
              "    <tr>\n",
              "      <th>1964-01-01</th>\n",
              "      <td>2815.0</td>\n",
              "      <td>NaN</td>\n",
              "    </tr>\n",
              "    <tr>\n",
              "      <th>1964-02-01</th>\n",
              "      <td>2672.0</td>\n",
              "      <td>NaN</td>\n",
              "    </tr>\n",
              "    <tr>\n",
              "      <th>1964-03-01</th>\n",
              "      <td>2755.0</td>\n",
              "      <td>NaN</td>\n",
              "    </tr>\n",
              "    <tr>\n",
              "      <th>1964-04-01</th>\n",
              "      <td>2721.0</td>\n",
              "      <td>NaN</td>\n",
              "    </tr>\n",
              "    <tr>\n",
              "      <th>1964-05-01</th>\n",
              "      <td>2946.0</td>\n",
              "      <td>NaN</td>\n",
              "    </tr>\n",
              "    <tr>\n",
              "      <th>1964-06-01</th>\n",
              "      <td>3036.0</td>\n",
              "      <td>NaN</td>\n",
              "    </tr>\n",
              "    <tr>\n",
              "      <th>1964-07-01</th>\n",
              "      <td>2282.0</td>\n",
              "      <td>NaN</td>\n",
              "    </tr>\n",
              "    <tr>\n",
              "      <th>1964-08-01</th>\n",
              "      <td>2212.0</td>\n",
              "      <td>NaN</td>\n",
              "    </tr>\n",
              "    <tr>\n",
              "      <th>1964-09-01</th>\n",
              "      <td>2922.0</td>\n",
              "      <td>NaN</td>\n",
              "    </tr>\n",
              "    <tr>\n",
              "      <th>1964-10-01</th>\n",
              "      <td>4301.0</td>\n",
              "      <td>NaN</td>\n",
              "    </tr>\n",
              "    <tr>\n",
              "      <th>1964-11-01</th>\n",
              "      <td>5764.0</td>\n",
              "      <td>NaN</td>\n",
              "    </tr>\n",
              "    <tr>\n",
              "      <th>1964-12-01</th>\n",
              "      <td>7312.0</td>\n",
              "      <td>NaN</td>\n",
              "    </tr>\n",
              "    <tr>\n",
              "      <th>1965-01-01</th>\n",
              "      <td>2541.0</td>\n",
              "      <td>-274.0</td>\n",
              "    </tr>\n",
              "    <tr>\n",
              "      <th>1965-02-01</th>\n",
              "      <td>2475.0</td>\n",
              "      <td>-197.0</td>\n",
              "    </tr>\n",
              "  </tbody>\n",
              "</table>\n",
              "</div>"
            ],
            "text/plain": [
              "             sales  seasonal first difference\n",
              "month                                        \n",
              "1964-01-01  2815.0                        NaN\n",
              "1964-02-01  2672.0                        NaN\n",
              "1964-03-01  2755.0                        NaN\n",
              "1964-04-01  2721.0                        NaN\n",
              "1964-05-01  2946.0                        NaN\n",
              "1964-06-01  3036.0                        NaN\n",
              "1964-07-01  2282.0                        NaN\n",
              "1964-08-01  2212.0                        NaN\n",
              "1964-09-01  2922.0                        NaN\n",
              "1964-10-01  4301.0                        NaN\n",
              "1964-11-01  5764.0                        NaN\n",
              "1964-12-01  7312.0                        NaN\n",
              "1965-01-01  2541.0                     -274.0\n",
              "1965-02-01  2475.0                     -197.0"
            ]
          },
          "metadata": {
            "tags": []
          },
          "execution_count": 70
        }
      ]
    },
    {
      "cell_type": "code",
      "metadata": {
        "colab": {
          "base_uri": "https://localhost:8080/"
        },
        "id": "CUSPp2-FJ84j",
        "outputId": "b8311158-c5f8-4814-867b-95ab5a14cc4e"
      },
      "source": [
        "## again test dickey_fuller test\n",
        "adfuller_test(df['seasonal first difference'].dropna())"
      ],
      "execution_count": null,
      "outputs": [
        {
          "output_type": "stream",
          "text": [
            "ADF Test Statistic : -7.626619157213166\n",
            "p-value : 2.0605796968136632e-11\n",
            "#lags used : 0\n",
            "Number of Observations Used : 92\n",
            "strong evidence\n"
          ],
          "name": "stdout"
        }
      ]
    },
    {
      "cell_type": "code",
      "metadata": {
        "id": "7-aJTk6AKamH",
        "colab": {
          "base_uri": "https://localhost:8080/",
          "height": 297
        },
        "outputId": "22f178c5-5593-4c0f-cd0a-0ef36136c2b6"
      },
      "source": [
        "df['seasonal first difference'].plot()"
      ],
      "execution_count": null,
      "outputs": [
        {
          "output_type": "execute_result",
          "data": {
            "text/plain": [
              "<matplotlib.axes._subplots.AxesSubplot at 0x7f7447115d68>"
            ]
          },
          "metadata": {
            "tags": []
          },
          "execution_count": 72
        },
        {
          "output_type": "display_data",
          "data": {
            "image/png": "[encoded data removed]",
            "text/plain": [
              "<Figure size 432x288 with 1 Axes>"
            ]
          },
          "metadata": {
            "tags": [],
            "needs_background": "light"
          }
        }
      ]
    },
    {
      "cell_type": "code",
      "metadata": {
        "id": "Py6u5ZePK_e5",
        "colab": {
          "base_uri": "https://localhost:8080/",
          "height": 283
        },
        "outputId": "d1b531c1-439e-4edd-887d-8adff63b4116"
      },
      "source": [
        "from pandas.plotting import autocorrelation_plot\n",
        "autocorrelation_plot(df['sales'])\n",
        "plt.show()"
      ],
      "execution_count": null,
      "outputs": [
        {
          "output_type": "display_data",
          "data": {
            "image/png": "[encoded data removed]",
            "text/plain": [
              "<Figure size 432x288 with 1 Axes>"
            ]
          },
          "metadata": {
            "tags": [],
            "needs_background": "light"
          }
        }
      ]
    }
  ]
}