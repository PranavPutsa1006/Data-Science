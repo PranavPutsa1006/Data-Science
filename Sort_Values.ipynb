{
  "nbformat": 4,
  "nbformat_minor": 0,
  "metadata": {
    "colab": {
      "name": "5. Sort Values org.ipynb",
      "provenance": [],
      "collapsed_sections": [],
      "authorship_tag": "ABX9TyPtZZ5StGxCrcDRJBWyXyiC",
      "include_colab_link": true
    },
    "kernelspec": {
      "name": "python3",
      "display_name": "Python 3"
    }
  },
  "cells": [
    {
      "cell_type": "markdown",
      "metadata": {
        "id": "view-in-github",
        "colab_type": "text"
      },
      "source": [
        "<a href=\"https://colab.research.google.com/github/PranavPutsa1006/Data-Science/blob/main/Sort_Values.ipynb\" target=\"_parent\"><img src=\"https://colab.research.google.com/assets/colab-badge.svg\" alt=\"Open In Colab\"/></a>"
      ]
    },
    {
      "cell_type": "markdown",
      "metadata": {
        "id": "23W4a-gTrJLo"
      },
      "source": [
        "**How to Sort Pandas DataFrame?** \n",
        "\n",
        "use ***df.sort_values*** in order to sort Pandas DataFrame."
      ]
    },
    {
      "cell_type": "code",
      "metadata": {
        "id": "iSxCeciSq6QU",
        "colab": {
          "base_uri": "https://localhost:8080/",
          "height": 101
        },
        "outputId": "2d9ac086-23b5-4755-cb9d-6d939dea0108"
      },
      "source": [
        "#create a dataframe as follows:\n",
        "import pandas as pd\n",
        " \n",
        "cars = {'Brand': ['Honda Civic','Toyota Corolla','Ford Focus','Audi A4'],\n",
        "        'Price': [22000,25000,27000,35000],\n",
        "        'Year': [2015,2013,2018,2018]\n",
        "        }\n",
        " \n",
        "df = pd.DataFrame(cars, columns= ['Brand', 'Price','Year'])\n",
        "\n",
        "print (df)\n"
      ],
      "execution_count": null,
      "outputs": [
        {
          "output_type": "stream",
          "text": [
            "            Brand  Price  Year\n",
            "0     Honda Civic  22000  2015\n",
            "1  Toyota Corolla  25000  2013\n",
            "2      Ford Focus  27000  2018\n",
            "3         Audi A4  35000  2018\n"
          ],
          "name": "stdout"
        }
      ]
    },
    {
      "cell_type": "markdown",
      "metadata": {
        "id": "s_ABCLhurswO"
      },
      "source": [
        "**Sort Pandas DataFrame in an ascending order**\n",
        "\n",
        "Let’s say that you want to sort the DataFrame, such that the Brand will be displayed in an ascending order. \n",
        "\n",
        "In that case, you’ll need to add the following syntax to the code:\n",
        "\n",
        "df.sort_values(by=['Brand'], inplace=True)\n",
        "\n",
        "Note that unless specified, the values will be sorted in an ascending order by default.\n",
        "\n"
      ]
    },
    {
      "cell_type": "code",
      "metadata": {
        "id": "SXc_L4YHsC0w",
        "colab": {
          "base_uri": "https://localhost:8080/",
          "height": 109
        },
        "outputId": "87f54e78-5727-48f4-d60b-c2087fbd5674"
      },
      "source": [
        "# sort - ascending order\n",
        "import pandas as pd\n",
        " \n",
        "cars = {'Brand': ['Honda Civic','Toyota Corolla','Ford Focus','Audi A4'],\n",
        "        'Price': [22000,25000,27000,35000],\n",
        "        'Year': [2015,2013,2018,2018]\n",
        "        }\n",
        " \n",
        "df = pd.DataFrame(cars, columns= ['Brand', 'Price','Year'])\n",
        "\n",
        "# sort Brand - ascending order\n",
        "df.sort_values(by=['Brand'], inplace=True)\n",
        "\n",
        "print (df)"
      ],
      "execution_count": null,
      "outputs": [
        {
          "output_type": "stream",
          "text": [
            "            Brand  Price  Year\n",
            "3         Audi A4  35000  2018\n",
            "2      Ford Focus  27000  2018\n",
            "0     Honda Civic  22000  2015\n",
            "1  Toyota Corolla  25000  2013\n"
          ],
          "name": "stdout"
        }
      ]
    },
    {
      "cell_type": "markdown",
      "metadata": {
        "id": "j647FAMhsTi-"
      },
      "source": [
        "**Sort Pandas DataFrame in a descending order**\n",
        "\n",
        "Alternatively, you can sort the Brand column in a descending order. To do that, simply add the condition of ascending=False in this manner:\n",
        "\n",
        "df.sort_values(by=['Brand'], inplace=True, ascending=False)\n"
      ]
    },
    {
      "cell_type": "code",
      "metadata": {
        "id": "cAGgUrIpscoy",
        "colab": {
          "base_uri": "https://localhost:8080/",
          "height": 109
        },
        "outputId": "fdff8d53-52d6-4465-865f-1771a8a1bff9"
      },
      "source": [
        "# sort - descending order\n",
        "import pandas as pd\n",
        " \n",
        "cars = {'Brand': ['Honda Civic','Toyota Corolla','Ford Focus','Audi A4'],\n",
        "        'Price': [22000,25000,27000,35000],\n",
        "        'Year': [2015,2013,2018,2018]\n",
        "        }\n",
        " \n",
        "df = pd.DataFrame(cars, columns= ['Brand', 'Price','Year'])\n",
        "\n",
        "# sort Brand - descending order\n",
        "df.sort_values(by=['Brand'], inplace=True, ascending=False)\n",
        "\n",
        "print (df)"
      ],
      "execution_count": null,
      "outputs": [
        {
          "output_type": "stream",
          "text": [
            "            Brand  Price  Year\n",
            "1  Toyota Corolla  25000  2013\n",
            "0     Honda Civic  22000  2015\n",
            "2      Ford Focus  27000  2018\n",
            "3         Audi A4  35000  2018\n"
          ],
          "name": "stdout"
        }
      ]
    },
    {
      "cell_type": "markdown",
      "metadata": {
        "id": "wZqmDz5UsjAo"
      },
      "source": [
        "**Sort by multiple columns**\n",
        "\n",
        "In that case, you may use the following template to sort by multiple columns:\n",
        "\n",
        "df.sort_values(by=['First Column','Second Column',...], inplace=True)\n",
        "\n",
        "Suppose that you want to sort by both the ‘Year’ and the ‘Price.’ Since you have two records where the Year is 2018 (i.e., for the Ford Focus and Audi A4), then sorting by a second column – the ‘Price’ column –  would be useful:\n",
        "\n",
        " df.sort_values(by=['Year','Price'], inplace=True)\n"
      ]
    },
    {
      "cell_type": "code",
      "metadata": {
        "id": "PNlUW-DVszEd",
        "colab": {
          "base_uri": "https://localhost:8080/",
          "height": 109
        },
        "outputId": "eb980844-fa1c-44b4-996f-d30237290001"
      },
      "source": [
        "# sort by multiple columns\n",
        "import pandas as pd\n",
        " \n",
        "cars = {'Brand': ['Honda Civic','Toyota Corolla','Ford Focus','Audi A4'],\n",
        "        'Price': [22000,25000,27000,35000],\n",
        "        'Year': [2015,2013,2018,2018]\n",
        "        }\n",
        " \n",
        "df = pd.DataFrame(cars, columns= ['Brand', 'Price','Year'])\n",
        "\n",
        "# sort by multiple columns: Year and Price\n",
        "df.sort_values(by=['Year','Price'], inplace=True)\n",
        "\n",
        "print (df)"
      ],
      "execution_count": null,
      "outputs": [
        {
          "output_type": "stream",
          "text": [
            "            Brand  Price  Year\n",
            "1  Toyota Corolla  25000  2013\n",
            "0     Honda Civic  22000  2015\n",
            "2      Ford Focus  27000  2018\n",
            "3         Audi A4  35000  2018\n"
          ],
          "name": "stdout"
        }
      ]
    },
    {
      "cell_type": "markdown",
      "metadata": {
        "id": "zavjDzrwtVW-"
      },
      "source": [
        "Note: that the ‘Year’ column takes the priority when performing the sorting, as it was placed in the df.sort_values before the ‘Price’ column."
      ]
    },
    {
      "cell_type": "code",
      "metadata": {
        "id": "p5Sm535LtaIl",
        "colab": {
          "base_uri": "https://localhost:8080/",
          "height": 109
        },
        "outputId": "e7aeea56-3633-46d2-ba46-056aae20c84c"
      },
      "source": [
        "#Finally, let’s sort by the columns of ‘Year’ and ‘Brand’ as follows:\n",
        "#df.sort_values(by=['Year','Brand'], inplace=True)\n",
        "# sort by multiple columns\n",
        "import pandas as pd\n",
        " \n",
        "cars = {'Brand': ['Honda Civic','Toyota Corolla','Ford Focus','Audi A4'],\n",
        "        'Price': [22000,25000,27000,35000],\n",
        "        'Year': [2015,2013,2018,2018]\n",
        "        }\n",
        " \n",
        "df = pd.DataFrame(cars, columns= ['Brand', 'Price','Year'])\n",
        "\n",
        "# sort by multiple columns: Year and Brand\n",
        "df.sort_values(by=['Year','Brand'], inplace=True)\n",
        "\n",
        "print (df)"
      ],
      "execution_count": null,
      "outputs": [
        {
          "output_type": "stream",
          "text": [
            "            Brand  Price  Year\n",
            "1  Toyota Corolla  25000  2013\n",
            "0     Honda Civic  22000  2015\n",
            "3         Audi A4  35000  2018\n",
            "2      Ford Focus  27000  2018\n"
          ],
          "name": "stdout"
        }
      ]
    },
    {
      "cell_type": "markdown",
      "metadata": {
        "id": "Yk14z7nctwbJ"
      },
      "source": [
        "You’ll now see that all the records are sorted by both the year and the brand in an ascending order, so this time Audi A4 would appear prior to Ford Focus."
      ]
    }
  ]
}